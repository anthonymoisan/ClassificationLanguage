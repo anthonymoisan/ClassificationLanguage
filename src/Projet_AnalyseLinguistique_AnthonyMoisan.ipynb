{
 "cells": [
  {
   "cell_type": "markdown",
   "metadata": {},
   "source": [
    "# Constitution des bases de données \n",
    "Cette première cellule vous présente la manière avec laquelle j'ai obtenu les features/caractéristiques à partir des jeux de données de \"textes\"\n",
    "Pour obtenir les textes (et les \"filtrer\") j'ai utiliser le script ./textDatasets/conversion.sh (qui prends, par exemple les fichiers FR_* les concatene, supprime les accents (en gardant les caracteres sans accents) et enfin transforme en minuscules).\n",
    "J'ai utilisé les livres \"open data\" de la base du site Guttenberg Project (qui archive énormément de livres en texte, \"txt\" simples\", tombés dans le domaine publique)."
   ]
  },
  {
   "cell_type": "markdown",
   "metadata": {},
   "source": [
    "## Code réalisé par R. Cogranne"
   ]
  },
  {
   "cell_type": "code",
   "execution_count": 1,
   "metadata": {},
   "outputs": [],
   "source": [
    "import numpy as np\n",
    "import string\n",
    "BlockSz=1000\n",
    "\n",
    "# On procede de la même façon pour les differents languages\n",
    "# Ouverture du fichier texte contenant les caracteres alphabetiques \"brutes\"\n",
    "textGERMAN = open('../input/GERMAN')\n",
    "# Lecture\n",
    "DE=textGERMAN.read()\n",
    "textGERMAN.close()\n",
    "# Calcule du nombre de blocks (arrondi par defaut) de BlockSz caracteres\n",
    "NbBlock=int(np.floor(len(DE)/BlockSz))\n",
    "# Creation des tableaux de donnees textuelles et de features\n",
    "DataDE=[]\n",
    "FeaDE =[]\n",
    "# Pour tous les indices de blocks ...\n",
    "for index in range(NbBlock):\n",
    "    # Exctraction des donnees texte du block\n",
    "    DataDE.append(DE[index*BlockSz:(index+1)*BlockSz])\n",
    "    # Comptage de chacun des caracteres\n",
    "    countDE=[]\n",
    "    for letter in string.ascii_lowercase:\n",
    "        countDE.append(DataDE[index].count(letter))\n",
    "    # Comptage de toutes les 26**2 paires de caracteres possibles\n",
    "    for letter1 in string.ascii_lowercase:\n",
    "        for letter2 in string.ascii_lowercase:\n",
    "            countDE.append(DataDE[index].count(letter1+letter2))\n",
    "    # Une fois le vecteur de décompte obtenu  .... on ajoute ce vecteur (contenant tous les decomptes) au tableaux des features\n",
    "    FeaDE.append(countDE)\n",
    "\n",
    "# On procede de la même façon pour les differents languages ....\n",
    "textFRENCH = open('../input/FRENCH')\n",
    "FR=textFRENCH.read()\n",
    "textFRENCH.close()\n",
    "NbBlock=int(np.floor(len(FR)/BlockSz))\n",
    "DataFR=[]\n",
    "FeaFR =[]\n",
    "for index in range(NbBlock):\n",
    "    DataFR.append(FR[index*BlockSz:(index+1)*BlockSz])\n",
    "    countFR=[]\n",
    "    for letter in string.ascii_lowercase:\n",
    "        countFR.append(DataFR[index].count(letter))\n",
    "    for letter1 in string.ascii_lowercase:\n",
    "        for letter2 in string.ascii_lowercase:\n",
    "            countFR.append(DataFR[index].count(letter1+letter2))\n",
    "    FeaFR.append(countFR)\n",
    "\n",
    "# On procede de la même façon pour les differents languages ....\n",
    "textSPANISH = open('../input/SPANISH')\n",
    "ES=textSPANISH.read()\n",
    "textSPANISH.close()\n",
    "NbBlock=int(np.floor(len(ES)/BlockSz))\n",
    "DataES=[]\n",
    "FeaES =[]\n",
    "for index in range(NbBlock):\n",
    "    DataES.append(ES[index*BlockSz:(index+1)*BlockSz])\n",
    "    countES=[]\n",
    "    for letter in string.ascii_lowercase:\n",
    "        countES.append(DataES[index].count(letter))\n",
    "    for letter1 in string.ascii_lowercase:\n",
    "        for letter2 in string.ascii_lowercase:\n",
    "            countES.append(DataES[index].count(letter1+letter2))\n",
    "    FeaES.append(countES)\n",
    "\n",
    "# On procede de la même façon pour les differents languages ....\n",
    "textENGLISH = open('../input/ENGLISH')\n",
    "EN=textENGLISH.read()\n",
    "textENGLISH.close()\n",
    "NbBlock=int(np.floor(len(EN)/BlockSz))\n",
    "DataEN=[]\n",
    "FeaEN =[]\n",
    "for index in range(NbBlock):\n",
    "    DataEN.append(EN[index*BlockSz:(index+1)*BlockSz])\n",
    "    countEN=[]\n",
    "    for letter in string.ascii_lowercase:\n",
    "        countEN.append(DataEN[index].count(letter))\n",
    "    for letter1 in string.ascii_lowercase:\n",
    "        for letter2 in string.ascii_lowercase:\n",
    "            countEN.append(DataEN[index].count(letter1+letter2))\n",
    "    FeaEN.append(countEN)"
   ]
  },
  {
   "cell_type": "code",
   "execution_count": 2,
   "metadata": {},
   "outputs": [],
   "source": [
    "# Ici on sauvegarde les caracteristiques, pour eviter de les recalculer à chaque fois ....\n",
    "np.save('./FeaEN.npy', FeaEN)\n",
    "np.save('./FeaFR.npy', FeaFR)\n",
    "np.save('./FeaDE.npy', FeaDE)\n",
    "np.save('./FeaES.npy', FeaES)"
   ]
  },
  {
   "cell_type": "code",
   "execution_count": 3,
   "metadata": {},
   "outputs": [],
   "source": [
    "# ... On peut simplement les loader (et commenter les cellules precedentes)\n",
    "FeaEN = np.load('./FeaEN.npy')\n",
    "FeaFR = np.load('./FeaFR.npy')\n",
    "FeaDE = np.load('./FeaDE.npy')\n",
    "FeaES = np.load('./FeaES.npy')"
   ]
  },
  {
   "cell_type": "code",
   "execution_count": 4,
   "metadata": {
    "scrolled": true
   },
   "outputs": [
    {
     "name": "stdout",
     "output_type": "stream",
     "text": [
      "(4329, 702)\n",
      "(4116, 702)\n",
      "(4321, 702)\n",
      "(4209, 702)\n"
     ]
    }
   ],
   "source": [
    "# Pour plus de \"facilier de manipulation\" on trasforme les donnes en \"matrice numpy\" et on affiche la dimension de la base de donnees.\n",
    "FeaDE = np.array(FeaDE)\n",
    "print(FeaDE.shape)\n",
    "\n",
    "FeaFR = np.array(FeaFR)\n",
    "print(FeaFR.shape)\n",
    "\n",
    "FeaES = np.array(FeaES)\n",
    "print(FeaES.shape)\n",
    "\n",
    "FeaEN = np.array(FeaEN)\n",
    "print(FeaEN.shape)"
   ]
  },
  {
   "cell_type": "markdown",
   "metadata": {},
   "source": [
    "## Refactorisation du code pour comprendre la constitution des données"
   ]
  },
  {
   "cell_type": "markdown",
   "metadata": {},
   "source": [
    "### Librairies"
   ]
  },
  {
   "cell_type": "code",
   "execution_count": 5,
   "metadata": {},
   "outputs": [],
   "source": [
    "import numpy as np\n",
    "import string\n",
    "import pandas as pd\n",
    "import matplotlib.pyplot as plt\n",
    "%matplotlib inline"
   ]
  },
  {
   "cell_type": "markdown",
   "metadata": {},
   "source": [
    "### Découpage en fonctions"
   ]
  },
  {
   "cell_type": "code",
   "execution_count": 6,
   "metadata": {},
   "outputs": [],
   "source": [
    "#Fonction Feature qui permet à partir d'un fichier de comptabiliser le nombre d'occurences d'un caractère, le nombre d'occurences de deux caractères\n",
    "def GenerateFeature(filename, BlockSz=1000) :\n",
    "    # Ouverture du fichier texte contenant les caracteres alphabetiques \"brutes\"\n",
    "    textCountry = open(filename)\n",
    "    # Lecture\n",
    "    content=textCountry.read()\n",
    "    textCountry.close()\n",
    "    # Calcule du nombre de blocks (arrondi par defaut) de BlockSz caracteres\n",
    "    NbBlock=int(np.floor(len(content)/BlockSz))\n",
    "    # Creation des tableaux de donnees textuelles et de features\n",
    "    Data=[]\n",
    "    Fea =[]\n",
    "    # Pour tous les indices de blocks ...\n",
    "    for index in range(NbBlock):\n",
    "        # Exctraction des donnees texte du block\n",
    "        Data.append(content[index*BlockSz:(index+1)*BlockSz])\n",
    "        # Comptage de chacun des caracteres\n",
    "        countCaracter=[]\n",
    "        for letter in string.ascii_lowercase:\n",
    "            countCaracter.append(Data[index].count(letter))\n",
    "        # Comptage de toutes les 26**2 paires de caracteres possibles\n",
    "        for letter1 in string.ascii_lowercase:\n",
    "            for letter2 in string.ascii_lowercase:\n",
    "                countCaracter.append(Data[index].count(letter1+letter2))\n",
    "        # Une fois le vecteur de décompte obtenu  .... on ajoute ce vecteur (contenant tous les decomptes) au tableaux des features\n",
    "        Fea.append(countCaracter)\n",
    "    return Fea"
   ]
  },
  {
   "cell_type": "code",
   "execution_count": 7,
   "metadata": {},
   "outputs": [],
   "source": [
    "import os\n",
    "#Permet de générer la matrix en fonction d'un fichier d'entrée ou d'un fichier numpy si le travail sur le texte a déjà été réalisé\n",
    "def GenerateMatrix(filenameIn, fileConvertNpy, BlockSz=1000):\n",
    "    if(os.path.exists(fileConvertNpy)):\n",
    "        feature = np.load(fileConvertNpy)\n",
    "        return np.array(feature)\n",
    "    else :\n",
    "        feature = GenerateFeature(filenameIn, BlockSz)\n",
    "        np.save(fileConvertNpy, feature)\n",
    "        return np.array(feature)"
   ]
  },
  {
   "cell_type": "code",
   "execution_count": 8,
   "metadata": {},
   "outputs": [
    {
     "name": "stdout",
     "output_type": "stream",
     "text": [
      "Shape german : (4329, 702)\n",
      "Shape french : (4116, 702)\n",
      "Shape spanish : (4321, 702)\n",
      "Shape english : (4209, 702)\n"
     ]
    }
   ],
   "source": [
    "germanArray = GenerateMatrix('../input/GERMAN', './FeatureDE.npy')\n",
    "print(\"Shape german : \" +str(germanArray.shape))\n",
    "frenchArray = GenerateMatrix('../input/FRENCH', './FeatureFR.npy')\n",
    "print(\"Shape french : \" +str(frenchArray.shape))\n",
    "spanishArray = GenerateMatrix('../input/SPANISH', './FeatureSP.npy')\n",
    "print(\"Shape spanish : \" +str(spanishArray.shape))\n",
    "englishArray = GenerateMatrix('../input/ENGLISH', './FeatureEN.npy')\n",
    "print(\"Shape english : \" +str(englishArray.shape))\n"
   ]
  },
  {
   "cell_type": "code",
   "execution_count": 9,
   "metadata": {},
   "outputs": [
    {
     "name": "stdout",
     "output_type": "stream",
     "text": [
      "Verification German Array :  0\n",
      "Verification French Array :  0\n",
      "Verification Spanish Array :  0\n",
      "Verification English Array :  0\n"
     ]
    }
   ],
   "source": [
    "print(\"Verification German Array : \", (germanArray - FeaDE).sum())\n",
    "print(\"Verification French Array : \", (frenchArray - FeaFR).sum())\n",
    "print(\"Verification Spanish Array : \", (spanishArray - FeaES).sum())\n",
    "print(\"Verification English Array : \", (englishArray - FeaEN).sum())"
   ]
  },
  {
   "cell_type": "markdown",
   "metadata": {},
   "source": [
    "Le code permet de comptabiliser dans un ensemble de textes concaténées et nettoyées via Conversion.sln :\n",
    "* le nombre de lignes correspond au découpage du fichier consolidé en block de 1000 caractères\n",
    "* les 26 premières colonnes correspondent au nombre d'occurences sur la ligne du nombre de A, ..., Z\n",
    "* les 26 colonnes suivantes correspondent au nombre d'occurences de la succession de caractères AA, AB, ..., AZ\n",
    "* les 26 colonnes suivantes correspondent au nombre d'occurences de la succession de caractères BA, BB, ..., BZ\n",
    "* ...\n",
    "* les 26 dernières colonnes correspondent au nombre d'occurences de la succession de caractères ZA, ZB, ..., ZZ\n",
    "\n",
    "On retrouve bien que le nombre de colonnes 26 + 26*26"
   ]
  },
  {
   "cell_type": "markdown",
   "metadata": {},
   "source": [
    "### Construction Dataframe"
   ]
  },
  {
   "cell_type": "markdown",
   "metadata": {},
   "source": [
    "Les dataframe Panda sont pratiques notamment pour avoir des colonnes associées à la matrice de données."
   ]
  },
  {
   "cell_type": "code",
   "execution_count": 10,
   "metadata": {},
   "outputs": [],
   "source": [
    "#Permet de construire la liste a, b, ...,z, aa, ..., az, ..., zz\n",
    "def BuildListColumn():\n",
    "    listColumn = []\n",
    "    for letter in string.ascii_lowercase:\n",
    "        listColumn.append(letter)\n",
    "    for letter1 in string.ascii_lowercase:\n",
    "        for letter2 in string.ascii_lowercase:\n",
    "            listColumn.append(letter1+letter2)\n",
    "    return listColumn"
   ]
  },
  {
   "cell_type": "code",
   "execution_count": 11,
   "metadata": {},
   "outputs": [],
   "source": [
    "def BuildDataFrame(data, listColumn):\n",
    "    return pd.DataFrame(data, columns = listColumn)"
   ]
  },
  {
   "cell_type": "code",
   "execution_count": 12,
   "metadata": {},
   "outputs": [],
   "source": [
    "listColumn = BuildListColumn()\n",
    "df_spanish = BuildDataFrame(spanishArray,listColumn) \n",
    "df_german = BuildDataFrame(germanArray,listColumn)\n",
    "df_french = BuildDataFrame(frenchArray,listColumn)\n",
    "df_english = BuildDataFrame(englishArray,listColumn)"
   ]
  },
  {
   "cell_type": "markdown",
   "metadata": {},
   "source": [
    "### Suppression des colonnes vides"
   ]
  },
  {
   "cell_type": "markdown",
   "metadata": {},
   "source": [
    "On identifie par langue les colonnes où le caractère est nul sur l'intégralité des blocks."
   ]
  },
  {
   "cell_type": "code",
   "execution_count": 13,
   "metadata": {},
   "outputs": [
    {
     "name": "stdout",
     "output_type": "stream",
     "text": [
      "Empty French Column : 42\n",
      "Empty Spanish Column : 58\n",
      "Empty English Column : 58\n",
      "Empty German Column : 28\n"
     ]
    }
   ],
   "source": [
    "frenchEmptyColumn = [ val for val in listColumn if df_french[val].sum()==0]\n",
    "spanishEmptyColumn = [ val for val in listColumn if df_spanish[val].sum()==0]\n",
    "englishEmptyColumn = [ val for val in listColumn if df_english[val].sum()==0]\n",
    "germanEmptyColumn = [ val for val in listColumn if df_german[val].sum()==0]\n",
    "print(\"Empty French Column : \" + str(len(frenchEmptyColumn)))\n",
    "print(\"Empty Spanish Column : \" + str(len(spanishEmptyColumn)))\n",
    "print(\"Empty English Column : \" + str(len(englishEmptyColumn)))\n",
    "print(\"Empty German Column : \" + str(len(germanEmptyColumn)))"
   ]
  },
  {
   "cell_type": "markdown",
   "metadata": {},
   "source": [
    "On supprime ensuite en faisant l'intersection des colonnes vides pour l'ensemble des langues ce qui nous permet d'identifier une suite de caractères inutiles quelque soit la langue."
   ]
  },
  {
   "cell_type": "code",
   "execution_count": 14,
   "metadata": {},
   "outputs": [
    {
     "name": "stdout",
     "output_type": "stream",
     "text": [
      "Drop Column : 6\n"
     ]
    }
   ],
   "source": [
    "intersectionEmpty = set(frenchEmptyColumn).intersection(spanishEmptyColumn).intersection(englishEmptyColumn).intersection(germanEmptyColumn)\n",
    "print(\"Drop Column : \" + str(len(intersectionEmpty)))\n",
    "intersectionEmpty\n",
    "df_french.drop(intersectionEmpty, axis=1, inplace=True)\n",
    "df_spanish.drop(intersectionEmpty, axis=1, inplace=True)\n",
    "df_german.drop(intersectionEmpty, axis=1, inplace=True)\n",
    "df_english.drop(intersectionEmpty, axis=1,inplace=True)"
   ]
  },
  {
   "cell_type": "markdown",
   "metadata": {},
   "source": [
    "Pour des optimisations ultérieures dans les comparaisons deux à deux des langues, on va mettre à jour la liste des colonnes vides de chaque langue"
   ]
  },
  {
   "cell_type": "code",
   "execution_count": 15,
   "metadata": {},
   "outputs": [
    {
     "name": "stdout",
     "output_type": "stream",
     "text": [
      "Empty French Column after drop : 36\n",
      "Empty Spanish Column after drop : 52\n",
      "Empty English Column after drop : 52\n",
      "Empty German Column after drop : 22\n"
     ]
    }
   ],
   "source": [
    "for colEmpty in intersectionEmpty:\n",
    "    frenchEmptyColumn.remove(colEmpty)\n",
    "    spanishEmptyColumn.remove(colEmpty)\n",
    "    englishEmptyColumn.remove(colEmpty)\n",
    "    germanEmptyColumn.remove(colEmpty)\n",
    "print(\"Empty French Column after drop : \" + str(len(frenchEmptyColumn)))\n",
    "print(\"Empty Spanish Column after drop : \" + str(len(spanishEmptyColumn)))\n",
    "print(\"Empty English Column after drop : \" + str(len(englishEmptyColumn)))\n",
    "print(\"Empty German Column after drop : \" + str(len(germanEmptyColumn)))"
   ]
  },
  {
   "cell_type": "markdown",
   "metadata": {},
   "source": [
    "# Classification linéaire à 2 classes"
   ]
  },
  {
   "cell_type": "markdown",
   "metadata": {},
   "source": [
    "## Construction des ensembles X,y,Train et Test"
   ]
  },
  {
   "cell_type": "markdown",
   "metadata": {},
   "source": [
    "### Ensemble X,y"
   ]
  },
  {
   "cell_type": "markdown",
   "metadata": {},
   "source": [
    "On ajoute deux ensembles de features de deux langues et on construit la cible du modèle. Par convention, nous donnons 1 pour la première langue et -1 pour la seconde langue."
   ]
  },
  {
   "cell_type": "code",
   "execution_count": 16,
   "metadata": {},
   "outputs": [],
   "source": [
    "def BuildFeatureAndTarget(firstLang, secondLang):\n",
    "    \n",
    "    if(firstLang == \"DE\"):\n",
    "        firstArray = df_german\n",
    "        firstEmptyColumn = germanEmptyColumn\n",
    "    elif(firstLang == \"FR\"):\n",
    "        firstArray = df_french\n",
    "        firstEmptyColumn = frenchEmptyColumn\n",
    "    elif(firstLang == \"SP\"):\n",
    "        firstArray = df_spanish\n",
    "        firstEmptyColumn = spanishEmptyColumn\n",
    "    else:\n",
    "        firstArray = df_english\n",
    "        firstEmptyColumn = englishEmptyColumn\n",
    "    \n",
    "    if(secondLang == \"DE\"):\n",
    "        secondArray = df_german\n",
    "        secondEmptyColumn = germanEmptyColumn\n",
    "    elif(secondLang == \"FR\"):\n",
    "        secondArray = df_french\n",
    "        secondEmptyColumn = frenchEmptyColumn\n",
    "    elif(secondLang == \"SP\"):\n",
    "        secondArray = df_spanish\n",
    "        secondEmptyColumn = spanishEmptyColumn\n",
    "    else:\n",
    "        secondArray = df_english\n",
    "        secondEmptyColumn = englishEmptyColumn\n",
    "    \n",
    "    print(\"First Lang : \"  + firstLang)\n",
    "    print(\"Shape de First Lang : \" + str(firstArray.shape))\n",
    "    print(\"Second Lang : \" + secondLang)\n",
    "    print(\"Shape de Second Lang : \" + str(secondArray.shape))\n",
    "    \n",
    "    X = pd.concat([firstArray,secondArray], ignore_index=True)\n",
    "    intersectionEmpty = set(firstEmptyColumn).intersection(secondEmptyColumn)\n",
    "    print(\"Drop Column : \" + str(len(intersectionEmpty)))\n",
    "    X.drop(intersectionEmpty, axis=1, inplace=True)\n",
    "\n",
    "    targetFirst = np.array([1 for i in range(firstArray.shape[0])])\n",
    "    targetSecond = np.array([-1 for i in range(secondArray.shape[0])])\n",
    "    y = np.append(targetFirst,targetSecond, axis = 0)\n",
    "    \n",
    "    print(\"Shape de X : \" + str(X.shape))\n",
    "    print(\"Shape de y : \" + str(y.shape))\n",
    "    return(X,y)"
   ]
  },
  {
   "cell_type": "code",
   "execution_count": 17,
   "metadata": {
    "scrolled": true
   },
   "outputs": [
    {
     "name": "stdout",
     "output_type": "stream",
     "text": [
      "First Lang : FR\n",
      "Shape de First Lang : (4116, 696)\n",
      "Second Lang : DE\n",
      "Shape de Second Lang : (4329, 696)\n",
      "Drop Column : 1\n",
      "Shape de X : (8445, 695)\n",
      "Shape de y : (8445,)\n"
     ]
    }
   ],
   "source": [
    "X,y = BuildFeatureAndTarget(\"FR\", \"DE\")"
   ]
  },
  {
   "cell_type": "markdown",
   "metadata": {},
   "source": [
    "### Séparation entre Train et Test"
   ]
  },
  {
   "cell_type": "markdown",
   "metadata": {},
   "source": [
    "On prend 80% des données pour le train et 20% pour le test"
   ]
  },
  {
   "cell_type": "code",
   "execution_count": 18,
   "metadata": {},
   "outputs": [
    {
     "name": "stdout",
     "output_type": "stream",
     "text": [
      "Taille de X_train : (6756, 695)\n",
      "Taille de y_Train : (6756,)\n",
      "Taille de X_test : (1689, 695)\n",
      "Taille de y_Test : (1689,)\n"
     ]
    }
   ],
   "source": [
    "#On split le dataset (permet également de shuffle)\n",
    "from sklearn.model_selection import train_test_split\n",
    "X_Train, X_Test, y_Train, y_Test = train_test_split(X, y, test_size=0.2, random_state=123)\n",
    "print(\"Taille de X_train : \" + str(X_Train.shape))\n",
    "print(\"Taille de y_Train : \" + str(y_Train.shape))\n",
    "print(\"Taille de X_test : \" + str(X_Test.shape))\n",
    "print(\"Taille de y_Test : \" + str(y_Test.shape))\n",
    "\n"
   ]
  },
  {
   "cell_type": "markdown",
   "metadata": {},
   "source": [
    "## Différentes méthodes de classification linéaires"
   ]
  },
  {
   "cell_type": "markdown",
   "metadata": {},
   "source": [
    "### Régression linéaire Ridge"
   ]
  },
  {
   "cell_type": "markdown",
   "metadata": {},
   "source": [
    "Le modèle Ridge est une régression linéaire introduisant en plus un terme de régularisation en Norme L2 sur le vecteur de pondération."
   ]
  },
  {
   "cell_type": "markdown",
   "metadata": {},
   "source": [
    "On effectue une recherche sur grille avec validation croisée sur l'ensemble de train pour identifier le meilleur paramètre alpha. Nous avons utilisé l'accuracy comme métrique car les classes sont équilibrées"
   ]
  },
  {
   "cell_type": "code",
   "execution_count": 19,
   "metadata": {},
   "outputs": [
    {
     "data": {
      "text/plain": [
       "GridSearchCV(cv=5, error_score='raise-deprecating',\n",
       "             estimator=RidgeClassifier(alpha=1.0, class_weight=None,\n",
       "                                       copy_X=True, fit_intercept=True,\n",
       "                                       max_iter=None, normalize=False,\n",
       "                                       random_state=None, solver='auto',\n",
       "                                       tol=0.001),\n",
       "             iid='warn', n_jobs=-1,\n",
       "             param_grid={'alpha': array([1.e-05, 1.e-04, 1.e-03, 1.e-02, 1.e-01, 1.e+00, 1.e+01, 1.e+02,\n",
       "       1.e+03, 1.e+04, 1.e+05])},\n",
       "             pre_dispatch='2*n_jobs', refit=True, return_train_score=True,\n",
       "             scoring='accuracy', verbose=0)"
      ]
     },
     "execution_count": 19,
     "metadata": {},
     "output_type": "execute_result"
    }
   ],
   "source": [
    "from sklearn.model_selection import GridSearchCV\n",
    "from sklearn.linear_model import RidgeClassifier\n",
    "# grille de valeurs\n",
    "params = {\"alpha\": np.logspace(-5, 5, 11) } \n",
    "gridSearch_Ridge_CV = GridSearchCV(\n",
    "    estimator = RidgeClassifier(),\n",
    "    param_grid= params,\n",
    "    scoring=\"accuracy\",\n",
    "    cv=5,\n",
    "    n_jobs=-1,\n",
    "    return_train_score=True)\n",
    "gridSearch_Ridge_CV.fit(X_Train,y_Train)"
   ]
  },
  {
   "cell_type": "markdown",
   "metadata": {},
   "source": [
    "On stocke les résultats dans un dataframe et on peut visualiser les résultats."
   ]
  },
  {
   "cell_type": "code",
   "execution_count": 20,
   "metadata": {},
   "outputs": [
    {
     "data": {
      "text/html": [
       "<div>\n",
       "<style scoped>\n",
       "    .dataframe tbody tr th:only-of-type {\n",
       "        vertical-align: middle;\n",
       "    }\n",
       "\n",
       "    .dataframe tbody tr th {\n",
       "        vertical-align: top;\n",
       "    }\n",
       "\n",
       "    .dataframe thead th {\n",
       "        text-align: right;\n",
       "    }\n",
       "</style>\n",
       "<table border=\"1\" class=\"dataframe\">\n",
       "  <thead>\n",
       "    <tr style=\"text-align: right;\">\n",
       "      <th></th>\n",
       "      <th>mean_fit_time</th>\n",
       "      <th>std_fit_time</th>\n",
       "      <th>mean_score_time</th>\n",
       "      <th>std_score_time</th>\n",
       "      <th>param_alpha</th>\n",
       "      <th>params</th>\n",
       "      <th>split0_test_score</th>\n",
       "      <th>split1_test_score</th>\n",
       "      <th>split2_test_score</th>\n",
       "      <th>split3_test_score</th>\n",
       "      <th>...</th>\n",
       "      <th>mean_test_score</th>\n",
       "      <th>std_test_score</th>\n",
       "      <th>rank_test_score</th>\n",
       "      <th>split0_train_score</th>\n",
       "      <th>split1_train_score</th>\n",
       "      <th>split2_train_score</th>\n",
       "      <th>split3_train_score</th>\n",
       "      <th>split4_train_score</th>\n",
       "      <th>mean_train_score</th>\n",
       "      <th>std_train_score</th>\n",
       "    </tr>\n",
       "  </thead>\n",
       "  <tbody>\n",
       "    <tr>\n",
       "      <td>0</td>\n",
       "      <td>0.449005</td>\n",
       "      <td>0.047216</td>\n",
       "      <td>0.019944</td>\n",
       "      <td>0.003938</td>\n",
       "      <td>1e-05</td>\n",
       "      <td>{'alpha': 1e-05}</td>\n",
       "      <td>0.995562</td>\n",
       "      <td>0.99926</td>\n",
       "      <td>0.99926</td>\n",
       "      <td>0.995559</td>\n",
       "      <td>...</td>\n",
       "      <td>0.997188</td>\n",
       "      <td>0.001713</td>\n",
       "      <td>1</td>\n",
       "      <td>0.997779</td>\n",
       "      <td>0.997410</td>\n",
       "      <td>0.997410</td>\n",
       "      <td>0.998150</td>\n",
       "      <td>0.997780</td>\n",
       "      <td>0.997706</td>\n",
       "      <td>0.000277</td>\n",
       "    </tr>\n",
       "    <tr>\n",
       "      <td>1</td>\n",
       "      <td>0.492882</td>\n",
       "      <td>0.062631</td>\n",
       "      <td>0.016155</td>\n",
       "      <td>0.002474</td>\n",
       "      <td>0.0001</td>\n",
       "      <td>{'alpha': 0.0001}</td>\n",
       "      <td>0.995562</td>\n",
       "      <td>0.99926</td>\n",
       "      <td>0.99926</td>\n",
       "      <td>0.995559</td>\n",
       "      <td>...</td>\n",
       "      <td>0.997188</td>\n",
       "      <td>0.001713</td>\n",
       "      <td>1</td>\n",
       "      <td>0.997779</td>\n",
       "      <td>0.997410</td>\n",
       "      <td>0.997410</td>\n",
       "      <td>0.998150</td>\n",
       "      <td>0.997780</td>\n",
       "      <td>0.997706</td>\n",
       "      <td>0.000277</td>\n",
       "    </tr>\n",
       "    <tr>\n",
       "      <td>2</td>\n",
       "      <td>0.488892</td>\n",
       "      <td>0.052363</td>\n",
       "      <td>0.019151</td>\n",
       "      <td>0.002312</td>\n",
       "      <td>0.001</td>\n",
       "      <td>{'alpha': 0.001}</td>\n",
       "      <td>0.995562</td>\n",
       "      <td>0.99926</td>\n",
       "      <td>0.99926</td>\n",
       "      <td>0.995559</td>\n",
       "      <td>...</td>\n",
       "      <td>0.997188</td>\n",
       "      <td>0.001713</td>\n",
       "      <td>1</td>\n",
       "      <td>0.997779</td>\n",
       "      <td>0.997410</td>\n",
       "      <td>0.997410</td>\n",
       "      <td>0.998150</td>\n",
       "      <td>0.997780</td>\n",
       "      <td>0.997706</td>\n",
       "      <td>0.000277</td>\n",
       "    </tr>\n",
       "    <tr>\n",
       "      <td>3</td>\n",
       "      <td>0.484502</td>\n",
       "      <td>0.014827</td>\n",
       "      <td>0.019948</td>\n",
       "      <td>0.002820</td>\n",
       "      <td>0.01</td>\n",
       "      <td>{'alpha': 0.01}</td>\n",
       "      <td>0.995562</td>\n",
       "      <td>0.99926</td>\n",
       "      <td>0.99926</td>\n",
       "      <td>0.995559</td>\n",
       "      <td>...</td>\n",
       "      <td>0.997188</td>\n",
       "      <td>0.001713</td>\n",
       "      <td>1</td>\n",
       "      <td>0.997779</td>\n",
       "      <td>0.997410</td>\n",
       "      <td>0.997410</td>\n",
       "      <td>0.998150</td>\n",
       "      <td>0.997780</td>\n",
       "      <td>0.997706</td>\n",
       "      <td>0.000277</td>\n",
       "    </tr>\n",
       "    <tr>\n",
       "      <td>4</td>\n",
       "      <td>0.544941</td>\n",
       "      <td>0.040408</td>\n",
       "      <td>0.017156</td>\n",
       "      <td>0.003052</td>\n",
       "      <td>0.1</td>\n",
       "      <td>{'alpha': 0.1}</td>\n",
       "      <td>0.995562</td>\n",
       "      <td>0.99926</td>\n",
       "      <td>0.99926</td>\n",
       "      <td>0.995559</td>\n",
       "      <td>...</td>\n",
       "      <td>0.997188</td>\n",
       "      <td>0.001713</td>\n",
       "      <td>1</td>\n",
       "      <td>0.997779</td>\n",
       "      <td>0.997410</td>\n",
       "      <td>0.997410</td>\n",
       "      <td>0.998150</td>\n",
       "      <td>0.997780</td>\n",
       "      <td>0.997706</td>\n",
       "      <td>0.000277</td>\n",
       "    </tr>\n",
       "    <tr>\n",
       "      <td>5</td>\n",
       "      <td>0.517811</td>\n",
       "      <td>0.073489</td>\n",
       "      <td>0.018152</td>\n",
       "      <td>0.003242</td>\n",
       "      <td>1</td>\n",
       "      <td>{'alpha': 1.0}</td>\n",
       "      <td>0.995562</td>\n",
       "      <td>0.99926</td>\n",
       "      <td>0.99926</td>\n",
       "      <td>0.995559</td>\n",
       "      <td>...</td>\n",
       "      <td>0.997188</td>\n",
       "      <td>0.001713</td>\n",
       "      <td>1</td>\n",
       "      <td>0.997779</td>\n",
       "      <td>0.997410</td>\n",
       "      <td>0.997410</td>\n",
       "      <td>0.998150</td>\n",
       "      <td>0.997780</td>\n",
       "      <td>0.997706</td>\n",
       "      <td>0.000277</td>\n",
       "    </tr>\n",
       "    <tr>\n",
       "      <td>6</td>\n",
       "      <td>0.484105</td>\n",
       "      <td>0.071284</td>\n",
       "      <td>0.017955</td>\n",
       "      <td>0.002958</td>\n",
       "      <td>10</td>\n",
       "      <td>{'alpha': 10.0}</td>\n",
       "      <td>0.995562</td>\n",
       "      <td>0.99926</td>\n",
       "      <td>0.99926</td>\n",
       "      <td>0.995559</td>\n",
       "      <td>...</td>\n",
       "      <td>0.997188</td>\n",
       "      <td>0.001713</td>\n",
       "      <td>1</td>\n",
       "      <td>0.997779</td>\n",
       "      <td>0.997410</td>\n",
       "      <td>0.997225</td>\n",
       "      <td>0.997780</td>\n",
       "      <td>0.997595</td>\n",
       "      <td>0.997558</td>\n",
       "      <td>0.000216</td>\n",
       "    </tr>\n",
       "    <tr>\n",
       "      <td>7</td>\n",
       "      <td>0.541354</td>\n",
       "      <td>0.129557</td>\n",
       "      <td>0.019947</td>\n",
       "      <td>0.004369</td>\n",
       "      <td>100</td>\n",
       "      <td>{'alpha': 100.0}</td>\n",
       "      <td>0.995562</td>\n",
       "      <td>0.99926</td>\n",
       "      <td>0.99926</td>\n",
       "      <td>0.995559</td>\n",
       "      <td>...</td>\n",
       "      <td>0.997188</td>\n",
       "      <td>0.001713</td>\n",
       "      <td>1</td>\n",
       "      <td>0.997779</td>\n",
       "      <td>0.997040</td>\n",
       "      <td>0.996855</td>\n",
       "      <td>0.997595</td>\n",
       "      <td>0.997410</td>\n",
       "      <td>0.997336</td>\n",
       "      <td>0.000343</td>\n",
       "    </tr>\n",
       "    <tr>\n",
       "      <td>8</td>\n",
       "      <td>0.562894</td>\n",
       "      <td>0.118164</td>\n",
       "      <td>0.018352</td>\n",
       "      <td>0.002052</td>\n",
       "      <td>1000</td>\n",
       "      <td>{'alpha': 1000.0}</td>\n",
       "      <td>0.995562</td>\n",
       "      <td>0.99926</td>\n",
       "      <td>0.99852</td>\n",
       "      <td>0.995559</td>\n",
       "      <td>...</td>\n",
       "      <td>0.997040</td>\n",
       "      <td>0.001552</td>\n",
       "      <td>9</td>\n",
       "      <td>0.997779</td>\n",
       "      <td>0.996855</td>\n",
       "      <td>0.996855</td>\n",
       "      <td>0.997410</td>\n",
       "      <td>0.997225</td>\n",
       "      <td>0.997225</td>\n",
       "      <td>0.000351</td>\n",
       "    </tr>\n",
       "    <tr>\n",
       "      <td>9</td>\n",
       "      <td>0.474530</td>\n",
       "      <td>0.058166</td>\n",
       "      <td>0.016956</td>\n",
       "      <td>0.001669</td>\n",
       "      <td>10000</td>\n",
       "      <td>{'alpha': 10000.0}</td>\n",
       "      <td>0.995562</td>\n",
       "      <td>0.99926</td>\n",
       "      <td>0.99852</td>\n",
       "      <td>0.995559</td>\n",
       "      <td>...</td>\n",
       "      <td>0.997040</td>\n",
       "      <td>0.001552</td>\n",
       "      <td>9</td>\n",
       "      <td>0.997409</td>\n",
       "      <td>0.996485</td>\n",
       "      <td>0.996670</td>\n",
       "      <td>0.997410</td>\n",
       "      <td>0.997225</td>\n",
       "      <td>0.997040</td>\n",
       "      <td>0.000388</td>\n",
       "    </tr>\n",
       "    <tr>\n",
       "      <td>10</td>\n",
       "      <td>0.421271</td>\n",
       "      <td>0.047838</td>\n",
       "      <td>0.011569</td>\n",
       "      <td>0.004870</td>\n",
       "      <td>100000</td>\n",
       "      <td>{'alpha': 100000.0}</td>\n",
       "      <td>0.995562</td>\n",
       "      <td>0.99926</td>\n",
       "      <td>0.99852</td>\n",
       "      <td>0.995559</td>\n",
       "      <td>...</td>\n",
       "      <td>0.997040</td>\n",
       "      <td>0.001552</td>\n",
       "      <td>9</td>\n",
       "      <td>0.997409</td>\n",
       "      <td>0.996485</td>\n",
       "      <td>0.996670</td>\n",
       "      <td>0.997410</td>\n",
       "      <td>0.997225</td>\n",
       "      <td>0.997040</td>\n",
       "      <td>0.000388</td>\n",
       "    </tr>\n",
       "  </tbody>\n",
       "</table>\n",
       "<p>11 rows × 21 columns</p>\n",
       "</div>"
      ],
      "text/plain": [
       "    mean_fit_time  std_fit_time  mean_score_time  std_score_time param_alpha  \\\n",
       "0        0.449005      0.047216         0.019944        0.003938       1e-05   \n",
       "1        0.492882      0.062631         0.016155        0.002474      0.0001   \n",
       "2        0.488892      0.052363         0.019151        0.002312       0.001   \n",
       "3        0.484502      0.014827         0.019948        0.002820        0.01   \n",
       "4        0.544941      0.040408         0.017156        0.003052         0.1   \n",
       "5        0.517811      0.073489         0.018152        0.003242           1   \n",
       "6        0.484105      0.071284         0.017955        0.002958          10   \n",
       "7        0.541354      0.129557         0.019947        0.004369         100   \n",
       "8        0.562894      0.118164         0.018352        0.002052        1000   \n",
       "9        0.474530      0.058166         0.016956        0.001669       10000   \n",
       "10       0.421271      0.047838         0.011569        0.004870      100000   \n",
       "\n",
       "                 params  split0_test_score  split1_test_score  \\\n",
       "0      {'alpha': 1e-05}           0.995562            0.99926   \n",
       "1     {'alpha': 0.0001}           0.995562            0.99926   \n",
       "2      {'alpha': 0.001}           0.995562            0.99926   \n",
       "3       {'alpha': 0.01}           0.995562            0.99926   \n",
       "4        {'alpha': 0.1}           0.995562            0.99926   \n",
       "5        {'alpha': 1.0}           0.995562            0.99926   \n",
       "6       {'alpha': 10.0}           0.995562            0.99926   \n",
       "7      {'alpha': 100.0}           0.995562            0.99926   \n",
       "8     {'alpha': 1000.0}           0.995562            0.99926   \n",
       "9    {'alpha': 10000.0}           0.995562            0.99926   \n",
       "10  {'alpha': 100000.0}           0.995562            0.99926   \n",
       "\n",
       "    split2_test_score  split3_test_score  ...  mean_test_score  \\\n",
       "0             0.99926           0.995559  ...         0.997188   \n",
       "1             0.99926           0.995559  ...         0.997188   \n",
       "2             0.99926           0.995559  ...         0.997188   \n",
       "3             0.99926           0.995559  ...         0.997188   \n",
       "4             0.99926           0.995559  ...         0.997188   \n",
       "5             0.99926           0.995559  ...         0.997188   \n",
       "6             0.99926           0.995559  ...         0.997188   \n",
       "7             0.99926           0.995559  ...         0.997188   \n",
       "8             0.99852           0.995559  ...         0.997040   \n",
       "9             0.99852           0.995559  ...         0.997040   \n",
       "10            0.99852           0.995559  ...         0.997040   \n",
       "\n",
       "    std_test_score  rank_test_score  split0_train_score  split1_train_score  \\\n",
       "0         0.001713                1            0.997779            0.997410   \n",
       "1         0.001713                1            0.997779            0.997410   \n",
       "2         0.001713                1            0.997779            0.997410   \n",
       "3         0.001713                1            0.997779            0.997410   \n",
       "4         0.001713                1            0.997779            0.997410   \n",
       "5         0.001713                1            0.997779            0.997410   \n",
       "6         0.001713                1            0.997779            0.997410   \n",
       "7         0.001713                1            0.997779            0.997040   \n",
       "8         0.001552                9            0.997779            0.996855   \n",
       "9         0.001552                9            0.997409            0.996485   \n",
       "10        0.001552                9            0.997409            0.996485   \n",
       "\n",
       "    split2_train_score  split3_train_score  split4_train_score  \\\n",
       "0             0.997410            0.998150            0.997780   \n",
       "1             0.997410            0.998150            0.997780   \n",
       "2             0.997410            0.998150            0.997780   \n",
       "3             0.997410            0.998150            0.997780   \n",
       "4             0.997410            0.998150            0.997780   \n",
       "5             0.997410            0.998150            0.997780   \n",
       "6             0.997225            0.997780            0.997595   \n",
       "7             0.996855            0.997595            0.997410   \n",
       "8             0.996855            0.997410            0.997225   \n",
       "9             0.996670            0.997410            0.997225   \n",
       "10            0.996670            0.997410            0.997225   \n",
       "\n",
       "    mean_train_score  std_train_score  \n",
       "0           0.997706         0.000277  \n",
       "1           0.997706         0.000277  \n",
       "2           0.997706         0.000277  \n",
       "3           0.997706         0.000277  \n",
       "4           0.997706         0.000277  \n",
       "5           0.997706         0.000277  \n",
       "6           0.997558         0.000216  \n",
       "7           0.997336         0.000343  \n",
       "8           0.997225         0.000351  \n",
       "9           0.997040         0.000388  \n",
       "10          0.997040         0.000388  \n",
       "\n",
       "[11 rows x 21 columns]"
      ]
     },
     "execution_count": 20,
     "metadata": {},
     "output_type": "execute_result"
    }
   ],
   "source": [
    "df_Rigde_CV_results = pd.DataFrame(gridSearch_Ridge_CV.cv_results_)\n",
    "df_Rigde_CV_results"
   ]
  },
  {
   "cell_type": "code",
   "execution_count": 21,
   "metadata": {},
   "outputs": [
    {
     "data": {
      "image/png": "[encoded data removed]",
      "text/plain": [
       "<Figure size 432x288 with 1 Axes>"
      ]
     },
     "metadata": {
      "needs_background": "light"
     },
     "output_type": "display_data"
    }
   ],
   "source": [
    "df_Rigde_CV_results.set_index([\"param_alpha\"])[[\"mean_test_score\",\n",
    "                                      \"mean_train_score\"]].plot(\n",
    "                                          kind=\"bar\", ylim=(0.99, 1))\n",
    "plt.ylabel(\"Accuracy\")\n",
    "plt.title(\"Accuracy en fonction du paramètre Alpha de la classification par la régression Ridge\")\n",
    "plt.legend(loc=\"lower right\")\n",
    "plt.show()"
   ]
  },
  {
   "cell_type": "code",
   "execution_count": 22,
   "metadata": {},
   "outputs": [
    {
     "name": "stdout",
     "output_type": "stream",
     "text": [
      "Best Alpha parameter pour Ridge : \n",
      "1e-05\n"
     ]
    }
   ],
   "source": [
    "print(\"Best Alpha parameter pour Ridge : \")\n",
    "print(gridSearch_Ridge_CV.best_params_[\"alpha\"])\n"
   ]
  },
  {
   "cell_type": "code",
   "execution_count": 23,
   "metadata": {},
   "outputs": [
    {
     "name": "stdout",
     "output_type": "stream",
     "text": [
      "Score sur le test :  0.9988158673771462\n"
     ]
    }
   ],
   "source": [
    "print(\"Score sur le test : \", gridSearch_Ridge_CV.score(X_Test,y_Test))"
   ]
  },
  {
   "cell_type": "markdown",
   "metadata": {},
   "source": [
    "On peut aussi afficher la matrice de confusion et retrouver la valeur de l'accuracy calculé ci-dessus"
   ]
  },
  {
   "cell_type": "code",
   "execution_count": 24,
   "metadata": {},
   "outputs": [
    {
     "data": {
      "text/plain": [
       "array([[852,   2],\n",
       "       [  0, 835]], dtype=int64)"
      ]
     },
     "execution_count": 24,
     "metadata": {},
     "output_type": "execute_result"
    }
   ],
   "source": [
    "from sklearn.metrics import confusion_matrix\n",
    "y_TestPredicted = gridSearch_Ridge_CV.predict(X_Test)\n",
    "confusion_matrix(y_Test, y_TestPredicted)"
   ]
  },
  {
   "cell_type": "markdown",
   "metadata": {},
   "source": [
    "### Régression linéaire Lasso"
   ]
  },
  {
   "cell_type": "markdown",
   "metadata": {},
   "source": [
    "La régression linéaire Lasso est une alternative à Ridge en utilisant une régularisation L1 du vecteur de pondération. La conséquence de la régularisation Lasso est que certains coefficients valent exactement 0 et donc sont totalement ignorées par le modèle. "
   ]
  },
  {
   "cell_type": "markdown",
   "metadata": {},
   "source": [
    "Dans le cas de scikit Learn, nous n'avons pas trouvé de LassoClassifier. Nous allons implémenter la validation croisée et la recherche sur grille sur l'ensemble de train en utilisant la regressionLasso de Scikit Learn. "
   ]
  },
  {
   "cell_type": "code",
   "execution_count": 25,
   "metadata": {},
   "outputs": [
    {
     "name": "stderr",
     "output_type": "stream",
     "text": [
      "C:\\Users\\bigdata\\Anaconda3\\lib\\site-packages\\sklearn\\linear_model\\coordinate_descent.py:475: ConvergenceWarning: Objective did not converge. You might want to increase the number of iterations. Duality gap: 32.10620680975843, tolerance: 0.5398136935603257\n",
      "  positive)\n",
      "C:\\Users\\bigdata\\Anaconda3\\lib\\site-packages\\sklearn\\linear_model\\coordinate_descent.py:475: ConvergenceWarning: Objective did not converge. You might want to increase the number of iterations. Duality gap: 29.790111476495213, tolerance: 0.5395963737280293\n",
      "  positive)\n",
      "C:\\Users\\bigdata\\Anaconda3\\lib\\site-packages\\sklearn\\linear_model\\coordinate_descent.py:475: ConvergenceWarning: Objective did not converge. You might want to increase the number of iterations. Duality gap: 33.99121009509802, tolerance: 0.540201591119334\n",
      "  positive)\n",
      "C:\\Users\\bigdata\\Anaconda3\\lib\\site-packages\\sklearn\\linear_model\\coordinate_descent.py:475: ConvergenceWarning: Objective did not converge. You might want to increase the number of iterations. Duality gap: 33.99888651578712, tolerance: 0.5401527474560593\n",
      "  positive)\n",
      "C:\\Users\\bigdata\\Anaconda3\\lib\\site-packages\\sklearn\\linear_model\\coordinate_descent.py:475: ConvergenceWarning: Objective did not converge. You might want to increase the number of iterations. Duality gap: 30.17685010764815, tolerance: 0.5402637557816837\n",
      "  positive)\n"
     ]
    },
    {
     "name": "stdout",
     "output_type": "stream",
     "text": [
      "Proba d'erreur moyenne =  0.0026643643323595494 pour regul = 1e-05\n"
     ]
    },
    {
     "name": "stderr",
     "output_type": "stream",
     "text": [
      "C:\\Users\\bigdata\\Anaconda3\\lib\\site-packages\\sklearn\\linear_model\\coordinate_descent.py:475: ConvergenceWarning: Objective did not converge. You might want to increase the number of iterations. Duality gap: 33.38901738160385, tolerance: 0.5399262768319761\n",
      "  positive)\n",
      "C:\\Users\\bigdata\\Anaconda3\\lib\\site-packages\\sklearn\\linear_model\\coordinate_descent.py:475: ConvergenceWarning: Objective did not converge. You might want to increase the number of iterations. Duality gap: 30.51393307985784, tolerance: 0.540142534690101\n",
      "  positive)\n",
      "C:\\Users\\bigdata\\Anaconda3\\lib\\site-packages\\sklearn\\linear_model\\coordinate_descent.py:475: ConvergenceWarning: Objective did not converge. You might want to increase the number of iterations. Duality gap: 34.11297618709441, tolerance: 0.5400439592969473\n",
      "  positive)\n",
      "C:\\Users\\bigdata\\Anaconda3\\lib\\site-packages\\sklearn\\linear_model\\coordinate_descent.py:475: ConvergenceWarning: Objective did not converge. You might want to increase the number of iterations. Duality gap: 31.31150690864061, tolerance: 0.5398667900092508\n",
      "  positive)\n",
      "C:\\Users\\bigdata\\Anaconda3\\lib\\site-packages\\sklearn\\linear_model\\coordinate_descent.py:475: ConvergenceWarning: Objective did not converge. You might want to increase the number of iterations. Duality gap: 29.20583393097421, tolerance: 0.5401628122109161\n",
      "  positive)\n"
     ]
    },
    {
     "name": "stdout",
     "output_type": "stream",
     "text": [
      "Proba d'erreur moyenne =  0.0028124028223669518 pour regul = 0.0001\n"
     ]
    },
    {
     "name": "stderr",
     "output_type": "stream",
     "text": [
      "C:\\Users\\bigdata\\Anaconda3\\lib\\site-packages\\sklearn\\linear_model\\coordinate_descent.py:475: ConvergenceWarning: Objective did not converge. You might want to increase the number of iterations. Duality gap: 36.452317373641876, tolerance: 0.5400475943745378\n",
      "  positive)\n",
      "C:\\Users\\bigdata\\Anaconda3\\lib\\site-packages\\sklearn\\linear_model\\coordinate_descent.py:475: ConvergenceWarning: Objective did not converge. You might want to increase the number of iterations. Duality gap: 32.88453028279804, tolerance: 0.5400781498612399\n",
      "  positive)\n",
      "C:\\Users\\bigdata\\Anaconda3\\lib\\site-packages\\sklearn\\linear_model\\coordinate_descent.py:475: ConvergenceWarning: Objective did not converge. You might want to increase the number of iterations. Duality gap: 35.88649594842646, tolerance: 0.5399590009250694\n",
      "  positive)\n",
      "C:\\Users\\bigdata\\Anaconda3\\lib\\site-packages\\sklearn\\linear_model\\coordinate_descent.py:475: ConvergenceWarning: Objective did not converge. You might want to increase the number of iterations. Duality gap: 34.92966405932552, tolerance: 0.5400892506938024\n",
      "  positive)\n",
      "C:\\Users\\bigdata\\Anaconda3\\lib\\site-packages\\sklearn\\linear_model\\coordinate_descent.py:475: ConvergenceWarning: Objective did not converge. You might want to increase the number of iterations. Duality gap: 37.34883430915635, tolerance: 0.53998401480111\n",
      "  positive)\n"
     ]
    },
    {
     "name": "stdout",
     "output_type": "stream",
     "text": [
      "Proba d'erreur moyenne =  0.002960331816449792 pour regul = 0.001\n"
     ]
    },
    {
     "name": "stderr",
     "output_type": "stream",
     "text": [
      "C:\\Users\\bigdata\\Anaconda3\\lib\\site-packages\\sklearn\\linear_model\\coordinate_descent.py:475: ConvergenceWarning: Objective did not converge. You might want to increase the number of iterations. Duality gap: 1.0171977476212817, tolerance: 0.5398652109548481\n",
      "  positive)\n",
      "C:\\Users\\bigdata\\Anaconda3\\lib\\site-packages\\sklearn\\linear_model\\coordinate_descent.py:475: ConvergenceWarning: Objective did not converge. You might want to increase the number of iterations. Duality gap: 1.6839812807791645, tolerance: 0.5399590009250694\n",
      "  positive)\n",
      "C:\\Users\\bigdata\\Anaconda3\\lib\\site-packages\\sklearn\\linear_model\\coordinate_descent.py:475: ConvergenceWarning: Objective did not converge. You might want to increase the number of iterations. Duality gap: 0.7820382656232283, tolerance: 0.5400892506938024\n",
      "  positive)\n",
      "C:\\Users\\bigdata\\Anaconda3\\lib\\site-packages\\sklearn\\linear_model\\coordinate_descent.py:475: ConvergenceWarning: Objective did not converge. You might want to increase the number of iterations. Duality gap: 1.5009423340855932, tolerance: 0.5399715818686402\n",
      "  positive)\n"
     ]
    },
    {
     "name": "stdout",
     "output_type": "stream",
     "text": [
      "Proba d'erreur moyenne =  0.0029603318164497915 pour regul = 0.01\n",
      "Proba d'erreur moyenne =  0.0037003052746376773 pour regul = 0.1\n",
      "Proba d'erreur moyenne =  0.004144530240584446 pour regul = 1.0\n",
      "Proba d'erreur moyenne =  0.005180361686938012 pour regul = 10.0\n",
      "Proba d'erreur moyenne =  0.4856439893307171 pour regul = 100.0\n",
      "Proba d'erreur moyenne =  0.4856434418510943 pour regul = 1000.0\n",
      "Proba d'erreur moyenne =  0.48564267537962236 pour regul = 10000.0\n",
      "Proba d'erreur moyenne =  0.4856408139489048 pour regul = 100000.0\n"
     ]
    }
   ],
   "source": [
    "from sklearn.linear_model import Lasso\n",
    "from sklearn.model_selection import KFold\n",
    "kf = KFold(n_splits=5,shuffle=True)\n",
    "scores_lasso ={}\n",
    "for regul in np.logspace(-5,5,11):\n",
    "    clfLasso = Lasso(alpha=regul)\n",
    "    scores_regul = []\n",
    "    k=0\n",
    "    for train_index, test_index in kf.split(X_Train):\n",
    "        k=k+1\n",
    "        X_train_k = X_Train.iloc[train_index,:]\n",
    "        X_test_k  = X_Train.iloc[test_index,:]\n",
    "        y_train_k = y_Train[train_index]\n",
    "        y_test_k  = y_Train[test_index]\n",
    "        clfLasso.fit(X_train_k, y_train_k)\n",
    "        y_pred=clfLasso.predict(X_test_k)\n",
    "        scores_tmp=( np.sum( y_pred[y_test_k==-1] > 0 ) + np.sum( y_pred[y_test_k==1] < 0 ) ) / y_pred.shape[0]\n",
    "        scores_regul.append(scores_tmp)\n",
    "    scores_lasso[regul] = np.mean(scores_regul) \n",
    "    print(\"Proba d'erreur moyenne =  \" + str(scores_lasso[regul]) + \" pour regul = \" + str(regul) )"
   ]
  },
  {
   "cell_type": "code",
   "execution_count": 26,
   "metadata": {},
   "outputs": [
    {
     "name": "stdout",
     "output_type": "stream",
     "text": [
      "Best Alpha parameter pour Lasso : 1e-05\n"
     ]
    }
   ],
   "source": [
    "best_score = 1000\n",
    "for regul,score in scores_lasso.items():\n",
    "    if(score < best_score):\n",
    "        best_score = score\n",
    "        best_param = regul\n",
    "print(\"Best Alpha parameter pour Lasso : \" + str(best_param))"
   ]
  },
  {
   "cell_type": "code",
   "execution_count": 27,
   "metadata": {},
   "outputs": [
    {
     "name": "stdout",
     "output_type": "stream",
     "text": [
      "Nmobre de features utilisées avec le meilleur paramétrage : 659\n"
     ]
    },
    {
     "name": "stderr",
     "output_type": "stream",
     "text": [
      "C:\\Users\\bigdata\\Anaconda3\\lib\\site-packages\\sklearn\\linear_model\\coordinate_descent.py:475: ConvergenceWarning: Objective did not converge. You might want to increase the number of iterations. Duality gap: 41.21394466551932, tolerance: 0.6750429248075782\n",
      "  positive)\n"
     ]
    }
   ],
   "source": [
    "clfBestLasso = Lasso(alpha=best_param)\n",
    "clfBestLasso.fit(X_Train,y_Train)\n",
    "y_TestPredicted = clfBestLasso.predict(X_Test)\n",
    "print(\"Nmobre de features utilisées avec le meilleur paramétrage : {}\".format(np.sum(clfBestLasso.coef_ != 0)))"
   ]
  },
  {
   "cell_type": "markdown",
   "metadata": {},
   "source": [
    "On peut regarder la matrice de confusion sur le test"
   ]
  },
  {
   "cell_type": "code",
   "execution_count": 28,
   "metadata": {},
   "outputs": [],
   "source": [
    "y_TestClass = []\n",
    "for val in y_TestPredicted :\n",
    "    if(val<0):\n",
    "        y_TestClass.append(-1)\n",
    "    else:\n",
    "        y_TestClass.append(1)"
   ]
  },
  {
   "cell_type": "code",
   "execution_count": 29,
   "metadata": {},
   "outputs": [
    {
     "data": {
      "text/plain": [
       "array([[852,   2],\n",
       "       [  0, 835]], dtype=int64)"
      ]
     },
     "execution_count": 29,
     "metadata": {},
     "output_type": "execute_result"
    }
   ],
   "source": [
    "confusion_matrix(y_Test, y_TestClass)"
   ]
  },
  {
   "cell_type": "markdown",
   "metadata": {},
   "source": [
    "La régression linéaire de type Lasso ou Ridge donne des résultats similaires"
   ]
  },
  {
   "cell_type": "markdown",
   "metadata": {},
   "source": [
    "### SVM avec noyau linéaire"
   ]
  },
  {
   "cell_type": "markdown",
   "metadata": {},
   "source": [
    "Nous utilions un séparateur à vaste marge avec un noyau linéaire pour séparer les 2 classes. On effectue une recherche sur grille avec validation croisée sur l'ensemble de train pour identifier le meilleur paramètre C. "
   ]
  },
  {
   "cell_type": "code",
   "execution_count": 30,
   "metadata": {},
   "outputs": [
    {
     "data": {
      "text/plain": [
       "GridSearchCV(cv=5, error_score='raise-deprecating',\n",
       "             estimator=SVC(C=1.0, cache_size=200, class_weight=None, coef0=0.0,\n",
       "                           decision_function_shape='ovr', degree=3,\n",
       "                           gamma='auto_deprecated', kernel='linear',\n",
       "                           max_iter=-1, probability=False, random_state=None,\n",
       "                           shrinking=True, tol=0.001, verbose=False),\n",
       "             iid='warn', n_jobs=-1,\n",
       "             param_grid={'C': array([1.e-05, 1.e-04, 1.e-03, 1.e-02, 1.e-01, 1.e+00, 1.e+01, 1.e+02,\n",
       "       1.e+03, 1.e+04, 1.e+05])},\n",
       "             pre_dispatch='2*n_jobs', refit=True, return_train_score=True,\n",
       "             scoring='accuracy', verbose=0)"
      ]
     },
     "execution_count": 30,
     "metadata": {},
     "output_type": "execute_result"
    }
   ],
   "source": [
    "from sklearn.svm import SVC\n",
    "# grille de valeurs\n",
    "params = {\"C\": np.logspace(-5,5,11) } \n",
    "gridSearch_LinearSVM_CV = GridSearchCV(\n",
    "    estimator = SVC(kernel='linear'),\n",
    "    param_grid= params,\n",
    "    scoring=\"accuracy\",\n",
    "    cv=5,\n",
    "    n_jobs=-1,\n",
    "    return_train_score=True)\n",
    "gridSearch_LinearSVM_CV.fit(X_Train,y_Train)"
   ]
  },
  {
   "cell_type": "code",
   "execution_count": 31,
   "metadata": {},
   "outputs": [
    {
     "data": {
      "image/png": "[encoded data removed]",
      "text/plain": [
       "<Figure size 432x288 with 1 Axes>"
      ]
     },
     "metadata": {
      "needs_background": "light"
     },
     "output_type": "display_data"
    }
   ],
   "source": [
    "df_LinearSVM_CV_results = pd.DataFrame(gridSearch_LinearSVM_CV.cv_results_)\n",
    "df_LinearSVM_CV_results.set_index([\"param_C\"])[[\"mean_test_score\",\n",
    "                                      \"mean_train_score\"]].plot(\n",
    "                                          kind=\"bar\", ylim=(0.99, 1))\n",
    "plt.ylabel(\"Accuracy\")\n",
    "plt.title(\"Accuracy en fonction du paramètre C de la classification par SVM et noyau Linéaire\")\n",
    "plt.legend(loc=\"lower right\")\n",
    "plt.show()"
   ]
  },
  {
   "cell_type": "code",
   "execution_count": 32,
   "metadata": {},
   "outputs": [
    {
     "name": "stdout",
     "output_type": "stream",
     "text": [
      "Best C parameter pour SVM : \n",
      "0.01\n"
     ]
    }
   ],
   "source": [
    "print(\"Best C parameter pour SVM : \")\n",
    "print(gridSearch_LinearSVM_CV.best_params_[\"C\"])"
   ]
  },
  {
   "cell_type": "code",
   "execution_count": 33,
   "metadata": {},
   "outputs": [
    {
     "name": "stdout",
     "output_type": "stream",
     "text": [
      "Score sur le test :  1.0\n"
     ]
    }
   ],
   "source": [
    "print(\"Score sur le test : \", gridSearch_LinearSVM_CV.score(X_Test,y_Test))"
   ]
  },
  {
   "cell_type": "code",
   "execution_count": 34,
   "metadata": {},
   "outputs": [
    {
     "data": {
      "text/plain": [
       "array([[854,   0],\n",
       "       [  0, 835]], dtype=int64)"
      ]
     },
     "execution_count": 34,
     "metadata": {},
     "output_type": "execute_result"
    }
   ],
   "source": [
    "y_TestPredicted = gridSearch_LinearSVM_CV.predict(X_Test)\n",
    "confusion_matrix(y_Test, y_TestPredicted)"
   ]
  },
  {
   "cell_type": "code",
   "execution_count": 35,
   "metadata": {},
   "outputs": [
    {
     "name": "stdout",
     "output_type": "stream",
     "text": [
      "support vectors\n",
      "[[88. 17. 56. ...  0.  0.  0.]\n",
      " [78.  7. 25. ...  0.  0.  0.]\n",
      " [68. 13. 26. ...  0.  0.  0.]\n",
      " ...\n",
      " [92.  7. 15. ...  0.  0.  0.]\n",
      " [71.  3. 23. ...  0.  0.  0.]\n",
      " [75.  3. 37. ...  0.  0.  0.]]\n",
      "\n",
      "Number of support vectors for each class\n",
      "[13 48]\n"
     ]
    }
   ],
   "source": [
    "print(\"support vectors\")\n",
    "print(gridSearch_LinearSVM_CV.best_estimator_.support_vectors_)\n",
    "print(\"\\nNumber of support vectors for each class\")\n",
    "print(gridSearch_LinearSVM_CV.best_estimator_.n_support_)"
   ]
  },
  {
   "cell_type": "markdown",
   "metadata": {},
   "source": [
    "Le nombre de points séparateurs pour réaliser le SVM est une information intéressante car sont les points discriminants dans le cas de cette méthode"
   ]
  },
  {
   "cell_type": "markdown",
   "metadata": {},
   "source": [
    "### Régression Logistique"
   ]
  },
  {
   "cell_type": "markdown",
   "metadata": {},
   "source": [
    "La régression logistique est aussi une méthode adaptée et une extension de la régression linéiare pour réaliser de la classification en utilisant une fonction Logit"
   ]
  },
  {
   "cell_type": "code",
   "execution_count": 36,
   "metadata": {},
   "outputs": [
    {
     "name": "stderr",
     "output_type": "stream",
     "text": [
      "C:\\Users\\bigdata\\Anaconda3\\lib\\site-packages\\sklearn\\linear_model\\logistic.py:432: FutureWarning: Default solver will be changed to 'lbfgs' in 0.22. Specify a solver to silence this warning.\n",
      "  FutureWarning)\n"
     ]
    },
    {
     "data": {
      "text/plain": [
       "GridSearchCV(cv=5, error_score='raise-deprecating',\n",
       "             estimator=LogisticRegression(C=1.0, class_weight=None, dual=False,\n",
       "                                          fit_intercept=True,\n",
       "                                          intercept_scaling=1, l1_ratio=None,\n",
       "                                          max_iter=100, multi_class='warn',\n",
       "                                          n_jobs=None, penalty='l2',\n",
       "                                          random_state=None, solver='warn',\n",
       "                                          tol=0.0001, verbose=0,\n",
       "                                          warm_start=False),\n",
       "             iid='warn', n_jobs=-1,\n",
       "             param_grid={'C': array([1.e-05, 1.e-04, 1.e-03, 1.e-02, 1.e-01, 1.e+00, 1.e+01, 1.e+02,\n",
       "       1.e+03, 1.e+04, 1.e+05])},\n",
       "             pre_dispatch='2*n_jobs', refit=True, return_train_score=True,\n",
       "             scoring='accuracy', verbose=0)"
      ]
     },
     "execution_count": 36,
     "metadata": {},
     "output_type": "execute_result"
    }
   ],
   "source": [
    "from sklearn.model_selection import GridSearchCV\n",
    "from sklearn.linear_model import LogisticRegression\n",
    "# grille de valeurs\n",
    "params = {\"C\": np.logspace(-5, 5, 11) } \n",
    "gridSearch_LogisticRegression_CV = GridSearchCV(\n",
    "    estimator = LogisticRegression(),\n",
    "    param_grid= params,\n",
    "    scoring=\"accuracy\",\n",
    "    cv=5,\n",
    "    n_jobs=-1,\n",
    "    return_train_score=True)\n",
    "gridSearch_LogisticRegression_CV.fit(X_Train,y_Train)"
   ]
  },
  {
   "cell_type": "code",
   "execution_count": 37,
   "metadata": {},
   "outputs": [
    {
     "data": {
      "image/png": "[encoded data removed]",
      "text/plain": [
       "<Figure size 432x288 with 1 Axes>"
      ]
     },
     "metadata": {
      "needs_background": "light"
     },
     "output_type": "display_data"
    }
   ],
   "source": [
    "df_LogisticRegression_CV_results = pd.DataFrame(gridSearch_LogisticRegression_CV.cv_results_)\n",
    "df_LogisticRegression_CV_results.set_index([\"param_C\"])[[\"mean_test_score\",\n",
    "                                      \"mean_train_score\"]].plot(\n",
    "                                          kind=\"bar\", ylim=(0.99, 1))\n",
    "plt.ylabel(\"Accuracy\")\n",
    "plt.title(\"Accuracy en fonction du paramètre C de la classification par Régression Logistique\")\n",
    "plt.legend(loc=\"lower right\")\n",
    "plt.show()"
   ]
  },
  {
   "cell_type": "code",
   "execution_count": 38,
   "metadata": {},
   "outputs": [
    {
     "name": "stdout",
     "output_type": "stream",
     "text": [
      "Best C parameter pour Regression Logistique : \n",
      "0.1\n"
     ]
    }
   ],
   "source": [
    "print(\"Best C parameter pour Regression Logistique : \")\n",
    "print(gridSearch_LogisticRegression_CV.best_params_[\"C\"])"
   ]
  },
  {
   "cell_type": "code",
   "execution_count": 39,
   "metadata": {},
   "outputs": [
    {
     "name": "stdout",
     "output_type": "stream",
     "text": [
      "Score sur le test :  0.9994079336885732\n"
     ]
    }
   ],
   "source": [
    "print(\"Score sur le test : \", gridSearch_LogisticRegression_CV.score(X_Test,y_Test))"
   ]
  },
  {
   "cell_type": "code",
   "execution_count": 40,
   "metadata": {},
   "outputs": [
    {
     "data": {
      "text/plain": [
       "array([[853,   1],\n",
       "       [  0, 835]], dtype=int64)"
      ]
     },
     "execution_count": 40,
     "metadata": {},
     "output_type": "execute_result"
    }
   ],
   "source": [
    "y_TestPredicted = gridSearch_LogisticRegression_CV.predict(X_Test)\n",
    "confusion_matrix(y_Test, y_TestPredicted)"
   ]
  },
  {
   "cell_type": "markdown",
   "metadata": {},
   "source": [
    "#### Conclusion"
   ]
  },
  {
   "cell_type": "markdown",
   "metadata": {},
   "source": [
    "* La classification entre 2 langues est très bonne avec les différents modèles linéaires : Rigde, Lasso, SVM, Régression Logistique  \n",
    "* En se basant sur les occurences des caractères, les modèles linéaires arrivent à discriminer 2 langues. "
   ]
  },
  {
   "cell_type": "markdown",
   "metadata": {},
   "source": [
    "### Réduction de la dimension"
   ]
  },
  {
   "cell_type": "markdown",
   "metadata": {},
   "source": [
    "L'analyse en composantes principales est une méthode qui transforme des caractéristiques dites corrélées en caractéristiques non corrélées que l'on appelle composante principale exprimée comme une combinaison linéaire des features initiales. Cette phase est souvent suivi par la sélection d'un sous-ensemble des nouvelles caractéristiques, selon l'importance qu'elles présentent pour la compréhension des données. L'une des applications les plus courantes de la PCA est la visualisation de jeux de données multidimensionnels pour réduire le nombre de dimension dans un espace inférieur à 3 afin de le représenter."
   ]
  },
  {
   "cell_type": "markdown",
   "metadata": {},
   "source": [
    "#### Visualisation des données via PCA"
   ]
  },
  {
   "cell_type": "code",
   "execution_count": 41,
   "metadata": {},
   "outputs": [
    {
     "name": "stdout",
     "output_type": "stream",
     "text": [
      "Shape de départ : (8445, 695)\n",
      "Shape après PCA : (8445, 3)\n"
     ]
    }
   ],
   "source": [
    "from sklearn.preprocessing import StandardScaler\n",
    "from sklearn.pipeline import make_pipeline\n",
    "from sklearn.decomposition import PCA\n",
    "\n",
    "#Normalisation des données : centrage et réduction\n",
    "scaler = StandardScaler()\n",
    "X_scaled = scaler.fit_transform(X)\n",
    "\n",
    "#Application de la PCA\n",
    "pca = PCA(n_components=3, random_state=0)\n",
    "pca.fit(X_scaled)\n",
    "X_pca = pca.transform(X_scaled)\n",
    "\n",
    "print(\"Shape de départ : {}\".format(str(X_scaled.shape)))\n",
    "print(\"Shape après PCA : {}\".format(str(X_pca.shape)))"
   ]
  },
  {
   "cell_type": "code",
   "execution_count": 42,
   "metadata": {},
   "outputs": [
    {
     "data": {
      "image/png": "[encoded data removed]",
      "text/plain": [
       "<Figure size 432x288 with 1 Axes>"
      ]
     },
     "metadata": {
      "needs_background": "light"
     },
     "output_type": "display_data"
    },
    {
     "name": "stdout",
     "output_type": "stream",
     "text": [
      "[0.14438991 0.0134324  0.01046494]\n"
     ]
    }
   ],
   "source": [
    "import matplotlib.pyplot as plt\n",
    "plt.bar(range(1, pca.n_components_ + 1),  pca.explained_variance_ratio_)\n",
    "plt.xlabel('Principal component #')\n",
    "plt.ylabel('Proportion of variance explained')\n",
    "plt.show()\n",
    "print(pca.explained_variance_ratio_)"
   ]
  },
  {
   "cell_type": "code",
   "execution_count": 43,
   "metadata": {},
   "outputs": [
    {
     "data": {
      "image/png": "[encoded data removed]",
      "text/plain": [
       "<Figure size 432x288 with 1 Axes>"
      ]
     },
     "metadata": {
      "needs_background": "light"
     },
     "output_type": "display_data"
    }
   ],
   "source": [
    "import matplotlib.pyplot as plt\n",
    "# 3D visualization\n",
    "import pylab\n",
    "from mpl_toolkits.mplot3d import Axes3D\n",
    "from matplotlib import pyplot\n",
    "fig = pylab.figure(1)\n",
    "ax = Axes3D(fig)\n",
    "size_vertex_plot = 50\n",
    "ax.scatter(X_pca[:,0],X_pca[:,1],X_pca[:,2], s=10, c=y)\n",
    "ax.set_xlabel('First Component')\n",
    "ax.set_ylabel('Second Component')\n",
    "ax.set_zlabel('Third Component')\n",
    "plt.title('ACP with 3 components') \n",
    "pyplot.show() "
   ]
  },
  {
   "cell_type": "markdown",
   "metadata": {},
   "source": [
    "La variance expliquée à travers les trois composantes principales est uniquement de 16% mais permet déjà de visualiser une séparation assez claire des 2 langues à travers la représentation graphique."
   ]
  },
  {
   "cell_type": "markdown",
   "metadata": {},
   "source": [
    "#### Modèle de régression logistique suite à une PCA"
   ]
  },
  {
   "cell_type": "markdown",
   "metadata": {},
   "source": [
    "L'objectif est de voir la qualité d'une régression logistique suite à une réduction via PCA de la dimension initiale du problème."
   ]
  },
  {
   "cell_type": "code",
   "execution_count": 44,
   "metadata": {},
   "outputs": [
    {
     "name": "stderr",
     "output_type": "stream",
     "text": [
      "C:\\Users\\bigdata\\Anaconda3\\lib\\site-packages\\sklearn\\linear_model\\logistic.py:432: FutureWarning: Default solver will be changed to 'lbfgs' in 0.22. Specify a solver to silence this warning.\n",
      "  FutureWarning)\n"
     ]
    },
    {
     "data": {
      "text/plain": [
       "GridSearchCV(cv=5, error_score='raise-deprecating',\n",
       "             estimator=LogisticRegression(C=1.0, class_weight=None, dual=False,\n",
       "                                          fit_intercept=True,\n",
       "                                          intercept_scaling=1, l1_ratio=None,\n",
       "                                          max_iter=100, multi_class='warn',\n",
       "                                          n_jobs=None, penalty='l2',\n",
       "                                          random_state=None, solver='warn',\n",
       "                                          tol=0.0001, verbose=0,\n",
       "                                          warm_start=False),\n",
       "             iid='warn', n_jobs=-1,\n",
       "             param_grid={'C': array([1.e-05, 1.e-04, 1.e-03, 1.e-02, 1.e-01, 1.e+00, 1.e+01, 1.e+02,\n",
       "       1.e+03, 1.e+04, 1.e+05])},\n",
       "             pre_dispatch='2*n_jobs', refit=True, return_train_score=True,\n",
       "             scoring='accuracy', verbose=0)"
      ]
     },
     "execution_count": 44,
     "metadata": {},
     "output_type": "execute_result"
    }
   ],
   "source": [
    "scaler = StandardScaler()\n",
    "X_Train_scaled = scaler.fit_transform(X_Train)\n",
    "\n",
    "#Application de la PCA\n",
    "pca = PCA(n_components=3, random_state=0)\n",
    "pca.fit(X_Train_scaled)\n",
    "X_pca_Train = pca.transform(X_Train_scaled)\n",
    "\n",
    "# grille de valeurs\n",
    "params = {\"C\": np.logspace(-5, 5, 11) } \n",
    "gridSearch_LogisticRegressionWithPCA_CV = GridSearchCV(\n",
    "    estimator = LogisticRegression(),\n",
    "    param_grid= params,\n",
    "    scoring=\"accuracy\",\n",
    "    cv=5,\n",
    "    n_jobs=-1,\n",
    "    return_train_score=True)\n",
    "gridSearch_LogisticRegressionWithPCA_CV.fit(X_pca_Train,y_Train)"
   ]
  },
  {
   "cell_type": "code",
   "execution_count": 45,
   "metadata": {},
   "outputs": [
    {
     "data": {
      "image/png": "[encoded data removed]",
      "text/plain": [
       "<Figure size 432x288 with 1 Axes>"
      ]
     },
     "metadata": {
      "needs_background": "light"
     },
     "output_type": "display_data"
    }
   ],
   "source": [
    "df_LogisticRegressionPCA_CV_results = pd.DataFrame(gridSearch_LogisticRegressionWithPCA_CV.cv_results_)\n",
    "df_LogisticRegressionPCA_CV_results.set_index([\"param_C\"])[[\"mean_test_score\",\n",
    "                                      \"mean_train_score\"]].plot(\n",
    "                                          kind=\"bar\", ylim=(0.99, 1))\n",
    "plt.ylabel(\"Accuracy\")\n",
    "plt.title(\"Accuracy en fonction du paramètre C de la classification par Régression Logistique suite à PCA\")\n",
    "plt.legend(loc=\"lower right\")\n",
    "plt.show()"
   ]
  },
  {
   "cell_type": "code",
   "execution_count": 46,
   "metadata": {},
   "outputs": [
    {
     "name": "stdout",
     "output_type": "stream",
     "text": [
      "Best C parameter pour Regression Logistique suite à PCA : \n",
      "10.0\n"
     ]
    }
   ],
   "source": [
    "print(\"Best C parameter pour Regression Logistique suite à PCA : \")\n",
    "print(gridSearch_LogisticRegressionWithPCA_CV.best_params_[\"C\"])"
   ]
  },
  {
   "cell_type": "code",
   "execution_count": 47,
   "metadata": {},
   "outputs": [
    {
     "name": "stdout",
     "output_type": "stream",
     "text": [
      "Score sur le test :  0.9994079336885732\n"
     ]
    }
   ],
   "source": [
    "X_Test_scaled = scaler.transform(X_Test)\n",
    "X_pca_Test = pca.transform(X_Test_scaled)\n",
    "print(\"Score sur le test : \", gridSearch_LogisticRegressionWithPCA_CV.score(X_pca_Test,y_Test))"
   ]
  },
  {
   "cell_type": "code",
   "execution_count": 48,
   "metadata": {},
   "outputs": [
    {
     "data": {
      "text/plain": [
       "array([[853,   1],\n",
       "       [  0, 835]], dtype=int64)"
      ]
     },
     "execution_count": 48,
     "metadata": {},
     "output_type": "execute_result"
    }
   ],
   "source": [
    "y_TestPredicted = gridSearch_LogisticRegressionWithPCA_CV.predict(X_pca_Test)\n",
    "confusion_matrix(y_Test, y_TestPredicted)"
   ]
  },
  {
   "cell_type": "markdown",
   "metadata": {},
   "source": [
    "L'analyse en composante principale permet d'obtenir des résultats similaires par rapport à la dimension initiale du problème en prenant uniquement les 3 premières composantes principales. L'analyse graphique est confirmée par la classification suite à l'ACP."
   ]
  },
  {
   "cell_type": "markdown",
   "metadata": {},
   "source": [
    "## Méthode de classification non linéaire et réduction "
   ]
  },
  {
   "cell_type": "markdown",
   "metadata": {},
   "source": [
    "### Réduction de la dimension via KPCA"
   ]
  },
  {
   "cell_type": "code",
   "execution_count": 49,
   "metadata": {},
   "outputs": [
    {
     "name": "stdout",
     "output_type": "stream",
     "text": [
      "Shape de départ : (8445, 695)\n",
      "Shape après KPCA : (8445, 3)\n"
     ]
    }
   ],
   "source": [
    "from sklearn.decomposition import KernelPCA\n",
    "\n",
    "#Application de la PCA\n",
    "kpca =  KernelPCA(kernel=\"rbf\",n_components=3, random_state=0)\n",
    "kpca.fit(X_scaled)\n",
    "X_kpca = kpca.transform(X_scaled)\n",
    "\n",
    "print(\"Shape de départ : {}\".format(str(X_scaled.shape)))\n",
    "print(\"Shape après KPCA : {}\".format(str(X_kpca.shape)))"
   ]
  },
  {
   "cell_type": "code",
   "execution_count": 50,
   "metadata": {},
   "outputs": [
    {
     "data": {
      "image/png": "[encoded data removed]",
      "text/plain": [
       "<Figure size 432x288 with 1 Axes>"
      ]
     },
     "metadata": {
      "needs_background": "light"
     },
     "output_type": "display_data"
    }
   ],
   "source": [
    "import matplotlib.pyplot as plt\n",
    "# 3D visualization\n",
    "import pylab\n",
    "from mpl_toolkits.mplot3d import Axes3D\n",
    "from matplotlib import pyplot\n",
    "fig = pylab.figure(1)\n",
    "ax = Axes3D(fig)\n",
    "size_vertex_plot = 50\n",
    "ax.scatter(X_kpca[:,0],X_kpca[:,1],X_kpca[:,2], s=10, c=y)\n",
    "ax.set_xlabel('First Component by $\\phi$')\n",
    "ax.set_ylabel('Second Component by $\\phi$')\n",
    "ax.set_zlabel('Third Component by $\\phi$')\n",
    "plt.title('Kernel ACP with 3 components') \n",
    "pyplot.show() "
   ]
  },
  {
   "cell_type": "markdown",
   "metadata": {},
   "source": [
    "KPCA permet déjà de visualiser une séparation assez claire des 2 langues à travers la représentation graphique."
   ]
  },
  {
   "cell_type": "markdown",
   "metadata": {},
   "source": [
    "### Modèle SVM Gaussien suite à KCPA"
   ]
  },
  {
   "cell_type": "markdown",
   "metadata": {},
   "source": [
    "Nous avons deux hyperparamètres à optimiser $C$ et $gamma$ que nous réalisons à travers une validation croisée et une recherche sur grille."
   ]
  },
  {
   "cell_type": "code",
   "execution_count": 51,
   "metadata": {},
   "outputs": [
    {
     "data": {
      "text/plain": [
       "GridSearchCV(cv=5, error_score='raise-deprecating',\n",
       "             estimator=SVC(C=1.0, cache_size=200, class_weight=None, coef0=0.0,\n",
       "                           decision_function_shape='ovr', degree=3,\n",
       "                           gamma='auto_deprecated', kernel='rbf', max_iter=-1,\n",
       "                           probability=False, random_state=None, shrinking=True,\n",
       "                           tol=0.001, verbose=False),\n",
       "             iid='warn', n_jobs=-1,\n",
       "             param_grid={'C': array([1.e-05, 1.e-04, 1.e-03, 1.e-02, 1.e-01, 1.e+00, 1.e+01, 1.e+02,\n",
       "       1.e+03, 1.e+04, 1.e+05]),\n",
       "                         'gamma': array([1.e-05, 1.e-04, 1.e-03, 1.e-02, 1.e-01, 1.e+00, 1.e+01, 1.e+02,\n",
       "       1.e+03, 1.e+04, 1.e+05])},\n",
       "             pre_dispatch='2*n_jobs', refit=True, return_train_score=True,\n",
       "             scoring='accuracy', verbose=0)"
      ]
     },
     "execution_count": 51,
     "metadata": {},
     "output_type": "execute_result"
    }
   ],
   "source": [
    "#Application de KPCA avec noyau gaussien et 3 composantes\n",
    "kpca = KernelPCA(kernel=\"rbf\",n_components=3, random_state=0)\n",
    "kpca.fit(X_Train_scaled)\n",
    "X_kpca_Train = kpca.transform(X_Train_scaled)\n",
    "\n",
    "# grille de valeurs\n",
    "params = {\"C\": np.logspace(-5, 5, 11), \"gamma\":np.logspace(-5, 5, 11) } \n",
    "gridSearch_SVMGaussienWithKPCA_CV = GridSearchCV(\n",
    "    estimator = SVC(kernel='rbf'),\n",
    "    param_grid= params,\n",
    "    scoring=\"accuracy\",\n",
    "    cv=5,\n",
    "    n_jobs=-1,\n",
    "    return_train_score=True)\n",
    "gridSearch_SVMGaussienWithKPCA_CV.fit(X_kpca_Train,y_Train)"
   ]
  },
  {
   "cell_type": "code",
   "execution_count": 52,
   "metadata": {},
   "outputs": [
    {
     "name": "stdout",
     "output_type": "stream",
     "text": [
      "Best parameters pour SVM Gaussien suite à KPCA : \n",
      "{'C': 1000.0, 'gamma': 100.0}\n"
     ]
    }
   ],
   "source": [
    "print(\"Best parameters pour SVM Gaussien suite à KPCA : \")\n",
    "print(gridSearch_SVMGaussienWithKPCA_CV.best_params_)"
   ]
  },
  {
   "cell_type": "code",
   "execution_count": 53,
   "metadata": {},
   "outputs": [
    {
     "name": "stdout",
     "output_type": "stream",
     "text": [
      "Score sur le test :  0.9976317347542925\n"
     ]
    }
   ],
   "source": [
    "X_kpca_Test = kpca.transform(X_Test_scaled)\n",
    "print(\"Score sur le test : \", gridSearch_SVMGaussienWithKPCA_CV.score(X_kpca_Test,y_Test))"
   ]
  },
  {
   "cell_type": "code",
   "execution_count": 54,
   "metadata": {},
   "outputs": [
    {
     "data": {
      "text/plain": [
       "array([[853,   1],\n",
       "       [  3, 832]], dtype=int64)"
      ]
     },
     "execution_count": 54,
     "metadata": {},
     "output_type": "execute_result"
    }
   ],
   "source": [
    "y_TestPredicted = gridSearch_SVMGaussienWithKPCA_CV.predict(X_kpca_Test)\n",
    "confusion_matrix(y_Test, y_TestPredicted)"
   ]
  },
  {
   "cell_type": "markdown",
   "metadata": {},
   "source": [
    "On arrive à une bonne classification via la méthode non linéaire SVM en utilisant le noyau gaussien en réduisant l'espace de départ via KPCA. Néanmoins, l'intérêt d'une approche non-linéaire ne semble pas à privilégier par rapport à une approche linéaire car les résultats sont sensiblement identiques et l'approche linéaire est plus simple mathématiquement et le temps de calcul est aussi bien moindre (j'ai essayé avant KCPA de faire un SVM avec noyau gaussien en optimisant les hyperparamètres sur la matrice de données initiales et j'ai abandonné à la vue du temps de calcul)."
   ]
  },
  {
   "cell_type": "markdown",
   "metadata": {},
   "source": [
    "# Classification à N Classes"
   ]
  },
  {
   "cell_type": "code",
   "execution_count": null,
   "metadata": {},
   "outputs": [],
   "source": []
  }
 ],
 "metadata": {
  "kernelspec": {
   "display_name": "Python 3",
   "language": "python",
   "name": "python3"
  },
  "language_info": {
   "codemirror_mode": {
    "name": "ipython",
    "version": 3
   },
   "file_extension": ".py",
   "mimetype": "text/x-python",
   "name": "python",
   "nbconvert_exporter": "python",
   "pygments_lexer": "ipython3",
   "version": "3.7.4"
  }
 },
 "nbformat": 4,
 "nbformat_minor": 2
}
