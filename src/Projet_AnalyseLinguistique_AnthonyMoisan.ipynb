{
 "cells": [
  {
   "cell_type": "markdown",
   "metadata": {},
   "source": [
    "# Constitution des bases de données \n",
    "Cette première cellule vous présente la manière avec laquelle j'ai obtenu les features/caractéristiques à partir des jeux de données de \"textes\"\n",
    "Pour obtenir les textes (et les \"filtrer\") j'ai utiliser le script ./textDatasets/conversion.sh (qui prends, par exemple les fichiers FR_* les concatene, supprime les accents (en gardant les caracteres sans accents) et enfin transforme en minuscules).\n",
    "J'ai utilisé les livres \"open data\" de la base du site Guttenberg Project (qui archive énormément de livres en texte, \"txt\" simples\", tombés dans le domaine publique)."
   ]
  },
  {
   "cell_type": "markdown",
   "metadata": {},
   "source": [
    "## Code réalisé par R. Cogranne"
   ]
  },
  {
   "cell_type": "code",
   "execution_count": 1,
   "metadata": {},
   "outputs": [],
   "source": [
    "import numpy as np\n",
    "import string\n",
    "BlockSz=1000\n",
    "\n",
    "# On procede de la même façon pour les differents languages\n",
    "# Ouverture du fichier texte contenant les caracteres alphabetiques \"brutes\"\n",
    "textGERMAN = open('../input/GERMAN')\n",
    "# Lecture\n",
    "DE=textGERMAN.read()\n",
    "textGERMAN.close()\n",
    "# Calcule du nombre de blocks (arrondi par defaut) de BlockSz caracteres\n",
    "NbBlock=int(np.floor(len(DE)/BlockSz))\n",
    "# Creation des tableaux de donnees textuelles et de features\n",
    "DataDE=[]\n",
    "FeaDE =[]\n",
    "# Pour tous les indices de blocks ...\n",
    "for index in range(NbBlock):\n",
    "    # Exctraction des donnees texte du block\n",
    "    DataDE.append(DE[index*BlockSz:(index+1)*BlockSz])\n",
    "    # Comptage de chacun des caracteres\n",
    "    countDE=[]\n",
    "    for letter in string.ascii_lowercase:\n",
    "        countDE.append(DataDE[index].count(letter))\n",
    "    # Comptage de toutes les 26**2 paires de caracteres possibles\n",
    "    for letter1 in string.ascii_lowercase:\n",
    "        for letter2 in string.ascii_lowercase:\n",
    "            countDE.append(DataDE[index].count(letter1+letter2))\n",
    "    # Une fois le vecteur de décompte obtenu  .... on ajoute ce vecteur (contenant tous les decomptes) au tableaux des features\n",
    "    FeaDE.append(countDE)\n",
    "\n",
    "# On procede de la même façon pour les differents languages ....\n",
    "textFRENCH = open('../input/FRENCH')\n",
    "FR=textFRENCH.read()\n",
    "textFRENCH.close()\n",
    "NbBlock=int(np.floor(len(FR)/BlockSz))\n",
    "DataFR=[]\n",
    "FeaFR =[]\n",
    "for index in range(NbBlock):\n",
    "    DataFR.append(FR[index*BlockSz:(index+1)*BlockSz])\n",
    "    countFR=[]\n",
    "    for letter in string.ascii_lowercase:\n",
    "        countFR.append(DataFR[index].count(letter))\n",
    "    for letter1 in string.ascii_lowercase:\n",
    "        for letter2 in string.ascii_lowercase:\n",
    "            countFR.append(DataFR[index].count(letter1+letter2))\n",
    "    FeaFR.append(countFR)\n",
    "\n",
    "# On procede de la même façon pour les differents languages ....\n",
    "textSPANISH = open('../input/SPANISH')\n",
    "ES=textSPANISH.read()\n",
    "textSPANISH.close()\n",
    "NbBlock=int(np.floor(len(ES)/BlockSz))\n",
    "DataES=[]\n",
    "FeaES =[]\n",
    "for index in range(NbBlock):\n",
    "    DataES.append(ES[index*BlockSz:(index+1)*BlockSz])\n",
    "    countES=[]\n",
    "    for letter in string.ascii_lowercase:\n",
    "        countES.append(DataES[index].count(letter))\n",
    "    for letter1 in string.ascii_lowercase:\n",
    "        for letter2 in string.ascii_lowercase:\n",
    "            countES.append(DataES[index].count(letter1+letter2))\n",
    "    FeaES.append(countES)\n",
    "\n",
    "# On procede de la même façon pour les differents languages ....\n",
    "textENGLISH = open('../input/ENGLISH')\n",
    "EN=textENGLISH.read()\n",
    "textENGLISH.close()\n",
    "NbBlock=int(np.floor(len(EN)/BlockSz))\n",
    "DataEN=[]\n",
    "FeaEN =[]\n",
    "for index in range(NbBlock):\n",
    "    DataEN.append(EN[index*BlockSz:(index+1)*BlockSz])\n",
    "    countEN=[]\n",
    "    for letter in string.ascii_lowercase:\n",
    "        countEN.append(DataEN[index].count(letter))\n",
    "    for letter1 in string.ascii_lowercase:\n",
    "        for letter2 in string.ascii_lowercase:\n",
    "            countEN.append(DataEN[index].count(letter1+letter2))\n",
    "    FeaEN.append(countEN)"
   ]
  },
  {
   "cell_type": "code",
   "execution_count": 2,
   "metadata": {},
   "outputs": [],
   "source": [
    "# Ici on sauvegarde les caracteristiques, pour eviter de les recalculer à chaque fois ....\n",
    "np.save('./FeaEN.npy', FeaEN)\n",
    "np.save('./FeaFR.npy', FeaFR)\n",
    "np.save('./FeaDE.npy', FeaDE)\n",
    "np.save('./FeaES.npy', FeaES)"
   ]
  },
  {
   "cell_type": "code",
   "execution_count": 3,
   "metadata": {},
   "outputs": [],
   "source": [
    "# ... On peut simplement les loader (et commenter les cellules precedentes)\n",
    "FeaEN = np.load('./FeaEN.npy')\n",
    "FeaFR = np.load('./FeaFR.npy')\n",
    "FeaDE = np.load('./FeaDE.npy')\n",
    "FeaES = np.load('./FeaES.npy')"
   ]
  },
  {
   "cell_type": "code",
   "execution_count": 4,
   "metadata": {
    "scrolled": true
   },
   "outputs": [
    {
     "name": "stdout",
     "output_type": "stream",
     "text": [
      "(4329, 702)\n",
      "(4116, 702)\n",
      "(4321, 702)\n",
      "(4209, 702)\n"
     ]
    }
   ],
   "source": [
    "# Pour plus de \"facilier de manipulation\" on trasforme les donnes en \"matrice numpy\" et on affiche la dimension de la base de donnees.\n",
    "FeaDE = np.array(FeaDE)\n",
    "print(FeaDE.shape)\n",
    "\n",
    "FeaFR = np.array(FeaFR)\n",
    "print(FeaFR.shape)\n",
    "\n",
    "FeaES = np.array(FeaES)\n",
    "print(FeaES.shape)\n",
    "\n",
    "FeaEN = np.array(FeaEN)\n",
    "print(FeaEN.shape)"
   ]
  },
  {
   "cell_type": "markdown",
   "metadata": {},
   "source": [
    "## Refactorisation du code pour comprendre la constitution des données"
   ]
  },
  {
   "cell_type": "markdown",
   "metadata": {},
   "source": [
    "### Librairies"
   ]
  },
  {
   "cell_type": "code",
   "execution_count": 5,
   "metadata": {},
   "outputs": [],
   "source": [
    "import numpy as np\n",
    "import string\n",
    "import pandas as pd\n",
    "import matplotlib.pyplot as plt\n",
    "%matplotlib inline\n",
    "\n",
    "#Uniquement pour enlever les warning de certaines méthodes (peut être mis en commentaires)\n",
    "#import sys\n",
    "#if not sys.warnoptions:\n",
    "#    import warnings\n",
    "#    warnings.simplefilter(\"ignore\")"
   ]
  },
  {
   "cell_type": "markdown",
   "metadata": {},
   "source": [
    "### Découpage en fonctions"
   ]
  },
  {
   "cell_type": "code",
   "execution_count": 6,
   "metadata": {},
   "outputs": [],
   "source": [
    "#Fonction Feature qui permet à partir d'un fichier de comptabiliser le nombre d'occurences d'un caractère, le nombre d'occurences de deux caractères\n",
    "def GenerateFeature(filename, BlockSz=1000) :\n",
    "    # Ouverture du fichier texte contenant les caracteres alphabetiques \"brutes\"\n",
    "    textCountry = open(filename)\n",
    "    # Lecture\n",
    "    content=textCountry.read()\n",
    "    textCountry.close()\n",
    "    # Calcule du nombre de blocks (arrondi par defaut) de BlockSz caracteres\n",
    "    NbBlock=int(np.floor(len(content)/BlockSz))\n",
    "    # Creation des tableaux de donnees textuelles et de features\n",
    "    Data=[]\n",
    "    Fea =[]\n",
    "    # Pour tous les indices de blocks ...\n",
    "    for index in range(NbBlock):\n",
    "        # Exctraction des donnees texte du block\n",
    "        Data.append(content[index*BlockSz:(index+1)*BlockSz])\n",
    "        # Comptage de chacun des caracteres\n",
    "        countCaracter=[]\n",
    "        for letter in string.ascii_lowercase:\n",
    "            countCaracter.append(Data[index].count(letter))\n",
    "        # Comptage de toutes les 26**2 paires de caracteres possibles\n",
    "        for letter1 in string.ascii_lowercase:\n",
    "            for letter2 in string.ascii_lowercase:\n",
    "                countCaracter.append(Data[index].count(letter1+letter2))\n",
    "        # Une fois le vecteur de décompte obtenu  .... on ajoute ce vecteur (contenant tous les decomptes) au tableaux des features\n",
    "        Fea.append(countCaracter)\n",
    "    return Fea"
   ]
  },
  {
   "cell_type": "code",
   "execution_count": 7,
   "metadata": {},
   "outputs": [],
   "source": [
    "import os\n",
    "#Permet de générer la matrix en fonction d'un fichier d'entrée ou d'un fichier numpy si le travail sur le texte a déjà été réalisé\n",
    "def GenerateMatrix(filenameIn, fileConvertNpy, BlockSz=1000):\n",
    "    if(os.path.exists(fileConvertNpy)):\n",
    "        feature = np.load(fileConvertNpy)\n",
    "        return np.array(feature)\n",
    "    else :\n",
    "        feature = GenerateFeature(filenameIn, BlockSz)\n",
    "        np.save(fileConvertNpy, feature)\n",
    "        return np.array(feature)"
   ]
  },
  {
   "cell_type": "code",
   "execution_count": 8,
   "metadata": {},
   "outputs": [
    {
     "name": "stdout",
     "output_type": "stream",
     "text": [
      "Shape german : (4329, 702)\n",
      "Shape french : (4116, 702)\n",
      "Shape spanish : (4321, 702)\n",
      "Shape english : (4209, 702)\n"
     ]
    }
   ],
   "source": [
    "germanArray = GenerateMatrix('../input/GERMAN', './FeatureDE.npy')\n",
    "print(\"Shape german : \" +str(germanArray.shape))\n",
    "frenchArray = GenerateMatrix('../input/FRENCH', './FeatureFR.npy')\n",
    "print(\"Shape french : \" +str(frenchArray.shape))\n",
    "spanishArray = GenerateMatrix('../input/SPANISH', './FeatureSP.npy')\n",
    "print(\"Shape spanish : \" +str(spanishArray.shape))\n",
    "englishArray = GenerateMatrix('../input/ENGLISH', './FeatureEN.npy')\n",
    "print(\"Shape english : \" +str(englishArray.shape))\n"
   ]
  },
  {
   "cell_type": "code",
   "execution_count": 9,
   "metadata": {},
   "outputs": [
    {
     "name": "stdout",
     "output_type": "stream",
     "text": [
      "Verification German Array :  0\n",
      "Verification French Array :  0\n",
      "Verification Spanish Array :  0\n",
      "Verification English Array :  0\n"
     ]
    }
   ],
   "source": [
    "print(\"Verification German Array : \", (germanArray - FeaDE).sum())\n",
    "print(\"Verification French Array : \", (frenchArray - FeaFR).sum())\n",
    "print(\"Verification Spanish Array : \", (spanishArray - FeaES).sum())\n",
    "print(\"Verification English Array : \", (englishArray - FeaEN).sum())"
   ]
  },
  {
   "cell_type": "markdown",
   "metadata": {},
   "source": [
    "Le code permet de comptabiliser dans un ensemble de textes concaténées et nettoyées via Conversion.sln :\n",
    "* le nombre de lignes correspond au découpage du fichier consolidé en block de 1000 caractères\n",
    "* les 26 premières colonnes correspondent au nombre d'occurences sur la ligne du nombre de A, ..., Z\n",
    "* les 26 colonnes suivantes correspondent au nombre d'occurences de la succession de caractères AA, AB, ..., AZ\n",
    "* les 26 colonnes suivantes correspondent au nombre d'occurences de la succession de caractères BA, BB, ..., BZ\n",
    "* ...\n",
    "* les 26 dernières colonnes correspondent au nombre d'occurences de la succession de caractères ZA, ZB, ..., ZZ\n",
    "\n",
    "On retrouve bien que le nombre de colonnes 26 + 26*26"
   ]
  },
  {
   "cell_type": "markdown",
   "metadata": {},
   "source": [
    "### Construction Dataframe"
   ]
  },
  {
   "cell_type": "markdown",
   "metadata": {},
   "source": [
    "Les dataframe Panda sont pratiques notamment pour avoir des colonnes associées à la matrice de données."
   ]
  },
  {
   "cell_type": "code",
   "execution_count": 10,
   "metadata": {},
   "outputs": [],
   "source": [
    "#Permet de construire la liste a, b, ...,z, aa, ..., az, ..., zz\n",
    "def BuildListColumn():\n",
    "    listColumn = []\n",
    "    for letter in string.ascii_lowercase:\n",
    "        listColumn.append(letter)\n",
    "    for letter1 in string.ascii_lowercase:\n",
    "        for letter2 in string.ascii_lowercase:\n",
    "            listColumn.append(letter1+letter2)\n",
    "    return listColumn"
   ]
  },
  {
   "cell_type": "code",
   "execution_count": 11,
   "metadata": {},
   "outputs": [],
   "source": [
    "def BuildDataFrame(data, listColumn):\n",
    "    return pd.DataFrame(data, columns = listColumn)"
   ]
  },
  {
   "cell_type": "code",
   "execution_count": 12,
   "metadata": {},
   "outputs": [],
   "source": [
    "listColumn = BuildListColumn()\n",
    "df_spanish = BuildDataFrame(spanishArray,listColumn) \n",
    "df_german = BuildDataFrame(germanArray,listColumn)\n",
    "df_french = BuildDataFrame(frenchArray,listColumn)\n",
    "df_english = BuildDataFrame(englishArray,listColumn)"
   ]
  },
  {
   "cell_type": "markdown",
   "metadata": {},
   "source": [
    "### Suppression des colonnes vides"
   ]
  },
  {
   "cell_type": "markdown",
   "metadata": {},
   "source": [
    "On identifie par langue les colonnes où le caractère est nul sur l'intégralité des lignes."
   ]
  },
  {
   "cell_type": "code",
   "execution_count": 13,
   "metadata": {},
   "outputs": [
    {
     "name": "stdout",
     "output_type": "stream",
     "text": [
      "Empty French Column : 42\n",
      "Empty Spanish Column : 58\n",
      "Empty English Column : 58\n",
      "Empty German Column : 28\n"
     ]
    }
   ],
   "source": [
    "frenchEmptyColumn = [ val for val in listColumn if df_french[val].sum()==0]\n",
    "spanishEmptyColumn = [ val for val in listColumn if df_spanish[val].sum()==0]\n",
    "englishEmptyColumn = [ val for val in listColumn if df_english[val].sum()==0]\n",
    "germanEmptyColumn = [ val for val in listColumn if df_german[val].sum()==0]\n",
    "print(\"Empty French Column : \" + str(len(frenchEmptyColumn)))\n",
    "print(\"Empty Spanish Column : \" + str(len(spanishEmptyColumn)))\n",
    "print(\"Empty English Column : \" + str(len(englishEmptyColumn)))\n",
    "print(\"Empty German Column : \" + str(len(germanEmptyColumn)))"
   ]
  },
  {
   "cell_type": "markdown",
   "metadata": {},
   "source": [
    "On supprime ensuite en faisant l'intersection des colonnes vides pour l'ensemble des langues ce qui nous permet d'identifier une suite de caractères inutiles quelque soit la langue."
   ]
  },
  {
   "cell_type": "code",
   "execution_count": 14,
   "metadata": {
    "scrolled": true
   },
   "outputs": [
    {
     "name": "stdout",
     "output_type": "stream",
     "text": [
      "Drop Column : 6\n"
     ]
    }
   ],
   "source": [
    "intersectionEmpty = set(frenchEmptyColumn).intersection(spanishEmptyColumn).intersection(englishEmptyColumn).intersection(germanEmptyColumn)\n",
    "print(\"Drop Column : \" + str(len(intersectionEmpty)))\n",
    "df_french.drop(intersectionEmpty, axis=1, inplace=True)\n",
    "df_spanish.drop(intersectionEmpty, axis=1, inplace=True)\n",
    "df_german.drop(intersectionEmpty, axis=1, inplace=True)\n",
    "df_english.drop(intersectionEmpty, axis=1,inplace=True)"
   ]
  },
  {
   "cell_type": "code",
   "execution_count": 15,
   "metadata": {},
   "outputs": [
    {
     "data": {
      "text/plain": [
       "{'jx', 'kx', 'qw', 'qx', 'qy', 'qz'}"
      ]
     },
     "execution_count": 15,
     "metadata": {},
     "output_type": "execute_result"
    }
   ],
   "source": [
    "intersectionEmpty"
   ]
  },
  {
   "cell_type": "markdown",
   "metadata": {},
   "source": [
    "Pour des optimisations ultérieures dans les comparaisons deux à deux des langues, on va mettre à jour la liste des colonnes vides de chaque langue"
   ]
  },
  {
   "cell_type": "code",
   "execution_count": 16,
   "metadata": {},
   "outputs": [
    {
     "name": "stdout",
     "output_type": "stream",
     "text": [
      "Empty French Column after drop : 36\n",
      "Empty Spanish Column after drop : 52\n",
      "Empty English Column after drop : 52\n",
      "Empty German Column after drop : 22\n"
     ]
    }
   ],
   "source": [
    "for colEmpty in intersectionEmpty:\n",
    "    frenchEmptyColumn.remove(colEmpty)\n",
    "    spanishEmptyColumn.remove(colEmpty)\n",
    "    englishEmptyColumn.remove(colEmpty)\n",
    "    germanEmptyColumn.remove(colEmpty)\n",
    "print(\"Empty French Column after drop : \" + str(len(frenchEmptyColumn)))\n",
    "print(\"Empty Spanish Column after drop : \" + str(len(spanishEmptyColumn)))\n",
    "print(\"Empty English Column after drop : \" + str(len(englishEmptyColumn)))\n",
    "print(\"Empty German Column after drop : \" + str(len(germanEmptyColumn)))"
   ]
  },
  {
   "cell_type": "markdown",
   "metadata": {},
   "source": [
    "### Un peu de statistique descriptive sur les dataframe"
   ]
  },
  {
   "cell_type": "code",
   "execution_count": 17,
   "metadata": {},
   "outputs": [
    {
     "data": {
      "text/plain": [
       "<matplotlib.axes._subplots.AxesSubplot at 0x1f76230a508>"
      ]
     },
     "execution_count": 17,
     "metadata": {},
     "output_type": "execute_result"
    },
    {
     "data": {
      "image/png": "[encoded data removed]",
      "text/plain": [
       "<Figure size 432x288 with 1 Axes>"
      ]
     },
     "metadata": {
      "needs_background": "light"
     },
     "output_type": "display_data"
    },
    {
     "data": {
      "image/png": "[encoded data removed]",
      "text/plain": [
       "<Figure size 432x288 with 1 Axes>"
      ]
     },
     "metadata": {
      "needs_background": "light"
     },
     "output_type": "display_data"
    },
    {
     "data": {
      "image/png": "[encoded data removed]",
      "text/plain": [
       "<Figure size 432x288 with 1 Axes>"
      ]
     },
     "metadata": {
      "needs_background": "light"
     },
     "output_type": "display_data"
    },
    {
     "data": {
      "image/png": "[encoded data removed]",
      "text/plain": [
       "<Figure size 432x288 with 1 Axes>"
      ]
     },
     "metadata": {
      "needs_background": "light"
     },
     "output_type": "display_data"
    }
   ],
   "source": [
    "df_top_french_Occ = df_french.mean().sort_values(ascending=False)[0:10].to_frame(\"Max occurence\")\n",
    "df_top_english_Occ = df_english.mean().sort_values(ascending=False)[0:10].to_frame(\"Max occurence\")\n",
    "df_top_german_Occ = df_german.mean().sort_values(ascending=False)[0:10].to_frame(\"Max occurence\")\n",
    "df_top_spanish_Occ = df_spanish.mean().sort_values(ascending=False)[0:10].to_frame(\"Max occurence\")\n",
    "\n",
    "df_top_french_Occ.plot.bar(title=\"Top 10 French Mean Occurence\", legend=False)\n",
    "df_top_english_Occ.plot.bar(title=\"Top 10 English Occurence\", legend=False)\n",
    "df_top_german_Occ.plot.bar(title=\"Top 10 German Mean Occurence\", legend=False)\n",
    "df_top_spanish_Occ.plot.bar(title=\"Top 10 Spanish Mean Occurence\", legend=False)"
   ]
  },
  {
   "cell_type": "markdown",
   "metadata": {},
   "source": [
    "Analyse :\n",
    "* Sans surprise, ce sont 1 seule lettre qui ressorte dans le Top 10 par rapport à la succession de 2 lettres\n",
    "* La voyelle e est la lettre qui est la plus représentée quelque soit la langue\n",
    "* Le a se place en deuxième pour l'espagnol et le français, en troisième place pour l'anglais et en 6ème place pour l'allemand\n",
    "* On peut voir des singularités sur l'occurence de certaines lettres comme le t qui est présent de manière plus significative en français que dans les autres langues ou le n pour l'allemand."
   ]
  },
  {
   "cell_type": "markdown",
   "metadata": {},
   "source": [
    "Regardons les occurences de 2 caractères pour voir s'il y a des caractères discriminants qui apportent peut-être plus d'informations que l'occurence d'une lettre"
   ]
  },
  {
   "cell_type": "code",
   "execution_count": 18,
   "metadata": {},
   "outputs": [
    {
     "data": {
      "text/plain": [
       "<matplotlib.axes._subplots.AxesSubplot at 0x1f763d85308>"
      ]
     },
     "execution_count": 18,
     "metadata": {},
     "output_type": "execute_result"
    },
    {
     "data": {
      "image/png": "[encoded data removed]",
      "text/plain": [
       "<Figure size 432x288 with 1 Axes>"
      ]
     },
     "metadata": {
      "needs_background": "light"
     },
     "output_type": "display_data"
    },
    {
     "data": {
      "image/png": "[encoded data removed]",
      "text/plain": [
       "<Figure size 432x288 with 1 Axes>"
      ]
     },
     "metadata": {
      "needs_background": "light"
     },
     "output_type": "display_data"
    },
    {
     "data": {
      "image/png": "[encoded data removed]",
      "text/plain": [
       "<Figure size 432x288 with 1 Axes>"
      ]
     },
     "metadata": {
      "needs_background": "light"
     },
     "output_type": "display_data"
    },
    {
     "data": {
      "image/png": "[encoded data removed]",
      "text/plain": [
       "<Figure size 432x288 with 1 Axes>"
      ]
     },
     "metadata": {
      "needs_background": "light"
     },
     "output_type": "display_data"
    }
   ],
   "source": [
    "df_top_french_Occ2 = df_french.iloc[:,26:].mean().sort_values(ascending=False)[0:10].to_frame(\"Max occurence\")\n",
    "df_top_english_Occ2 = df_english.iloc[:,26:].mean().sort_values(ascending=False)[0:10].to_frame(\"Max occurence\")\n",
    "df_top_german_Occ2 = df_german.iloc[:,26:].mean().sort_values(ascending=False)[0:10].to_frame(\"Max occurence\")\n",
    "df_top_spanish_Occ2 = df_spanish.iloc[:,26:].mean().sort_values(ascending=False)[0:10].to_frame(\"Max occurence\")\n",
    "df_top_french_Occ2.plot.bar(title=\"Top 10 French Mean Occurence 2 letters\", legend=False)\n",
    "df_top_english_Occ2.plot.bar(title=\"Top 10 English Occurence 2 letters\", legend=False)\n",
    "df_top_german_Occ2.plot.bar(title=\"Top 10 German Mean Occurence 2 letters\", legend=False)\n",
    "df_top_spanish_Occ2.plot.bar(title=\"Top 10 Spanish Mean Occurence 2 letters\", legend=False)"
   ]
  },
  {
   "cell_type": "markdown",
   "metadata": {},
   "source": [
    "On peut voir des différences entre les langues avec : \n",
    "* es qui est par exemple la suite de lettres la plus présente en français et qui n'apparait pas dans le top 10 allemand alors qu'il apparait en anglais(8) /espagnol (2) avec un merit order différent par rapport au français\n",
    "* th en anglais est très spécifique et ne ressort pas dans les top 10 des autres langues. "
   ]
  },
  {
   "cell_type": "markdown",
   "metadata": {},
   "source": [
    "# Classification linéaire à 2 classes"
   ]
  },
  {
   "cell_type": "markdown",
   "metadata": {},
   "source": [
    "## Construction des ensembles X,y,Train et Test"
   ]
  },
  {
   "cell_type": "markdown",
   "metadata": {},
   "source": [
    "### Ensemble X,y"
   ]
  },
  {
   "cell_type": "markdown",
   "metadata": {},
   "source": [
    "On ajoute deux ensembles de features de deux langues et on construit la cible du modèle. Par convention, nous donnons 1 pour la première langue et -1 pour la seconde langue."
   ]
  },
  {
   "cell_type": "code",
   "execution_count": 19,
   "metadata": {},
   "outputs": [],
   "source": [
    "def BuildFeatureAndTarget(firstLang, secondLang):\n",
    "    \n",
    "    if(firstLang == \"DE\"):\n",
    "        firstArray = df_german\n",
    "        firstEmptyColumn = germanEmptyColumn\n",
    "    elif(firstLang == \"FR\"):\n",
    "        firstArray = df_french\n",
    "        firstEmptyColumn = frenchEmptyColumn\n",
    "    elif(firstLang == \"SP\"):\n",
    "        firstArray = df_spanish\n",
    "        firstEmptyColumn = spanishEmptyColumn\n",
    "    else:\n",
    "        firstArray = df_english\n",
    "        firstEmptyColumn = englishEmptyColumn\n",
    "    \n",
    "    if(secondLang == \"DE\"):\n",
    "        secondArray = df_german\n",
    "        secondEmptyColumn = germanEmptyColumn\n",
    "    elif(secondLang == \"FR\"):\n",
    "        secondArray = df_french\n",
    "        secondEmptyColumn = frenchEmptyColumn\n",
    "    elif(secondLang == \"SP\"):\n",
    "        secondArray = df_spanish\n",
    "        secondEmptyColumn = spanishEmptyColumn\n",
    "    else:\n",
    "        secondArray = df_english\n",
    "        secondEmptyColumn = englishEmptyColumn\n",
    "    \n",
    "    print(\"First Lang : \"  + firstLang)\n",
    "    print(\"Shape de First Lang : \" + str(firstArray.shape))\n",
    "    print(\"Second Lang : \" + secondLang)\n",
    "    print(\"Shape de Second Lang : \" + str(secondArray.shape))\n",
    "    \n",
    "    X = pd.concat([firstArray,secondArray], ignore_index=True)\n",
    "    intersectionEmpty = set(firstEmptyColumn).intersection(secondEmptyColumn)\n",
    "    print(\"Drop Column : \" + str(len(intersectionEmpty)))\n",
    "    print(intersectionEmpty)\n",
    "    X.drop(intersectionEmpty, axis=1, inplace=True)\n",
    "\n",
    "    targetFirst = np.array([1 for i in range(firstArray.shape[0])])\n",
    "    targetSecond = np.array([-1 for i in range(secondArray.shape[0])])\n",
    "    y = np.append(targetFirst,targetSecond, axis = 0)\n",
    "    \n",
    "    print(\"Shape de X : \" + str(X.shape))\n",
    "    print(\"Shape de y : \" + str(y.shape))\n",
    "    return(X,y)"
   ]
  },
  {
   "cell_type": "markdown",
   "metadata": {},
   "source": [
    "On prend dans ce cas le Français et l'Allemand pour construire notre Dataset : une langue de racine différente."
   ]
  },
  {
   "cell_type": "code",
   "execution_count": 20,
   "metadata": {
    "scrolled": true
   },
   "outputs": [
    {
     "name": "stdout",
     "output_type": "stream",
     "text": [
      "First Lang : FR\n",
      "Shape de First Lang : (4116, 696)\n",
      "Second Lang : DE\n",
      "Shape de Second Lang : (4329, 696)\n",
      "Drop Column : 1\n",
      "{'yy'}\n",
      "Shape de X : (8445, 695)\n",
      "Shape de y : (8445,)\n"
     ]
    }
   ],
   "source": [
    "X,y = BuildFeatureAndTarget(\"FR\", \"DE\")"
   ]
  },
  {
   "cell_type": "markdown",
   "metadata": {},
   "source": [
    "### Séparation entre Train et Test"
   ]
  },
  {
   "cell_type": "markdown",
   "metadata": {},
   "source": [
    "On prend 80% des données pour le train et 20% pour le test"
   ]
  },
  {
   "cell_type": "code",
   "execution_count": 21,
   "metadata": {},
   "outputs": [
    {
     "name": "stdout",
     "output_type": "stream",
     "text": [
      "Taille de X_train : (6756, 695)\n",
      "Taille de y_Train : (6756,)\n",
      "Taille de X_test : (1689, 695)\n",
      "Taille de y_Test : (1689,)\n"
     ]
    }
   ],
   "source": [
    "#On split le dataset (permet également de shuffle)\n",
    "from sklearn.model_selection import train_test_split\n",
    "X_Train, X_Test, y_Train, y_Test = train_test_split(X, y, test_size=0.2, random_state=123)\n",
    "print(\"Taille de X_train : \" + str(X_Train.shape))\n",
    "print(\"Taille de y_Train : \" + str(y_Train.shape))\n",
    "print(\"Taille de X_test : \" + str(X_Test.shape))\n",
    "print(\"Taille de y_Test : \" + str(y_Test.shape))"
   ]
  },
  {
   "cell_type": "markdown",
   "metadata": {},
   "source": [
    "## Différentes méthodes de classification linéaires"
   ]
  },
  {
   "cell_type": "markdown",
   "metadata": {},
   "source": [
    "### Régression linéaire Ridge"
   ]
  },
  {
   "cell_type": "markdown",
   "metadata": {},
   "source": [
    "Le modèle Ridge est une régression linéaire introduisant en plus un terme de régularisation en Norme L2 sur le vecteur de pondération."
   ]
  },
  {
   "cell_type": "markdown",
   "metadata": {},
   "source": [
    "On effectue une recherche sur grille avec validation croisée sur l'ensemble de train pour identifier le meilleur paramètre alpha. Nous avons utilisé l'accuracy comme métrique car les classes sont équilibrées"
   ]
  },
  {
   "cell_type": "code",
   "execution_count": 22,
   "metadata": {},
   "outputs": [
    {
     "data": {
      "text/plain": [
       "GridSearchCV(cv=5, error_score='raise-deprecating',\n",
       "             estimator=RidgeClassifier(alpha=1.0, class_weight=None,\n",
       "                                       copy_X=True, fit_intercept=True,\n",
       "                                       max_iter=None, normalize=False,\n",
       "                                       random_state=None, solver='auto',\n",
       "                                       tol=0.001),\n",
       "             iid='warn', n_jobs=-1,\n",
       "             param_grid={'alpha': array([1.e-05, 1.e-04, 1.e-03, 1.e-02, 1.e-01, 1.e+00, 1.e+01, 1.e+02,\n",
       "       1.e+03, 1.e+04, 1.e+05])},\n",
       "             pre_dispatch='2*n_jobs', refit=True, return_train_score=True,\n",
       "             scoring='accuracy', verbose=0)"
      ]
     },
     "execution_count": 22,
     "metadata": {},
     "output_type": "execute_result"
    }
   ],
   "source": [
    "from sklearn.model_selection import GridSearchCV\n",
    "from sklearn.linear_model import RidgeClassifier\n",
    "# grille de valeurs\n",
    "params = {\"alpha\": np.logspace(-5, 5, 11) } \n",
    "gridSearch_Ridge_CV = GridSearchCV(\n",
    "    estimator = RidgeClassifier(),\n",
    "    param_grid= params,\n",
    "    scoring=\"accuracy\",\n",
    "    cv=5,\n",
    "    n_jobs=-1,\n",
    "    return_train_score=True)\n",
    "gridSearch_Ridge_CV.fit(X_Train,y_Train)"
   ]
  },
  {
   "cell_type": "markdown",
   "metadata": {},
   "source": [
    "On stocke les résultats dans un dataframe et on peut visualiser les résultats."
   ]
  },
  {
   "cell_type": "code",
   "execution_count": 23,
   "metadata": {},
   "outputs": [
    {
     "data": {
      "text/html": [
       "<div>\n",
       "<style scoped>\n",
       "    .dataframe tbody tr th:only-of-type {\n",
       "        vertical-align: middle;\n",
       "    }\n",
       "\n",
       "    .dataframe tbody tr th {\n",
       "        vertical-align: top;\n",
       "    }\n",
       "\n",
       "    .dataframe thead th {\n",
       "        text-align: right;\n",
       "    }\n",
       "</style>\n",
       "<table border=\"1\" class=\"dataframe\">\n",
       "  <thead>\n",
       "    <tr style=\"text-align: right;\">\n",
       "      <th></th>\n",
       "      <th>mean_fit_time</th>\n",
       "      <th>std_fit_time</th>\n",
       "      <th>mean_score_time</th>\n",
       "      <th>std_score_time</th>\n",
       "      <th>param_alpha</th>\n",
       "      <th>params</th>\n",
       "      <th>split0_test_score</th>\n",
       "      <th>split1_test_score</th>\n",
       "      <th>split2_test_score</th>\n",
       "      <th>split3_test_score</th>\n",
       "      <th>...</th>\n",
       "      <th>mean_test_score</th>\n",
       "      <th>std_test_score</th>\n",
       "      <th>rank_test_score</th>\n",
       "      <th>split0_train_score</th>\n",
       "      <th>split1_train_score</th>\n",
       "      <th>split2_train_score</th>\n",
       "      <th>split3_train_score</th>\n",
       "      <th>split4_train_score</th>\n",
       "      <th>mean_train_score</th>\n",
       "      <th>std_train_score</th>\n",
       "    </tr>\n",
       "  </thead>\n",
       "  <tbody>\n",
       "    <tr>\n",
       "      <td>0</td>\n",
       "      <td>0.507131</td>\n",
       "      <td>0.143261</td>\n",
       "      <td>0.018738</td>\n",
       "      <td>0.002260</td>\n",
       "      <td>1e-05</td>\n",
       "      <td>{'alpha': 1e-05}</td>\n",
       "      <td>0.995562</td>\n",
       "      <td>0.99926</td>\n",
       "      <td>0.99926</td>\n",
       "      <td>0.995559</td>\n",
       "      <td>...</td>\n",
       "      <td>0.997188</td>\n",
       "      <td>0.001713</td>\n",
       "      <td>1</td>\n",
       "      <td>0.997779</td>\n",
       "      <td>0.997410</td>\n",
       "      <td>0.997410</td>\n",
       "      <td>0.998150</td>\n",
       "      <td>0.997780</td>\n",
       "      <td>0.997706</td>\n",
       "      <td>0.000277</td>\n",
       "    </tr>\n",
       "    <tr>\n",
       "      <td>1</td>\n",
       "      <td>0.633230</td>\n",
       "      <td>0.136807</td>\n",
       "      <td>0.024398</td>\n",
       "      <td>0.010494</td>\n",
       "      <td>0.0001</td>\n",
       "      <td>{'alpha': 0.0001}</td>\n",
       "      <td>0.995562</td>\n",
       "      <td>0.99926</td>\n",
       "      <td>0.99926</td>\n",
       "      <td>0.995559</td>\n",
       "      <td>...</td>\n",
       "      <td>0.997188</td>\n",
       "      <td>0.001713</td>\n",
       "      <td>1</td>\n",
       "      <td>0.997779</td>\n",
       "      <td>0.997410</td>\n",
       "      <td>0.997410</td>\n",
       "      <td>0.998150</td>\n",
       "      <td>0.997780</td>\n",
       "      <td>0.997706</td>\n",
       "      <td>0.000277</td>\n",
       "    </tr>\n",
       "    <tr>\n",
       "      <td>2</td>\n",
       "      <td>0.503811</td>\n",
       "      <td>0.116772</td>\n",
       "      <td>0.019325</td>\n",
       "      <td>0.004158</td>\n",
       "      <td>0.001</td>\n",
       "      <td>{'alpha': 0.001}</td>\n",
       "      <td>0.995562</td>\n",
       "      <td>0.99926</td>\n",
       "      <td>0.99926</td>\n",
       "      <td>0.995559</td>\n",
       "      <td>...</td>\n",
       "      <td>0.997188</td>\n",
       "      <td>0.001713</td>\n",
       "      <td>1</td>\n",
       "      <td>0.997779</td>\n",
       "      <td>0.997410</td>\n",
       "      <td>0.997410</td>\n",
       "      <td>0.998150</td>\n",
       "      <td>0.997780</td>\n",
       "      <td>0.997706</td>\n",
       "      <td>0.000277</td>\n",
       "    </tr>\n",
       "    <tr>\n",
       "      <td>3</td>\n",
       "      <td>0.593799</td>\n",
       "      <td>0.115991</td>\n",
       "      <td>0.023423</td>\n",
       "      <td>0.005418</td>\n",
       "      <td>0.01</td>\n",
       "      <td>{'alpha': 0.01}</td>\n",
       "      <td>0.995562</td>\n",
       "      <td>0.99926</td>\n",
       "      <td>0.99926</td>\n",
       "      <td>0.995559</td>\n",
       "      <td>...</td>\n",
       "      <td>0.997188</td>\n",
       "      <td>0.001713</td>\n",
       "      <td>1</td>\n",
       "      <td>0.997779</td>\n",
       "      <td>0.997410</td>\n",
       "      <td>0.997410</td>\n",
       "      <td>0.998150</td>\n",
       "      <td>0.997780</td>\n",
       "      <td>0.997706</td>\n",
       "      <td>0.000277</td>\n",
       "    </tr>\n",
       "    <tr>\n",
       "      <td>4</td>\n",
       "      <td>0.498842</td>\n",
       "      <td>0.083167</td>\n",
       "      <td>0.017373</td>\n",
       "      <td>0.001139</td>\n",
       "      <td>0.1</td>\n",
       "      <td>{'alpha': 0.1}</td>\n",
       "      <td>0.995562</td>\n",
       "      <td>0.99926</td>\n",
       "      <td>0.99926</td>\n",
       "      <td>0.995559</td>\n",
       "      <td>...</td>\n",
       "      <td>0.997188</td>\n",
       "      <td>0.001713</td>\n",
       "      <td>1</td>\n",
       "      <td>0.997779</td>\n",
       "      <td>0.997410</td>\n",
       "      <td>0.997410</td>\n",
       "      <td>0.998150</td>\n",
       "      <td>0.997780</td>\n",
       "      <td>0.997706</td>\n",
       "      <td>0.000277</td>\n",
       "    </tr>\n",
       "    <tr>\n",
       "      <td>5</td>\n",
       "      <td>0.607596</td>\n",
       "      <td>0.115366</td>\n",
       "      <td>0.020886</td>\n",
       "      <td>0.002011</td>\n",
       "      <td>1</td>\n",
       "      <td>{'alpha': 1.0}</td>\n",
       "      <td>0.995562</td>\n",
       "      <td>0.99926</td>\n",
       "      <td>0.99926</td>\n",
       "      <td>0.995559</td>\n",
       "      <td>...</td>\n",
       "      <td>0.997188</td>\n",
       "      <td>0.001713</td>\n",
       "      <td>1</td>\n",
       "      <td>0.997779</td>\n",
       "      <td>0.997410</td>\n",
       "      <td>0.997410</td>\n",
       "      <td>0.998150</td>\n",
       "      <td>0.997780</td>\n",
       "      <td>0.997706</td>\n",
       "      <td>0.000277</td>\n",
       "    </tr>\n",
       "    <tr>\n",
       "      <td>6</td>\n",
       "      <td>0.594203</td>\n",
       "      <td>0.126491</td>\n",
       "      <td>0.017176</td>\n",
       "      <td>0.000479</td>\n",
       "      <td>10</td>\n",
       "      <td>{'alpha': 10.0}</td>\n",
       "      <td>0.995562</td>\n",
       "      <td>0.99926</td>\n",
       "      <td>0.99926</td>\n",
       "      <td>0.995559</td>\n",
       "      <td>...</td>\n",
       "      <td>0.997188</td>\n",
       "      <td>0.001713</td>\n",
       "      <td>1</td>\n",
       "      <td>0.997779</td>\n",
       "      <td>0.997410</td>\n",
       "      <td>0.997225</td>\n",
       "      <td>0.997780</td>\n",
       "      <td>0.997595</td>\n",
       "      <td>0.997558</td>\n",
       "      <td>0.000216</td>\n",
       "    </tr>\n",
       "    <tr>\n",
       "      <td>7</td>\n",
       "      <td>0.537385</td>\n",
       "      <td>0.097312</td>\n",
       "      <td>0.020692</td>\n",
       "      <td>0.006631</td>\n",
       "      <td>100</td>\n",
       "      <td>{'alpha': 100.0}</td>\n",
       "      <td>0.995562</td>\n",
       "      <td>0.99926</td>\n",
       "      <td>0.99926</td>\n",
       "      <td>0.995559</td>\n",
       "      <td>...</td>\n",
       "      <td>0.997188</td>\n",
       "      <td>0.001713</td>\n",
       "      <td>1</td>\n",
       "      <td>0.997779</td>\n",
       "      <td>0.997040</td>\n",
       "      <td>0.996855</td>\n",
       "      <td>0.997595</td>\n",
       "      <td>0.997410</td>\n",
       "      <td>0.997336</td>\n",
       "      <td>0.000343</td>\n",
       "    </tr>\n",
       "    <tr>\n",
       "      <td>8</td>\n",
       "      <td>0.531334</td>\n",
       "      <td>0.121569</td>\n",
       "      <td>0.018349</td>\n",
       "      <td>0.003459</td>\n",
       "      <td>1000</td>\n",
       "      <td>{'alpha': 1000.0}</td>\n",
       "      <td>0.995562</td>\n",
       "      <td>0.99926</td>\n",
       "      <td>0.99852</td>\n",
       "      <td>0.995559</td>\n",
       "      <td>...</td>\n",
       "      <td>0.997040</td>\n",
       "      <td>0.001552</td>\n",
       "      <td>9</td>\n",
       "      <td>0.997779</td>\n",
       "      <td>0.996855</td>\n",
       "      <td>0.996855</td>\n",
       "      <td>0.997410</td>\n",
       "      <td>0.997225</td>\n",
       "      <td>0.997225</td>\n",
       "      <td>0.000351</td>\n",
       "    </tr>\n",
       "    <tr>\n",
       "      <td>9</td>\n",
       "      <td>0.565689</td>\n",
       "      <td>0.104417</td>\n",
       "      <td>0.027330</td>\n",
       "      <td>0.008967</td>\n",
       "      <td>10000</td>\n",
       "      <td>{'alpha': 10000.0}</td>\n",
       "      <td>0.995562</td>\n",
       "      <td>0.99926</td>\n",
       "      <td>0.99852</td>\n",
       "      <td>0.995559</td>\n",
       "      <td>...</td>\n",
       "      <td>0.997040</td>\n",
       "      <td>0.001552</td>\n",
       "      <td>9</td>\n",
       "      <td>0.997409</td>\n",
       "      <td>0.996485</td>\n",
       "      <td>0.996670</td>\n",
       "      <td>0.997410</td>\n",
       "      <td>0.997225</td>\n",
       "      <td>0.997040</td>\n",
       "      <td>0.000388</td>\n",
       "    </tr>\n",
       "    <tr>\n",
       "      <td>10</td>\n",
       "      <td>0.452666</td>\n",
       "      <td>0.049737</td>\n",
       "      <td>0.013078</td>\n",
       "      <td>0.004122</td>\n",
       "      <td>100000</td>\n",
       "      <td>{'alpha': 100000.0}</td>\n",
       "      <td>0.995562</td>\n",
       "      <td>0.99926</td>\n",
       "      <td>0.99852</td>\n",
       "      <td>0.995559</td>\n",
       "      <td>...</td>\n",
       "      <td>0.997040</td>\n",
       "      <td>0.001552</td>\n",
       "      <td>9</td>\n",
       "      <td>0.997409</td>\n",
       "      <td>0.996485</td>\n",
       "      <td>0.996670</td>\n",
       "      <td>0.997410</td>\n",
       "      <td>0.997225</td>\n",
       "      <td>0.997040</td>\n",
       "      <td>0.000388</td>\n",
       "    </tr>\n",
       "  </tbody>\n",
       "</table>\n",
       "<p>11 rows × 21 columns</p>\n",
       "</div>"
      ],
      "text/plain": [
       "    mean_fit_time  std_fit_time  mean_score_time  std_score_time param_alpha  \\\n",
       "0        0.507131      0.143261         0.018738        0.002260       1e-05   \n",
       "1        0.633230      0.136807         0.024398        0.010494      0.0001   \n",
       "2        0.503811      0.116772         0.019325        0.004158       0.001   \n",
       "3        0.593799      0.115991         0.023423        0.005418        0.01   \n",
       "4        0.498842      0.083167         0.017373        0.001139         0.1   \n",
       "5        0.607596      0.115366         0.020886        0.002011           1   \n",
       "6        0.594203      0.126491         0.017176        0.000479          10   \n",
       "7        0.537385      0.097312         0.020692        0.006631         100   \n",
       "8        0.531334      0.121569         0.018349        0.003459        1000   \n",
       "9        0.565689      0.104417         0.027330        0.008967       10000   \n",
       "10       0.452666      0.049737         0.013078        0.004122      100000   \n",
       "\n",
       "                 params  split0_test_score  split1_test_score  \\\n",
       "0      {'alpha': 1e-05}           0.995562            0.99926   \n",
       "1     {'alpha': 0.0001}           0.995562            0.99926   \n",
       "2      {'alpha': 0.001}           0.995562            0.99926   \n",
       "3       {'alpha': 0.01}           0.995562            0.99926   \n",
       "4        {'alpha': 0.1}           0.995562            0.99926   \n",
       "5        {'alpha': 1.0}           0.995562            0.99926   \n",
       "6       {'alpha': 10.0}           0.995562            0.99926   \n",
       "7      {'alpha': 100.0}           0.995562            0.99926   \n",
       "8     {'alpha': 1000.0}           0.995562            0.99926   \n",
       "9    {'alpha': 10000.0}           0.995562            0.99926   \n",
       "10  {'alpha': 100000.0}           0.995562            0.99926   \n",
       "\n",
       "    split2_test_score  split3_test_score  ...  mean_test_score  \\\n",
       "0             0.99926           0.995559  ...         0.997188   \n",
       "1             0.99926           0.995559  ...         0.997188   \n",
       "2             0.99926           0.995559  ...         0.997188   \n",
       "3             0.99926           0.995559  ...         0.997188   \n",
       "4             0.99926           0.995559  ...         0.997188   \n",
       "5             0.99926           0.995559  ...         0.997188   \n",
       "6             0.99926           0.995559  ...         0.997188   \n",
       "7             0.99926           0.995559  ...         0.997188   \n",
       "8             0.99852           0.995559  ...         0.997040   \n",
       "9             0.99852           0.995559  ...         0.997040   \n",
       "10            0.99852           0.995559  ...         0.997040   \n",
       "\n",
       "    std_test_score  rank_test_score  split0_train_score  split1_train_score  \\\n",
       "0         0.001713                1            0.997779            0.997410   \n",
       "1         0.001713                1            0.997779            0.997410   \n",
       "2         0.001713                1            0.997779            0.997410   \n",
       "3         0.001713                1            0.997779            0.997410   \n",
       "4         0.001713                1            0.997779            0.997410   \n",
       "5         0.001713                1            0.997779            0.997410   \n",
       "6         0.001713                1            0.997779            0.997410   \n",
       "7         0.001713                1            0.997779            0.997040   \n",
       "8         0.001552                9            0.997779            0.996855   \n",
       "9         0.001552                9            0.997409            0.996485   \n",
       "10        0.001552                9            0.997409            0.996485   \n",
       "\n",
       "    split2_train_score  split3_train_score  split4_train_score  \\\n",
       "0             0.997410            0.998150            0.997780   \n",
       "1             0.997410            0.998150            0.997780   \n",
       "2             0.997410            0.998150            0.997780   \n",
       "3             0.997410            0.998150            0.997780   \n",
       "4             0.997410            0.998150            0.997780   \n",
       "5             0.997410            0.998150            0.997780   \n",
       "6             0.997225            0.997780            0.997595   \n",
       "7             0.996855            0.997595            0.997410   \n",
       "8             0.996855            0.997410            0.997225   \n",
       "9             0.996670            0.997410            0.997225   \n",
       "10            0.996670            0.997410            0.997225   \n",
       "\n",
       "    mean_train_score  std_train_score  \n",
       "0           0.997706         0.000277  \n",
       "1           0.997706         0.000277  \n",
       "2           0.997706         0.000277  \n",
       "3           0.997706         0.000277  \n",
       "4           0.997706         0.000277  \n",
       "5           0.997706         0.000277  \n",
       "6           0.997558         0.000216  \n",
       "7           0.997336         0.000343  \n",
       "8           0.997225         0.000351  \n",
       "9           0.997040         0.000388  \n",
       "10          0.997040         0.000388  \n",
       "\n",
       "[11 rows x 21 columns]"
      ]
     },
     "execution_count": 23,
     "metadata": {},
     "output_type": "execute_result"
    }
   ],
   "source": [
    "df_Rigde_CV_results = pd.DataFrame(gridSearch_Ridge_CV.cv_results_)\n",
    "df_Rigde_CV_results"
   ]
  },
  {
   "cell_type": "markdown",
   "metadata": {},
   "source": [
    "Le tableau ci-dessus permet d'avoir les résultats pour chaque valeur alpha et pour la validation croisée à 5 plis dans le cas présent que je résume de manière graphique pour voir plus aisément les résultats."
   ]
  },
  {
   "cell_type": "code",
   "execution_count": 24,
   "metadata": {},
   "outputs": [
    {
     "data": {
      "image/png": "[encoded data removed]",
      "text/plain": [
       "<Figure size 432x288 with 1 Axes>"
      ]
     },
     "metadata": {
      "needs_background": "light"
     },
     "output_type": "display_data"
    }
   ],
   "source": [
    "df_Rigde_CV_results.set_index([\"param_alpha\"])[[\"mean_test_score\",\n",
    "                                      \"mean_train_score\"]].plot(\n",
    "                                          kind=\"bar\", ylim=(0.99, 1))\n",
    "plt.ylabel(\"Accuracy\")\n",
    "plt.title(\"Accuracy en fonction du paramètre Alpha de la classification par la régression Ridge\")\n",
    "plt.legend(loc=\"lower right\")\n",
    "plt.show()"
   ]
  },
  {
   "cell_type": "code",
   "execution_count": 25,
   "metadata": {},
   "outputs": [
    {
     "name": "stdout",
     "output_type": "stream",
     "text": [
      "Best Alpha parameter pour Ridge : \n",
      "1e-05\n"
     ]
    }
   ],
   "source": [
    "print(\"Best Alpha parameter pour Ridge : \")\n",
    "print(gridSearch_Ridge_CV.best_params_[\"alpha\"])"
   ]
  },
  {
   "cell_type": "markdown",
   "metadata": {},
   "source": [
    "On teste le meilleur modèle avec le $alpha$ ci-dessus sur l'ensemble de test de notre jeu de données en prenant toujours comme métrique l'accuracy."
   ]
  },
  {
   "cell_type": "code",
   "execution_count": 26,
   "metadata": {},
   "outputs": [
    {
     "name": "stdout",
     "output_type": "stream",
     "text": [
      "Score sur le test :  0.9988158673771462\n"
     ]
    }
   ],
   "source": [
    "print(\"Score sur le test : \", gridSearch_Ridge_CV.score(X_Test,y_Test))"
   ]
  },
  {
   "cell_type": "markdown",
   "metadata": {},
   "source": [
    "On peut aussi afficher la matrice de confusion et retrouver la valeur de l'accuracy calculé ci-dessus"
   ]
  },
  {
   "cell_type": "code",
   "execution_count": 27,
   "metadata": {},
   "outputs": [
    {
     "data": {
      "text/plain": [
       "array([[852,   2],\n",
       "       [  0, 835]], dtype=int64)"
      ]
     },
     "execution_count": 27,
     "metadata": {},
     "output_type": "execute_result"
    }
   ],
   "source": [
    "from sklearn.metrics import confusion_matrix\n",
    "y_TestPredicted = gridSearch_Ridge_CV.predict(X_Test)\n",
    "confusion_matrix(y_Test, y_TestPredicted)"
   ]
  },
  {
   "cell_type": "code",
   "execution_count": 28,
   "metadata": {},
   "outputs": [
    {
     "data": {
      "text/plain": [
       "0.9988158673771462"
      ]
     },
     "execution_count": 28,
     "metadata": {},
     "output_type": "execute_result"
    }
   ],
   "source": [
    "accuracy = (852+835)/(852+835+2+0)\n",
    "accuracy"
   ]
  },
  {
   "cell_type": "markdown",
   "metadata": {},
   "source": [
    "Essayons de regarder les coefficients de la régression pour identifier les valeurs les plus significatives sur le meilleur estimateur."
   ]
  },
  {
   "cell_type": "code",
   "execution_count": 29,
   "metadata": {},
   "outputs": [
    {
     "data": {
      "text/plain": [
       "qg    0.113849\n",
       "vt    0.106481\n",
       "jr    0.103378\n",
       "qn    0.089276\n",
       "qd    0.088788\n",
       "        ...   \n",
       "tx   -0.108339\n",
       "jf   -0.110442\n",
       "jz   -0.115988\n",
       "jj   -0.157456\n",
       "qj   -0.169903\n",
       "Length: 695, dtype: float64"
      ]
     },
     "execution_count": 29,
     "metadata": {},
     "output_type": "execute_result"
    }
   ],
   "source": [
    "coefficients = pd.Series(gridSearch_Ridge_CV.best_estimator_.coef_.flatten(), index=X.columns).sort_values(ascending=False)\n",
    "coefficients"
   ]
  },
  {
   "cell_type": "code",
   "execution_count": 30,
   "metadata": {},
   "outputs": [
    {
     "data": {
      "image/png": "[encoded data removed]",
      "text/plain": [
       "<Figure size 432x288 with 1 Axes>"
      ]
     },
     "metadata": {
      "needs_background": "light"
     },
     "output_type": "display_data"
    }
   ],
   "source": [
    "coefficients[np.abs(coefficients)>0.09].plot(kind=\"bar\")\n",
    "plt.title(\"Regression lasso coefficient\")\n",
    "plt.ylabel(\"Coefficient value\")\n",
    "plt.show()"
   ]
  },
  {
   "cell_type": "markdown",
   "metadata": {},
   "source": [
    "Les poids les plus importants sont données à des suites de 2 lettres qui doivent avoir un caractère discriminant entre les deux langues"
   ]
  },
  {
   "cell_type": "markdown",
   "metadata": {},
   "source": [
    "### Régression linéaire Lasso"
   ]
  },
  {
   "cell_type": "markdown",
   "metadata": {},
   "source": [
    "La régression linéaire Lasso est une alternative à Ridge en utilisant une régularisation L1 du vecteur de pondération. La conséquence de la régularisation Lasso est que certains coefficients valent exactement 0 et donc sont totalement ignorées par le modèle. "
   ]
  },
  {
   "cell_type": "markdown",
   "metadata": {},
   "source": [
    "Dans le cas de scikit Learn, nous n'avons pas trouvé de LassoClassifier. Nous allons implémenter la validation croisée et la recherche sur grille sur l'ensemble de train en utilisant la regressionLasso de Scikit Learn. "
   ]
  },
  {
   "cell_type": "code",
   "execution_count": 31,
   "metadata": {},
   "outputs": [
    {
     "name": "stderr",
     "output_type": "stream",
     "text": [
      "C:\\Users\\bigdata\\Anaconda3\\lib\\site-packages\\sklearn\\linear_model\\coordinate_descent.py:475: ConvergenceWarning: Objective did not converge. You might want to increase the number of iterations. Duality gap: 27.293014750295423, tolerance: 0.5398777202072546\n",
      "  positive)\n",
      "C:\\Users\\bigdata\\Anaconda3\\lib\\site-packages\\sklearn\\linear_model\\coordinate_descent.py:475: ConvergenceWarning: Objective did not converge. You might want to increase the number of iterations. Duality gap: 33.897738801720216, tolerance: 0.5402200925069381\n",
      "  positive)\n",
      "C:\\Users\\bigdata\\Anaconda3\\lib\\site-packages\\sklearn\\linear_model\\coordinate_descent.py:475: ConvergenceWarning: Objective did not converge. You might want to increase the number of iterations. Duality gap: 33.362311523497965, tolerance: 0.5395466419981495\n",
      "  positive)\n",
      "C:\\Users\\bigdata\\Anaconda3\\lib\\site-packages\\sklearn\\linear_model\\coordinate_descent.py:475: ConvergenceWarning: Objective did not converge. You might want to increase the number of iterations. Duality gap: 32.02373637086704, tolerance: 0.540142534690101\n",
      "  positive)\n",
      "C:\\Users\\bigdata\\Anaconda3\\lib\\site-packages\\sklearn\\linear_model\\coordinate_descent.py:475: ConvergenceWarning: Objective did not converge. You might want to increase the number of iterations. Duality gap: 33.416023637687324, tolerance: 0.5402380018501391\n",
      "  positive)\n"
     ]
    },
    {
     "name": "stdout",
     "output_type": "stream",
     "text": [
      "Proba d'erreur moyenne =  0.002959784336826983 pour regul = 1e-05\n"
     ]
    },
    {
     "name": "stderr",
     "output_type": "stream",
     "text": [
      "C:\\Users\\bigdata\\Anaconda3\\lib\\site-packages\\sklearn\\linear_model\\coordinate_descent.py:475: ConvergenceWarning: Objective did not converge. You might want to increase the number of iterations. Duality gap: 32.42487867818446, tolerance: 0.5400268689859367\n",
      "  positive)\n",
      "C:\\Users\\bigdata\\Anaconda3\\lib\\site-packages\\sklearn\\linear_model\\coordinate_descent.py:475: ConvergenceWarning: Objective did not converge. You might want to increase the number of iterations. Duality gap: 30.85078075635754, tolerance: 0.5402637557816837\n",
      "  positive)\n",
      "C:\\Users\\bigdata\\Anaconda3\\lib\\site-packages\\sklearn\\linear_model\\coordinate_descent.py:475: ConvergenceWarning: Objective did not converge. You might want to increase the number of iterations. Duality gap: 33.9093891500524, tolerance: 0.5398530249768735\n",
      "  positive)\n",
      "C:\\Users\\bigdata\\Anaconda3\\lib\\site-packages\\sklearn\\linear_model\\coordinate_descent.py:475: ConvergenceWarning: Objective did not converge. You might want to increase the number of iterations. Duality gap: 30.480523862588903, tolerance: 0.5398804070305269\n",
      "  positive)\n",
      "C:\\Users\\bigdata\\Anaconda3\\lib\\site-packages\\sklearn\\linear_model\\coordinate_descent.py:475: ConvergenceWarning: Objective did not converge. You might want to increase the number of iterations. Duality gap: 30.756285230266602, tolerance: 0.5400781498612399\n",
      "  positive)\n"
     ]
    },
    {
     "name": "stdout",
     "output_type": "stream",
     "text": [
      "Proba d'erreur moyenne =  0.0028124028223669513 pour regul = 0.0001\n"
     ]
    },
    {
     "name": "stderr",
     "output_type": "stream",
     "text": [
      "C:\\Users\\bigdata\\Anaconda3\\lib\\site-packages\\sklearn\\linear_model\\coordinate_descent.py:475: ConvergenceWarning: Objective did not converge. You might want to increase the number of iterations. Duality gap: 36.72775149472757, tolerance: 0.5396745373797193\n",
      "  positive)\n",
      "C:\\Users\\bigdata\\Anaconda3\\lib\\site-packages\\sklearn\\linear_model\\coordinate_descent.py:475: ConvergenceWarning: Objective did not converge. You might want to increase the number of iterations. Duality gap: 34.537940130977304, tolerance: 0.5400322664199811\n",
      "  positive)\n",
      "C:\\Users\\bigdata\\Anaconda3\\lib\\site-packages\\sklearn\\linear_model\\coordinate_descent.py:475: ConvergenceWarning: Objective did not converge. You might want to increase the number of iterations. Duality gap: 36.58235230942361, tolerance: 0.540246734505088\n",
      "  positive)\n",
      "C:\\Users\\bigdata\\Anaconda3\\lib\\site-packages\\sklearn\\linear_model\\coordinate_descent.py:475: ConvergenceWarning: Objective did not converge. You might want to increase the number of iterations. Duality gap: 36.717208010971916, tolerance: 0.5399715818686402\n",
      "  positive)\n",
      "C:\\Users\\bigdata\\Anaconda3\\lib\\site-packages\\sklearn\\linear_model\\coordinate_descent.py:475: ConvergenceWarning: Objective did not converge. You might want to increase the number of iterations. Duality gap: 33.89031730533961, tolerance: 0.5401727289546714\n",
      "  positive)\n"
     ]
    },
    {
     "name": "stdout",
     "output_type": "stream",
     "text": [
      "Proba d'erreur moyenne =  0.0029605508082989145 pour regul = 0.001\n"
     ]
    },
    {
     "name": "stderr",
     "output_type": "stream",
     "text": [
      "C:\\Users\\bigdata\\Anaconda3\\lib\\site-packages\\sklearn\\linear_model\\coordinate_descent.py:475: ConvergenceWarning: Objective did not converge. You might want to increase the number of iterations. Duality gap: 0.9399188457655612, tolerance: 0.540256698741673\n",
      "  positive)\n",
      "C:\\Users\\bigdata\\Anaconda3\\lib\\site-packages\\sklearn\\linear_model\\coordinate_descent.py:475: ConvergenceWarning: Objective did not converge. You might want to increase the number of iterations. Duality gap: 0.6410420093816072, tolerance: 0.5401321739130435\n",
      "  positive)\n",
      "C:\\Users\\bigdata\\Anaconda3\\lib\\site-packages\\sklearn\\linear_model\\coordinate_descent.py:475: ConvergenceWarning: Objective did not converge. You might want to increase the number of iterations. Duality gap: 1.4514096348511885, tolerance: 0.5396918408880668\n",
      "  positive)\n",
      "C:\\Users\\bigdata\\Anaconda3\\lib\\site-packages\\sklearn\\linear_model\\coordinate_descent.py:475: ConvergenceWarning: Objective did not converge. You might want to increase the number of iterations. Duality gap: 1.130946548494137, tolerance: 0.5400555041628122\n",
      "  positive)\n",
      "C:\\Users\\bigdata\\Anaconda3\\lib\\site-packages\\sklearn\\linear_model\\coordinate_descent.py:475: ConvergenceWarning: Objective did not converge. You might want to increase the number of iterations. Duality gap: 1.0542171482924232, tolerance: 0.5398804070305269\n",
      "  positive)\n"
     ]
    },
    {
     "name": "stdout",
     "output_type": "stream",
     "text": [
      "Proba d'erreur moyenne =  0.0029600033286761073 pour regul = 0.01\n",
      "Proba d'erreur moyenne =  0.0035520477927811532 pour regul = 0.1\n",
      "Proba d'erreur moyenne =  0.004144530240584444 pour regul = 1.0\n",
      "Proba d'erreur moyenne =  0.005032651684704295 pour regul = 10.0\n",
      "Proba d'erreur moyenne =  0.48564245638777326 pour regul = 100.0\n",
      "Proba d'erreur moyenne =  0.48564311336332067 pour regul = 1000.0\n",
      "Proba d'erreur moyenne =  0.4856438798347925 pour regul = 10000.0\n",
      "Proba d'erreur moyenne =  0.4856416899163013 pour regul = 100000.0\n"
     ]
    }
   ],
   "source": [
    "from sklearn.linear_model import Lasso\n",
    "from sklearn.model_selection import KFold\n",
    "kf = KFold(n_splits=5,shuffle=True)\n",
    "scores_lasso ={}\n",
    "for regul in np.logspace(-5,5,11):\n",
    "    clfLasso = Lasso(alpha=regul)\n",
    "    scores_regul = []\n",
    "    k=0\n",
    "    for train_index, test_index in kf.split(X_Train):\n",
    "        k=k+1\n",
    "        X_train_k = X_Train.iloc[train_index,:]\n",
    "        X_test_k  = X_Train.iloc[test_index,:]\n",
    "        y_train_k = y_Train[train_index]\n",
    "        y_test_k  = y_Train[test_index]\n",
    "        clfLasso.fit(X_train_k, y_train_k)\n",
    "        y_pred=clfLasso.predict(X_test_k)\n",
    "        scores_tmp=( np.sum( y_pred[y_test_k==-1] > 0 ) + np.sum( y_pred[y_test_k==1] < 0 ) ) / y_pred.shape[0]\n",
    "        scores_regul.append(scores_tmp)\n",
    "    scores_lasso[regul] = np.mean(scores_regul) \n",
    "    print(\"Proba d'erreur moyenne =  \" + str(scores_lasso[regul]) + \" pour regul = \" + str(regul) )"
   ]
  },
  {
   "cell_type": "code",
   "execution_count": 32,
   "metadata": {},
   "outputs": [
    {
     "name": "stdout",
     "output_type": "stream",
     "text": [
      "Best Alpha parameter pour Lasso : 0.0001\n"
     ]
    }
   ],
   "source": [
    "best_score = 1000\n",
    "for regul,score in scores_lasso.items():\n",
    "    if(score < best_score):\n",
    "        best_score = score\n",
    "        best_param = regul\n",
    "print(\"Best Alpha parameter pour Lasso : \" + str(best_param))"
   ]
  },
  {
   "cell_type": "code",
   "execution_count": 33,
   "metadata": {},
   "outputs": [
    {
     "name": "stdout",
     "output_type": "stream",
     "text": [
      "Nmobre de features utilisées avec le meilleur paramétrage : 534\n"
     ]
    },
    {
     "name": "stderr",
     "output_type": "stream",
     "text": [
      "C:\\Users\\bigdata\\Anaconda3\\lib\\site-packages\\sklearn\\linear_model\\coordinate_descent.py:475: ConvergenceWarning: Objective did not converge. You might want to increase the number of iterations. Duality gap: 40.617048564225854, tolerance: 0.6750429248075782\n",
      "  positive)\n"
     ]
    }
   ],
   "source": [
    "clfBestLasso = Lasso(alpha=best_param)\n",
    "clfBestLasso.fit(X_Train,y_Train)\n",
    "y_TestPredicted = clfBestLasso.predict(X_Test)\n",
    "print(\"Nmobre de features utilisées avec le meilleur paramétrage : {}\".format(np.sum(clfBestLasso.coef_ != 0)))"
   ]
  },
  {
   "cell_type": "markdown",
   "metadata": {},
   "source": [
    "On peut regarder la matrice de confusion sur le test"
   ]
  },
  {
   "cell_type": "code",
   "execution_count": 34,
   "metadata": {},
   "outputs": [],
   "source": [
    "y_TestClass = []\n",
    "for val in y_TestPredicted :\n",
    "    if(val<0):\n",
    "        y_TestClass.append(-1)\n",
    "    else:\n",
    "        y_TestClass.append(1)"
   ]
  },
  {
   "cell_type": "code",
   "execution_count": 35,
   "metadata": {},
   "outputs": [
    {
     "data": {
      "text/plain": [
       "array([[852,   2],\n",
       "       [  0, 835]], dtype=int64)"
      ]
     },
     "execution_count": 35,
     "metadata": {},
     "output_type": "execute_result"
    }
   ],
   "source": [
    "confusion_matrix(y_Test, y_TestClass)"
   ]
  },
  {
   "cell_type": "markdown",
   "metadata": {},
   "source": [
    "La régression linéaire de type Lasso ou Ridge donne des résultats similaires. On peut aussi voir que la régularisation très faible est identique dans les 2 modèles et donc s'apparente à un modèle de régression linéaire généralisée."
   ]
  },
  {
   "cell_type": "markdown",
   "metadata": {},
   "source": [
    "### SVM avec noyau linéaire"
   ]
  },
  {
   "cell_type": "markdown",
   "metadata": {},
   "source": [
    "Nous utilions un séparateur à vaste marge avec un noyau linéaire pour séparer les 2 classes. On effectue une recherche sur grille avec validation croisée sur l'ensemble de train pour identifier le meilleur paramètre C. "
   ]
  },
  {
   "cell_type": "code",
   "execution_count": 36,
   "metadata": {},
   "outputs": [
    {
     "data": {
      "text/plain": [
       "GridSearchCV(cv=5, error_score='raise-deprecating',\n",
       "             estimator=SVC(C=1.0, cache_size=200, class_weight=None, coef0=0.0,\n",
       "                           decision_function_shape='ovr', degree=3,\n",
       "                           gamma='auto_deprecated', kernel='linear',\n",
       "                           max_iter=-1, probability=False, random_state=None,\n",
       "                           shrinking=True, tol=0.001, verbose=False),\n",
       "             iid='warn', n_jobs=-1,\n",
       "             param_grid={'C': array([1.e-05, 1.e-04, 1.e-03, 1.e-02, 1.e-01, 1.e+00, 1.e+01, 1.e+02,\n",
       "       1.e+03, 1.e+04, 1.e+05])},\n",
       "             pre_dispatch='2*n_jobs', refit=True, return_train_score=True,\n",
       "             scoring='accuracy', verbose=0)"
      ]
     },
     "execution_count": 36,
     "metadata": {},
     "output_type": "execute_result"
    }
   ],
   "source": [
    "from sklearn.svm import SVC\n",
    "# grille de valeurs\n",
    "params = {\"C\": np.logspace(-5,5,11) } \n",
    "gridSearch_LinearSVM_CV = GridSearchCV(\n",
    "    estimator = SVC(kernel='linear'),\n",
    "    param_grid= params,\n",
    "    scoring=\"accuracy\",\n",
    "    cv=5,\n",
    "    n_jobs=-1,\n",
    "    return_train_score=True)\n",
    "gridSearch_LinearSVM_CV.fit(X_Train,y_Train)"
   ]
  },
  {
   "cell_type": "code",
   "execution_count": 37,
   "metadata": {},
   "outputs": [
    {
     "data": {
      "image/png": "[encoded data removed]",
      "text/plain": [
       "<Figure size 432x288 with 1 Axes>"
      ]
     },
     "metadata": {
      "needs_background": "light"
     },
     "output_type": "display_data"
    }
   ],
   "source": [
    "df_LinearSVM_CV_results = pd.DataFrame(gridSearch_LinearSVM_CV.cv_results_)\n",
    "df_LinearSVM_CV_results.set_index([\"param_C\"])[[\"mean_test_score\",\n",
    "                                      \"mean_train_score\"]].plot(\n",
    "                                          kind=\"bar\", ylim=(0.99, 1))\n",
    "plt.ylabel(\"Accuracy\")\n",
    "plt.title(\"Accuracy en fonction du paramètre C de la classification par SVM et noyau Linéaire\")\n",
    "plt.legend(loc=\"lower right\")\n",
    "plt.show()"
   ]
  },
  {
   "cell_type": "code",
   "execution_count": 38,
   "metadata": {},
   "outputs": [
    {
     "name": "stdout",
     "output_type": "stream",
     "text": [
      "Best C parameter pour SVM : \n",
      "0.01\n"
     ]
    }
   ],
   "source": [
    "print(\"Best C parameter pour SVM : \")\n",
    "print(gridSearch_LinearSVM_CV.best_params_[\"C\"])"
   ]
  },
  {
   "cell_type": "code",
   "execution_count": 39,
   "metadata": {},
   "outputs": [
    {
     "name": "stdout",
     "output_type": "stream",
     "text": [
      "Score sur le test :  1.0\n"
     ]
    }
   ],
   "source": [
    "print(\"Score sur le test : \", gridSearch_LinearSVM_CV.score(X_Test,y_Test))"
   ]
  },
  {
   "cell_type": "code",
   "execution_count": 40,
   "metadata": {},
   "outputs": [
    {
     "data": {
      "text/plain": [
       "array([[854,   0],\n",
       "       [  0, 835]], dtype=int64)"
      ]
     },
     "execution_count": 40,
     "metadata": {},
     "output_type": "execute_result"
    }
   ],
   "source": [
    "y_TestPredicted = gridSearch_LinearSVM_CV.predict(X_Test)\n",
    "confusion_matrix(y_Test, y_TestPredicted)"
   ]
  },
  {
   "cell_type": "code",
   "execution_count": 41,
   "metadata": {},
   "outputs": [
    {
     "name": "stdout",
     "output_type": "stream",
     "text": [
      "support vectors\n",
      "[[88. 17. 56. ...  0.  0.  0.]\n",
      " [78.  7. 25. ...  0.  0.  0.]\n",
      " [68. 13. 26. ...  0.  0.  0.]\n",
      " ...\n",
      " [92.  7. 15. ...  0.  0.  0.]\n",
      " [71.  3. 23. ...  0.  0.  0.]\n",
      " [75.  3. 37. ...  0.  0.  0.]]\n",
      "\n",
      "Number of support vectors for each class\n",
      "[13 48]\n"
     ]
    }
   ],
   "source": [
    "print(\"support vectors\")\n",
    "print(gridSearch_LinearSVM_CV.best_estimator_.support_vectors_)\n",
    "print(\"\\nNumber of support vectors for each class\")\n",
    "print(gridSearch_LinearSVM_CV.best_estimator_.n_support_)"
   ]
  },
  {
   "cell_type": "markdown",
   "metadata": {},
   "source": [
    "Le nombre de points séparateurs pour réaliser le SVM est une information intéressante car sont les points discriminants dans le cas de cette méthode"
   ]
  },
  {
   "cell_type": "markdown",
   "metadata": {},
   "source": [
    "### Régression Logistique"
   ]
  },
  {
   "cell_type": "markdown",
   "metadata": {},
   "source": [
    "La régression logistique est aussi une méthode adaptée et une extension de la régression linéaire pour réaliser de la classification en utilisant une fonction Logit."
   ]
  },
  {
   "cell_type": "code",
   "execution_count": 42,
   "metadata": {},
   "outputs": [
    {
     "name": "stderr",
     "output_type": "stream",
     "text": [
      "C:\\Users\\bigdata\\Anaconda3\\lib\\site-packages\\sklearn\\linear_model\\logistic.py:432: FutureWarning: Default solver will be changed to 'lbfgs' in 0.22. Specify a solver to silence this warning.\n",
      "  FutureWarning)\n"
     ]
    },
    {
     "data": {
      "text/plain": [
       "GridSearchCV(cv=5, error_score='raise-deprecating',\n",
       "             estimator=LogisticRegression(C=1.0, class_weight=None, dual=False,\n",
       "                                          fit_intercept=True,\n",
       "                                          intercept_scaling=1, l1_ratio=None,\n",
       "                                          max_iter=100, multi_class='warn',\n",
       "                                          n_jobs=None, penalty='l2',\n",
       "                                          random_state=None, solver='warn',\n",
       "                                          tol=0.0001, verbose=0,\n",
       "                                          warm_start=False),\n",
       "             iid='warn', n_jobs=-1,\n",
       "             param_grid={'C': array([1.e-05, 1.e-04, 1.e-03, 1.e-02, 1.e-01, 1.e+00, 1.e+01, 1.e+02,\n",
       "       1.e+03, 1.e+04, 1.e+05])},\n",
       "             pre_dispatch='2*n_jobs', refit=True, return_train_score=True,\n",
       "             scoring='accuracy', verbose=0)"
      ]
     },
     "execution_count": 42,
     "metadata": {},
     "output_type": "execute_result"
    }
   ],
   "source": [
    "from sklearn.model_selection import GridSearchCV\n",
    "from sklearn.linear_model import LogisticRegression\n",
    "# grille de valeurs\n",
    "params = {\"C\": np.logspace(-5, 5, 11) } \n",
    "gridSearch_LogisticRegression_CV = GridSearchCV(\n",
    "    estimator = LogisticRegression(),\n",
    "    param_grid= params,\n",
    "    scoring=\"accuracy\",\n",
    "    cv=5,\n",
    "    n_jobs=-1,\n",
    "    return_train_score=True)\n",
    "gridSearch_LogisticRegression_CV.fit(X_Train,y_Train)"
   ]
  },
  {
   "cell_type": "code",
   "execution_count": 43,
   "metadata": {},
   "outputs": [
    {
     "data": {
      "image/png": "[encoded data removed]",
      "text/plain": [
       "<Figure size 432x288 with 1 Axes>"
      ]
     },
     "metadata": {
      "needs_background": "light"
     },
     "output_type": "display_data"
    }
   ],
   "source": [
    "df_LogisticRegression_CV_results = pd.DataFrame(gridSearch_LogisticRegression_CV.cv_results_)\n",
    "df_LogisticRegression_CV_results.set_index([\"param_C\"])[[\"mean_test_score\",\n",
    "                                      \"mean_train_score\"]].plot(\n",
    "                                          kind=\"bar\", ylim=(0.99, 1))\n",
    "plt.ylabel(\"Accuracy\")\n",
    "plt.title(\"Accuracy en fonction du paramètre C de la classification par Régression Logistique\")\n",
    "plt.legend(loc=\"lower right\")\n",
    "plt.show()"
   ]
  },
  {
   "cell_type": "code",
   "execution_count": 44,
   "metadata": {},
   "outputs": [
    {
     "name": "stdout",
     "output_type": "stream",
     "text": [
      "Best C parameter pour Regression Logistique : \n",
      "0.1\n"
     ]
    }
   ],
   "source": [
    "print(\"Best C parameter pour Regression Logistique : \")\n",
    "print(gridSearch_LogisticRegression_CV.best_params_[\"C\"])"
   ]
  },
  {
   "cell_type": "code",
   "execution_count": 45,
   "metadata": {},
   "outputs": [
    {
     "name": "stdout",
     "output_type": "stream",
     "text": [
      "Score sur le test :  0.9994079336885732\n"
     ]
    }
   ],
   "source": [
    "print(\"Score sur le test : \", gridSearch_LogisticRegression_CV.score(X_Test,y_Test))"
   ]
  },
  {
   "cell_type": "code",
   "execution_count": 46,
   "metadata": {},
   "outputs": [
    {
     "data": {
      "text/plain": [
       "array([[853,   1],\n",
       "       [  0, 835]], dtype=int64)"
      ]
     },
     "execution_count": 46,
     "metadata": {},
     "output_type": "execute_result"
    }
   ],
   "source": [
    "y_TestPredicted = gridSearch_LogisticRegression_CV.predict(X_Test)\n",
    "confusion_matrix(y_Test, y_TestPredicted)"
   ]
  },
  {
   "cell_type": "markdown",
   "metadata": {},
   "source": [
    "### Conclusion"
   ]
  },
  {
   "cell_type": "markdown",
   "metadata": {},
   "source": [
    "* La classification entre 2 langues est très bonne avec les différents modèles linéaires : Rigde, Lasso, SVM, Régression Logistique.  \n",
    "* En se basant sur les occurences des caractères, les modèles linéaires arrivent à discriminer 2 langues. "
   ]
  },
  {
   "cell_type": "markdown",
   "metadata": {},
   "source": [
    "### Réduction de la dimension"
   ]
  },
  {
   "cell_type": "markdown",
   "metadata": {},
   "source": [
    "L'analyse en composantes principales est une méthode qui transforme des caractéristiques dites corrélées en caractéristiques non corrélées que l'on appelle composante principale exprimée comme une combinaison linéaire des features initiales. Cette phase est souvent suivi par la sélection d'un sous-ensemble des nouvelles caractéristiques, selon l'importance qu'elles présentent pour la compréhension des données. L'une des applications les plus courantes de la PCA est la visualisation de jeux de données multidimensionnels pour réduire le nombre de dimension dans un espace inférieur à 3 afin de le représenter."
   ]
  },
  {
   "cell_type": "markdown",
   "metadata": {},
   "source": [
    "#### Visualisation des données via PCA"
   ]
  },
  {
   "cell_type": "code",
   "execution_count": 47,
   "metadata": {},
   "outputs": [
    {
     "name": "stdout",
     "output_type": "stream",
     "text": [
      "Shape de départ : (8445, 695)\n",
      "Shape après PCA : (8445, 3)\n"
     ]
    }
   ],
   "source": [
    "from sklearn.preprocessing import StandardScaler\n",
    "from sklearn.decomposition import PCA\n",
    "\n",
    "#Normalisation des données : centrage et réduction\n",
    "scaler = StandardScaler()\n",
    "X_scaled = scaler.fit_transform(X)\n",
    "\n",
    "#Application de la PCA\n",
    "pca = PCA(n_components=3, random_state=0)\n",
    "pca.fit(X_scaled)\n",
    "X_pca = pca.transform(X_scaled)\n",
    "\n",
    "print(\"Shape de départ : {}\".format(str(X_scaled.shape)))\n",
    "print(\"Shape après PCA : {}\".format(str(X_pca.shape)))"
   ]
  },
  {
   "cell_type": "code",
   "execution_count": 48,
   "metadata": {},
   "outputs": [
    {
     "data": {
      "image/png": "[encoded data removed]",
      "text/plain": [
       "<Figure size 432x288 with 1 Axes>"
      ]
     },
     "metadata": {
      "needs_background": "light"
     },
     "output_type": "display_data"
    },
    {
     "name": "stdout",
     "output_type": "stream",
     "text": [
      "[0.14438991 0.0134324  0.01046494]\n"
     ]
    }
   ],
   "source": [
    "import matplotlib.pyplot as plt\n",
    "plt.bar(range(1, pca.n_components_ + 1),  pca.explained_variance_ratio_)\n",
    "plt.xlabel('Principal component #')\n",
    "plt.ylabel('Proportion of variance explained')\n",
    "plt.show()\n",
    "print(pca.explained_variance_ratio_)"
   ]
  },
  {
   "cell_type": "code",
   "execution_count": 49,
   "metadata": {},
   "outputs": [
    {
     "data": {
      "image/png": "[encoded data removed]",
      "text/plain": [
       "<Figure size 432x288 with 1 Axes>"
      ]
     },
     "metadata": {
      "needs_background": "light"
     },
     "output_type": "display_data"
    }
   ],
   "source": [
    "import matplotlib.pyplot as plt\n",
    "# 3D visualization\n",
    "import pylab\n",
    "from mpl_toolkits.mplot3d import Axes3D\n",
    "from matplotlib import pyplot\n",
    "fig = pylab.figure(1)\n",
    "ax = Axes3D(fig)\n",
    "size_vertex_plot = 50\n",
    "ax.scatter(X_pca[:,0],X_pca[:,1],X_pca[:,2], s=10, c=y)\n",
    "ax.set_xlabel('First Component')\n",
    "ax.set_ylabel('Second Component')\n",
    "ax.set_zlabel('Third Component')\n",
    "plt.title('ACP with 3 components') \n",
    "pyplot.show() "
   ]
  },
  {
   "cell_type": "markdown",
   "metadata": {},
   "source": [
    "La variance expliquée à travers les trois composantes principales est uniquement de 16% mais permet déjà de visualiser une séparation assez claire des 2 langues à travers la représentation graphique."
   ]
  },
  {
   "cell_type": "markdown",
   "metadata": {},
   "source": [
    "#### Modèle de régression logistique suite à une PCA"
   ]
  },
  {
   "cell_type": "markdown",
   "metadata": {},
   "source": [
    "L'objectif est de voir la qualité d'une régression logistique suite à une réduction via PCA de la dimension initiale du problème."
   ]
  },
  {
   "cell_type": "code",
   "execution_count": 50,
   "metadata": {},
   "outputs": [
    {
     "name": "stderr",
     "output_type": "stream",
     "text": [
      "C:\\Users\\bigdata\\Anaconda3\\lib\\site-packages\\sklearn\\linear_model\\logistic.py:432: FutureWarning: Default solver will be changed to 'lbfgs' in 0.22. Specify a solver to silence this warning.\n",
      "  FutureWarning)\n"
     ]
    },
    {
     "data": {
      "text/plain": [
       "GridSearchCV(cv=5, error_score='raise-deprecating',\n",
       "             estimator=LogisticRegression(C=1.0, class_weight=None, dual=False,\n",
       "                                          fit_intercept=True,\n",
       "                                          intercept_scaling=1, l1_ratio=None,\n",
       "                                          max_iter=100, multi_class='warn',\n",
       "                                          n_jobs=None, penalty='l2',\n",
       "                                          random_state=None, solver='warn',\n",
       "                                          tol=0.0001, verbose=0,\n",
       "                                          warm_start=False),\n",
       "             iid='warn', n_jobs=-1,\n",
       "             param_grid={'C': array([1.e-05, 1.e-04, 1.e-03, 1.e-02, 1.e-01, 1.e+00, 1.e+01, 1.e+02,\n",
       "       1.e+03, 1.e+04, 1.e+05])},\n",
       "             pre_dispatch='2*n_jobs', refit=True, return_train_score=True,\n",
       "             scoring='accuracy', verbose=0)"
      ]
     },
     "execution_count": 50,
     "metadata": {},
     "output_type": "execute_result"
    }
   ],
   "source": [
    "scaler = StandardScaler()\n",
    "X_Train_scaled = scaler.fit_transform(X_Train)\n",
    "\n",
    "#Application de la PCA\n",
    "pca = PCA(n_components=3, random_state=0)\n",
    "pca.fit(X_Train_scaled)\n",
    "X_pca_Train = pca.transform(X_Train_scaled)\n",
    "\n",
    "# grille de valeurs\n",
    "params = {\"C\": np.logspace(-5, 5, 11) } \n",
    "gridSearch_LogisticRegressionWithPCA_CV = GridSearchCV(\n",
    "    estimator = LogisticRegression(),\n",
    "    param_grid= params,\n",
    "    scoring=\"accuracy\",\n",
    "    cv=5,\n",
    "    n_jobs=-1,\n",
    "    return_train_score=True)\n",
    "gridSearch_LogisticRegressionWithPCA_CV.fit(X_pca_Train,y_Train)"
   ]
  },
  {
   "cell_type": "code",
   "execution_count": 51,
   "metadata": {},
   "outputs": [
    {
     "data": {
      "image/png": "[encoded data removed]",
      "text/plain": [
       "<Figure size 432x288 with 1 Axes>"
      ]
     },
     "metadata": {
      "needs_background": "light"
     },
     "output_type": "display_data"
    }
   ],
   "source": [
    "df_LogisticRegressionPCA_CV_results = pd.DataFrame(gridSearch_LogisticRegressionWithPCA_CV.cv_results_)\n",
    "df_LogisticRegressionPCA_CV_results.set_index([\"param_C\"])[[\"mean_test_score\",\n",
    "                                      \"mean_train_score\"]].plot(\n",
    "                                          kind=\"bar\", ylim=(0.99, 1))\n",
    "plt.ylabel(\"Accuracy\")\n",
    "plt.title(\"Accuracy en fonction du paramètre C de la classification par Régression Logistique suite à PCA\")\n",
    "plt.legend(loc=\"lower right\")\n",
    "plt.show()"
   ]
  },
  {
   "cell_type": "code",
   "execution_count": 52,
   "metadata": {},
   "outputs": [
    {
     "name": "stdout",
     "output_type": "stream",
     "text": [
      "Best C parameter pour Regression Logistique suite à PCA : \n",
      "10.0\n"
     ]
    }
   ],
   "source": [
    "print(\"Best C parameter pour Regression Logistique suite à PCA : \")\n",
    "print(gridSearch_LogisticRegressionWithPCA_CV.best_params_[\"C\"])"
   ]
  },
  {
   "cell_type": "code",
   "execution_count": 53,
   "metadata": {},
   "outputs": [
    {
     "name": "stdout",
     "output_type": "stream",
     "text": [
      "Score sur le test :  0.9994079336885732\n"
     ]
    }
   ],
   "source": [
    "X_Test_scaled = scaler.transform(X_Test)\n",
    "X_pca_Test = pca.transform(X_Test_scaled)\n",
    "print(\"Score sur le test : \", gridSearch_LogisticRegressionWithPCA_CV.score(X_pca_Test,y_Test))"
   ]
  },
  {
   "cell_type": "code",
   "execution_count": 54,
   "metadata": {},
   "outputs": [
    {
     "data": {
      "text/plain": [
       "array([[853,   1],\n",
       "       [  0, 835]], dtype=int64)"
      ]
     },
     "execution_count": 54,
     "metadata": {},
     "output_type": "execute_result"
    }
   ],
   "source": [
    "y_TestPredicted = gridSearch_LogisticRegressionWithPCA_CV.predict(X_pca_Test)\n",
    "confusion_matrix(y_Test, y_TestPredicted)"
   ]
  },
  {
   "cell_type": "markdown",
   "metadata": {},
   "source": [
    "La régression logistique appliquée à une analyse en composante principale permet d'obtenir des résultats très proches par rapport à la dimension initiale du problème en prenant uniquement les 3 premières composantes principales. L'analyse graphique est confirmée par la classification suite à l'ACP."
   ]
  },
  {
   "cell_type": "markdown",
   "metadata": {},
   "source": [
    "## Méthode de classification non linéaire et réduction "
   ]
  },
  {
   "cell_type": "markdown",
   "metadata": {},
   "source": [
    "### Réduction de la dimension via KPCA"
   ]
  },
  {
   "cell_type": "code",
   "execution_count": 55,
   "metadata": {},
   "outputs": [
    {
     "name": "stderr",
     "output_type": "stream",
     "text": [
      "C:\\Users\\bigdata\\Anaconda3\\lib\\site-packages\\sklearn\\utils\\extmath.py:516: RuntimeWarning: invalid value encountered in multiply\n",
      "  v *= signs[:, np.newaxis]\n"
     ]
    },
    {
     "name": "stdout",
     "output_type": "stream",
     "text": [
      "Shape de départ : (8445, 695)\n",
      "Shape après KPCA : (8445, 3)\n"
     ]
    }
   ],
   "source": [
    "from sklearn.decomposition import KernelPCA\n",
    "\n",
    "#Application de la PCA\n",
    "kpca =  KernelPCA(kernel=\"rbf\",n_components=3, random_state=0)\n",
    "kpca.fit(X_scaled)\n",
    "X_kpca = kpca.transform(X_scaled)\n",
    "\n",
    "print(\"Shape de départ : {}\".format(str(X_scaled.shape)))\n",
    "print(\"Shape après KPCA : {}\".format(str(X_kpca.shape)))"
   ]
  },
  {
   "cell_type": "code",
   "execution_count": 56,
   "metadata": {},
   "outputs": [
    {
     "data": {
      "image/png": "[encoded data removed]",
      "text/plain": [
       "<Figure size 432x288 with 1 Axes>"
      ]
     },
     "metadata": {
      "needs_background": "light"
     },
     "output_type": "display_data"
    }
   ],
   "source": [
    "import matplotlib.pyplot as plt\n",
    "# 3D visualization\n",
    "import pylab\n",
    "from mpl_toolkits.mplot3d import Axes3D\n",
    "from matplotlib import pyplot\n",
    "fig = pylab.figure(1)\n",
    "ax = Axes3D(fig)\n",
    "size_vertex_plot = 50\n",
    "ax.scatter(X_kpca[:,0],X_kpca[:,1],X_kpca[:,2], s=10, c=y)\n",
    "ax.set_xlabel('First Component by $\\phi$')\n",
    "ax.set_ylabel('Second Component by $\\phi$')\n",
    "ax.set_zlabel('Third Component by $\\phi$')\n",
    "plt.title('Kernel ACP with 3 components') \n",
    "pyplot.show() "
   ]
  },
  {
   "cell_type": "markdown",
   "metadata": {},
   "source": [
    "KPCA permet déjà de visualiser une séparation assez claire des 2 langues à travers la représentation graphique."
   ]
  },
  {
   "cell_type": "markdown",
   "metadata": {},
   "source": [
    "### Modèle SVM Gaussien suite à KPCA"
   ]
  },
  {
   "cell_type": "markdown",
   "metadata": {},
   "source": [
    "Nous avons deux hyperparamètres à optimiser $C$ et $gamma$ que nous réalisons à travers une validation croisée et une recherche sur grille."
   ]
  },
  {
   "cell_type": "code",
   "execution_count": 57,
   "metadata": {},
   "outputs": [
    {
     "data": {
      "text/plain": [
       "GridSearchCV(cv=5, error_score='raise-deprecating',\n",
       "             estimator=SVC(C=1.0, cache_size=200, class_weight=None, coef0=0.0,\n",
       "                           decision_function_shape='ovr', degree=3,\n",
       "                           gamma='auto_deprecated', kernel='rbf', max_iter=-1,\n",
       "                           probability=False, random_state=None, shrinking=True,\n",
       "                           tol=0.001, verbose=False),\n",
       "             iid='warn', n_jobs=-1,\n",
       "             param_grid={'C': array([1.e-05, 1.e-04, 1.e-03, 1.e-02, 1.e-01, 1.e+00, 1.e+01, 1.e+02,\n",
       "       1.e+03, 1.e+04, 1.e+05]),\n",
       "                         'gamma': array([1.e-05, 1.e-04, 1.e-03, 1.e-02, 1.e-01, 1.e+00, 1.e+01, 1.e+02,\n",
       "       1.e+03, 1.e+04, 1.e+05])},\n",
       "             pre_dispatch='2*n_jobs', refit=True, return_train_score=True,\n",
       "             scoring='accuracy', verbose=0)"
      ]
     },
     "execution_count": 57,
     "metadata": {},
     "output_type": "execute_result"
    }
   ],
   "source": [
    "#Application de KPCA avec noyau gaussien et 3 composantes\n",
    "kpca = KernelPCA(kernel=\"rbf\",n_components=3, random_state=0)\n",
    "kpca.fit(X_Train_scaled)\n",
    "X_kpca_Train = kpca.transform(X_Train_scaled)\n",
    "\n",
    "# grille de valeurs\n",
    "params = {\"C\": np.logspace(-5, 5, 11), \"gamma\":np.logspace(-5, 5, 11) } \n",
    "gridSearch_SVMGaussienWithKPCA_CV = GridSearchCV(\n",
    "    estimator = SVC(kernel='rbf'),\n",
    "    param_grid= params,\n",
    "    scoring=\"accuracy\",\n",
    "    cv=5,\n",
    "    n_jobs=-1,\n",
    "    return_train_score=True)\n",
    "gridSearch_SVMGaussienWithKPCA_CV.fit(X_kpca_Train,y_Train)"
   ]
  },
  {
   "cell_type": "code",
   "execution_count": 58,
   "metadata": {},
   "outputs": [
    {
     "name": "stdout",
     "output_type": "stream",
     "text": [
      "Best parameters pour SVM Gaussien suite à KPCA : \n",
      "{'C': 1000.0, 'gamma': 100.0}\n"
     ]
    }
   ],
   "source": [
    "print(\"Best parameters pour SVM Gaussien suite à KPCA : \")\n",
    "print(gridSearch_SVMGaussienWithKPCA_CV.best_params_)"
   ]
  },
  {
   "cell_type": "code",
   "execution_count": 59,
   "metadata": {},
   "outputs": [
    {
     "name": "stdout",
     "output_type": "stream",
     "text": [
      "Score sur le test :  0.9976317347542925\n"
     ]
    }
   ],
   "source": [
    "X_kpca_Test = kpca.transform(X_Test_scaled)\n",
    "print(\"Score sur le test : \", gridSearch_SVMGaussienWithKPCA_CV.score(X_kpca_Test,y_Test))"
   ]
  },
  {
   "cell_type": "code",
   "execution_count": 60,
   "metadata": {},
   "outputs": [
    {
     "data": {
      "text/plain": [
       "array([[853,   1],\n",
       "       [  3, 832]], dtype=int64)"
      ]
     },
     "execution_count": 60,
     "metadata": {},
     "output_type": "execute_result"
    }
   ],
   "source": [
    "y_TestPredicted = gridSearch_SVMGaussienWithKPCA_CV.predict(X_kpca_Test)\n",
    "confusion_matrix(y_Test, y_TestPredicted)"
   ]
  },
  {
   "cell_type": "markdown",
   "metadata": {},
   "source": [
    "On arrive à une bonne classification via la méthode non linéaire SVM en utilisant le noyau gaussien en réduisant l'espace de départ via KPCA. Néanmoins, l'intérêt d'une approche non-linéaire ne semble pas à privilégier par rapport à une approche linéaire car les résultats sont sensiblement identiques et l'approche linéaire est plus simple mathématiquement et le temps de calcul est aussi bien moindre (j'ai essayé avant KCPA de faire un SVM avec noyau gaussien en optimisant les hyperparamètres sur la matrice de données initiales et j'ai abandonné à la vue du temps de calcul)."
   ]
  },
  {
   "cell_type": "markdown",
   "metadata": {},
   "source": [
    "# Classification à N Classes"
   ]
  },
  {
   "cell_type": "markdown",
   "metadata": {},
   "source": [
    "## Construction des ensembles X,y,Train et Test"
   ]
  },
  {
   "cell_type": "markdown",
   "metadata": {},
   "source": [
    "### Ensemble X,y"
   ]
  },
  {
   "cell_type": "code",
   "execution_count": 61,
   "metadata": {},
   "outputs": [],
   "source": [
    "def BuildFeatureAndTargetAll():\n",
    "    \n",
    "    X = pd.concat([df_german,df_french,df_english,df_spanish], ignore_index=True)\n",
    "    \n",
    "    targetGerman = np.array([1 for i in range(df_german.shape[0])])\n",
    "    targetFrench = np.array([2 for i in range(df_french.shape[0])])\n",
    "    targetEnglish = np.array([3 for i in range(df_english.shape[0])])\n",
    "    targetSpanish = np.array([4 for i in range(df_spanish.shape[0])])\n",
    "    \n",
    "    y = np.append(np.append(np.append(targetGerman,targetFrench), targetEnglish), targetSpanish, axis = 0)\n",
    "    \n",
    "    print(\"Shape de X : \" + str(X.shape))\n",
    "    print(\"Shape de y : \" + str(y.shape))\n",
    "    return(X,y)"
   ]
  },
  {
   "cell_type": "code",
   "execution_count": 62,
   "metadata": {},
   "outputs": [
    {
     "name": "stdout",
     "output_type": "stream",
     "text": [
      "Shape de X : (16975, 696)\n",
      "Shape de y : (16975,)\n"
     ]
    }
   ],
   "source": [
    "X,y = BuildFeatureAndTargetAll()"
   ]
  },
  {
   "cell_type": "markdown",
   "metadata": {},
   "source": [
    "### Séparation entre Train et Test"
   ]
  },
  {
   "cell_type": "markdown",
   "metadata": {},
   "source": [
    "On prend 80% des données pour le train et 20% pour le test"
   ]
  },
  {
   "cell_type": "code",
   "execution_count": 63,
   "metadata": {},
   "outputs": [
    {
     "name": "stdout",
     "output_type": "stream",
     "text": [
      "Taille de X_train : (13580, 696)\n",
      "Taille de y_Train : (13580,)\n",
      "Taille de X_test : (3395, 696)\n",
      "Taille de y_Test : (3395,)\n"
     ]
    }
   ],
   "source": [
    "X_Train, X_Test, y_Train, y_Test = train_test_split(X, y, test_size=0.2, random_state=123)\n",
    "print(\"Taille de X_train : \" + str(X_Train.shape))\n",
    "print(\"Taille de y_Train : \" + str(y_Train.shape))\n",
    "print(\"Taille de X_test : \" + str(X_Test.shape))\n",
    "print(\"Taille de y_Test : \" + str(y_Test.shape))"
   ]
  },
  {
   "cell_type": "markdown",
   "metadata": {},
   "source": [
    "## Approche One vs All"
   ]
  },
  {
   "cell_type": "markdown",
   "metadata": {},
   "source": [
    "L'approche One vs All consiste à considérer 4 classifieurs qui permettent de tester chaque classe contre toutes les autres"
   ]
  },
  {
   "cell_type": "markdown",
   "metadata": {},
   "source": [
    "### Modèle Régression logistique"
   ]
  },
  {
   "cell_type": "markdown",
   "metadata": {},
   "source": [
    "Le modèle que nous utilisons est une régression logistique dans l'approche One vs All avec optimisation de l'hyperparamètre de la régression logistique. "
   ]
  },
  {
   "cell_type": "code",
   "execution_count": 64,
   "metadata": {},
   "outputs": [
    {
     "name": "stderr",
     "output_type": "stream",
     "text": [
      "C:\\Users\\bigdata\\Anaconda3\\lib\\site-packages\\sklearn\\linear_model\\logistic.py:432: FutureWarning: Default solver will be changed to 'lbfgs' in 0.22. Specify a solver to silence this warning.\n",
      "  FutureWarning)\n",
      "C:\\Users\\bigdata\\Anaconda3\\lib\\site-packages\\sklearn\\linear_model\\logistic.py:432: FutureWarning: Default solver will be changed to 'lbfgs' in 0.22. Specify a solver to silence this warning.\n",
      "  FutureWarning)\n",
      "C:\\Users\\bigdata\\Anaconda3\\lib\\site-packages\\sklearn\\linear_model\\logistic.py:432: FutureWarning: Default solver will be changed to 'lbfgs' in 0.22. Specify a solver to silence this warning.\n",
      "  FutureWarning)\n",
      "C:\\Users\\bigdata\\Anaconda3\\lib\\site-packages\\sklearn\\linear_model\\logistic.py:432: FutureWarning: Default solver will be changed to 'lbfgs' in 0.22. Specify a solver to silence this warning.\n",
      "  FutureWarning)\n"
     ]
    },
    {
     "data": {
      "text/plain": [
       "GridSearchCV(cv=5, error_score='raise-deprecating',\n",
       "             estimator=OneVsRestClassifier(estimator=LogisticRegression(C=1.0,\n",
       "                                                                        class_weight=None,\n",
       "                                                                        dual=False,\n",
       "                                                                        fit_intercept=True,\n",
       "                                                                        intercept_scaling=1,\n",
       "                                                                        l1_ratio=None,\n",
       "                                                                        max_iter=100,\n",
       "                                                                        multi_class='warn',\n",
       "                                                                        n_jobs=None,\n",
       "                                                                        penalty='l2',\n",
       "                                                                        random_state=None,\n",
       "                                                                        solver='warn',\n",
       "                                                                        tol=0.0001,\n",
       "                                                                        verbose=0,\n",
       "                                                                        warm_start=False),\n",
       "                                           n_jobs=None),\n",
       "             iid='warn', n_jobs=-1,\n",
       "             param_grid={'estimator__C': array([1.e-05, 1.e-04, 1.e-03, 1.e-02, 1.e-01, 1.e+00, 1.e+01, 1.e+02,\n",
       "       1.e+03, 1.e+04, 1.e+05])},\n",
       "             pre_dispatch='2*n_jobs', refit=True, return_train_score=True,\n",
       "             scoring='accuracy', verbose=0)"
      ]
     },
     "execution_count": 64,
     "metadata": {},
     "output_type": "execute_result"
    }
   ],
   "source": [
    "from sklearn.multiclass import OneVsRestClassifier\n",
    "from sklearn.model_selection import GridSearchCV\n",
    "from sklearn.linear_model import LogisticRegression\n",
    "\n",
    "# grille de valeurs\n",
    "modele = OneVsRestClassifier(LogisticRegression())\n",
    "\n",
    "params = {\"estimator__C\": np.logspace(-5, 5, 11) } \n",
    "model_tunning = GridSearchCV(\n",
    "    estimator = modele,\n",
    "    param_grid= params,\n",
    "    scoring=\"accuracy\",\n",
    "    cv=5,\n",
    "    n_jobs=-1,\n",
    "    return_train_score=True)\n",
    "model_tunning.fit(X_Train,y_Train)"
   ]
  },
  {
   "cell_type": "code",
   "execution_count": 65,
   "metadata": {},
   "outputs": [
    {
     "data": {
      "image/png": "[encoded data removed]",
      "text/plain": [
       "<Figure size 432x288 with 1 Axes>"
      ]
     },
     "metadata": {
      "needs_background": "light"
     },
     "output_type": "display_data"
    }
   ],
   "source": [
    "df_OnevsAll_LogisticRegression_CV_results = pd.DataFrame(model_tunning.cv_results_)\n",
    "df_OnevsAll_LogisticRegression_CV_results.set_index([\"param_estimator__C\"])[[\"mean_test_score\",\n",
    "                                      \"mean_train_score\"]].plot(\n",
    "                                          kind=\"bar\", ylim=(0.99, 1))\n",
    "plt.ylabel(\"Accuracy\")\n",
    "plt.title(\"Accuracy en fonction du paramètre C de la classification multiclasse par Régression Logistique\")\n",
    "plt.legend(loc=\"lower right\")\n",
    "plt.show()"
   ]
  },
  {
   "cell_type": "code",
   "execution_count": 66,
   "metadata": {},
   "outputs": [
    {
     "name": "stdout",
     "output_type": "stream",
     "text": [
      "Best C parameter pour Regression Logistique multiclasse : \n",
      "{'estimator__C': 0.1}\n"
     ]
    }
   ],
   "source": [
    "print(\"Best C parameter pour Regression Logistique multiclasse : \")\n",
    "print(model_tunning.best_params_)"
   ]
  },
  {
   "cell_type": "code",
   "execution_count": 67,
   "metadata": {},
   "outputs": [
    {
     "name": "stdout",
     "output_type": "stream",
     "text": [
      "Score sur le test :  1.0\n"
     ]
    }
   ],
   "source": [
    "print(\"Score sur le test : \", model_tunning.score(X_Test,y_Test))"
   ]
  },
  {
   "cell_type": "code",
   "execution_count": 68,
   "metadata": {},
   "outputs": [
    {
     "data": {
      "text/plain": [
       "array([[851,   0,   0,   0],\n",
       "       [  0, 843,   0,   0],\n",
       "       [  0,   0, 833,   0],\n",
       "       [  0,   0,   0, 868]], dtype=int64)"
      ]
     },
     "execution_count": 68,
     "metadata": {},
     "output_type": "execute_result"
    }
   ],
   "source": [
    "y_TestPredicted = model_tunning.predict(X_Test)\n",
    "confusion_matrix(y_Test, y_TestPredicted)"
   ]
  },
  {
   "cell_type": "markdown",
   "metadata": {},
   "source": [
    "100% des langues sont bien classifiées suite à optimisation de l'hyperparamètre !"
   ]
  },
  {
   "cell_type": "markdown",
   "metadata": {},
   "source": [
    "### Modèle SVM linéaire après réduction de la dimension"
   ]
  },
  {
   "cell_type": "markdown",
   "metadata": {},
   "source": [
    "#### Visualisation des données via PCA"
   ]
  },
  {
   "cell_type": "code",
   "execution_count": 69,
   "metadata": {},
   "outputs": [
    {
     "name": "stdout",
     "output_type": "stream",
     "text": [
      "Shape de départ : (16975, 696)\n",
      "Shape après PCA : (16975, 3)\n"
     ]
    }
   ],
   "source": [
    "from sklearn.preprocessing import StandardScaler\n",
    "from sklearn.decomposition import PCA\n",
    "\n",
    "#Normalisation des données : centrage et réduction\n",
    "scaler = StandardScaler()\n",
    "X_scaled = scaler.fit_transform(X)\n",
    "\n",
    "#Application de la PCA\n",
    "pca = PCA(n_components=3, random_state=0)\n",
    "pca.fit(X_scaled)\n",
    "X_pca = pca.transform(X_scaled)\n",
    "\n",
    "print(\"Shape de départ : {}\".format(str(X_scaled.shape)))\n",
    "print(\"Shape après PCA : {}\".format(str(X_pca.shape)))"
   ]
  },
  {
   "cell_type": "code",
   "execution_count": 70,
   "metadata": {},
   "outputs": [
    {
     "data": {
      "image/png": "[encoded data removed]",
      "text/plain": [
       "<Figure size 432x288 with 1 Axes>"
      ]
     },
     "metadata": {
      "needs_background": "light"
     },
     "output_type": "display_data"
    },
    {
     "name": "stdout",
     "output_type": "stream",
     "text": [
      "[0.10433837 0.071035   0.0539544 ]\n"
     ]
    }
   ],
   "source": [
    "import matplotlib.pyplot as plt\n",
    "plt.bar(range(1, pca.n_components_ + 1),  pca.explained_variance_ratio_)\n",
    "plt.xlabel('Principal component #')\n",
    "plt.ylabel('Proportion of variance explained')\n",
    "plt.show()\n",
    "print(pca.explained_variance_ratio_)"
   ]
  },
  {
   "cell_type": "code",
   "execution_count": 71,
   "metadata": {},
   "outputs": [
    {
     "data": {
      "image/png": "[encoded data removed]",
      "text/plain": [
       "<Figure size 432x288 with 1 Axes>"
      ]
     },
     "metadata": {
      "needs_background": "light"
     },
     "output_type": "display_data"
    }
   ],
   "source": [
    "import matplotlib.pyplot as plt\n",
    "# 3D visualization\n",
    "import pylab\n",
    "from mpl_toolkits.mplot3d import Axes3D\n",
    "from matplotlib import pyplot\n",
    "fig = pylab.figure(1)\n",
    "ax = Axes3D(fig)\n",
    "size_vertex_plot = 50\n",
    "ax.scatter(X_pca[:,0],X_pca[:,1],X_pca[:,2], s=10, c=y)\n",
    "ax.set_xlabel('First Component')\n",
    "ax.set_ylabel('Second Component')\n",
    "ax.set_zlabel('Third Component')\n",
    "plt.title('ACP with 3 components') \n",
    "pyplot.show() "
   ]
  },
  {
   "cell_type": "markdown",
   "metadata": {},
   "source": [
    "Les quatres langues semblent assez distinctes suite à une ACP expliquant 22% de la variance sur les 3 premières composantes."
   ]
  },
  {
   "cell_type": "markdown",
   "metadata": {},
   "source": [
    "#### Application d'un SVM linéaire suite à réduction de la dimension après PCA"
   ]
  },
  {
   "cell_type": "code",
   "execution_count": 72,
   "metadata": {},
   "outputs": [
    {
     "data": {
      "text/plain": [
       "GridSearchCV(cv=5, error_score='raise-deprecating',\n",
       "             estimator=OneVsRestClassifier(estimator=SVC(C=1.0, cache_size=200,\n",
       "                                                         class_weight=None,\n",
       "                                                         coef0=0.0,\n",
       "                                                         decision_function_shape='ovr',\n",
       "                                                         degree=3,\n",
       "                                                         gamma='auto_deprecated',\n",
       "                                                         kernel='linear',\n",
       "                                                         max_iter=-1,\n",
       "                                                         probability=False,\n",
       "                                                         random_state=None,\n",
       "                                                         shrinking=True,\n",
       "                                                         tol=0.001,\n",
       "                                                         verbose=False),\n",
       "                                           n_jobs=None),\n",
       "             iid='warn', n_jobs=-1,\n",
       "             param_grid={'estimator__C': array([1.e-05, 1.e-04, 1.e-03, 1.e-02, 1.e-01, 1.e+00, 1.e+01, 1.e+02,\n",
       "       1.e+03, 1.e+04, 1.e+05])},\n",
       "             pre_dispatch='2*n_jobs', refit=True, return_train_score=True,\n",
       "             scoring='accuracy', verbose=0)"
      ]
     },
     "execution_count": 72,
     "metadata": {},
     "output_type": "execute_result"
    }
   ],
   "source": [
    "scaler = StandardScaler()\n",
    "X_Train_scaled = scaler.fit_transform(X_Train)\n",
    "\n",
    "#Application de la PCA\n",
    "pca = PCA(n_components=3, random_state=0)\n",
    "pca.fit(X_Train_scaled)\n",
    "X_pca_Train = pca.transform(X_Train_scaled)\n",
    "\n",
    "modele = OneVsRestClassifier(SVC(kernel='linear'))\n",
    "\n",
    "params = {\"estimator__C\": np.logspace(-5, 5, 11) } \n",
    "model_tunning = GridSearchCV(\n",
    "    estimator = modele,\n",
    "    param_grid= params,\n",
    "    scoring=\"accuracy\",\n",
    "    cv=5,\n",
    "    n_jobs=-1,\n",
    "    return_train_score=True)\n",
    "model_tunning.fit(X_pca_Train,y_Train)"
   ]
  },
  {
   "cell_type": "code",
   "execution_count": 73,
   "metadata": {},
   "outputs": [
    {
     "data": {
      "image/png": "[encoded data removed]",
      "text/plain": [
       "<Figure size 432x288 with 1 Axes>"
      ]
     },
     "metadata": {
      "needs_background": "light"
     },
     "output_type": "display_data"
    }
   ],
   "source": [
    "df_OnevsAll_SVMWithPCA_CV_results = pd.DataFrame(model_tunning.cv_results_)\n",
    "df_OnevsAll_SVMWithPCA_CV_results.set_index([\"param_estimator__C\"])[[\"mean_test_score\",\n",
    "                                      \"mean_train_score\"]].plot(\n",
    "                                          kind=\"bar\", ylim=(0.99, 1))\n",
    "plt.ylabel(\"Accuracy\")\n",
    "plt.title(\"Accuracy en fonction du paramètre C de la classification multiclasse par SVM linéaire\")\n",
    "plt.legend(loc=\"lower right\")\n",
    "plt.show()"
   ]
  },
  {
   "cell_type": "code",
   "execution_count": 74,
   "metadata": {},
   "outputs": [
    {
     "name": "stdout",
     "output_type": "stream",
     "text": [
      "Best C parameter pour SVM linéaire multiclasse : \n",
      "{'estimator__C': 10.0}\n"
     ]
    }
   ],
   "source": [
    "print(\"Best C parameter pour SVM linéaire multiclasse : \")\n",
    "print(model_tunning.best_params_)"
   ]
  },
  {
   "cell_type": "code",
   "execution_count": 75,
   "metadata": {},
   "outputs": [
    {
     "name": "stdout",
     "output_type": "stream",
     "text": [
      "Score sur le test :  0.9997054491899853\n"
     ]
    }
   ],
   "source": [
    "X_Test_scaled = scaler.transform(X_Test)\n",
    "X_pca_Test = pca.transform(X_Test_scaled)\n",
    "print(\"Score sur le test : \", model_tunning.score(X_pca_Test,y_Test))"
   ]
  },
  {
   "cell_type": "code",
   "execution_count": 76,
   "metadata": {},
   "outputs": [
    {
     "data": {
      "text/plain": [
       "array([[851,   0,   0,   0],\n",
       "       [  1, 842,   0,   0],\n",
       "       [  0,   0, 833,   0],\n",
       "       [  0,   0,   0, 868]], dtype=int64)"
      ]
     },
     "execution_count": 76,
     "metadata": {},
     "output_type": "execute_result"
    }
   ],
   "source": [
    "y_TestPredicted = model_tunning.predict(X_pca_Test)\n",
    "confusion_matrix(y_Test, y_TestPredicted)"
   ]
  },
  {
   "cell_type": "markdown",
   "metadata": {},
   "source": [
    "La classification multiclasse en effectuant au préalable une réduction de dimension au trois premières composantes principales avec un SVM linéaire permet aussi d'avoir des résultats très bons."
   ]
  },
  {
   "cell_type": "markdown",
   "metadata": {},
   "source": [
    "## Approche Classification 2 à 2"
   ]
  },
  {
   "cell_type": "markdown",
   "metadata": {},
   "source": [
    "Dans le cas présent, on entraine 6 classifieurs en faisant des comparaisons 2 à 2 entre les langues."
   ]
  },
  {
   "cell_type": "markdown",
   "metadata": {},
   "source": [
    "### Modèle de régression logistique"
   ]
  },
  {
   "cell_type": "code",
   "execution_count": 77,
   "metadata": {},
   "outputs": [
    {
     "name": "stderr",
     "output_type": "stream",
     "text": [
      "C:\\Users\\bigdata\\Anaconda3\\lib\\site-packages\\sklearn\\linear_model\\logistic.py:432: FutureWarning: Default solver will be changed to 'lbfgs' in 0.22. Specify a solver to silence this warning.\n",
      "  FutureWarning)\n",
      "C:\\Users\\bigdata\\Anaconda3\\lib\\site-packages\\sklearn\\linear_model\\logistic.py:432: FutureWarning: Default solver will be changed to 'lbfgs' in 0.22. Specify a solver to silence this warning.\n",
      "  FutureWarning)\n",
      "C:\\Users\\bigdata\\Anaconda3\\lib\\site-packages\\sklearn\\linear_model\\logistic.py:432: FutureWarning: Default solver will be changed to 'lbfgs' in 0.22. Specify a solver to silence this warning.\n",
      "  FutureWarning)\n",
      "C:\\Users\\bigdata\\Anaconda3\\lib\\site-packages\\sklearn\\linear_model\\logistic.py:432: FutureWarning: Default solver will be changed to 'lbfgs' in 0.22. Specify a solver to silence this warning.\n",
      "  FutureWarning)\n",
      "C:\\Users\\bigdata\\Anaconda3\\lib\\site-packages\\sklearn\\linear_model\\logistic.py:432: FutureWarning: Default solver will be changed to 'lbfgs' in 0.22. Specify a solver to silence this warning.\n",
      "  FutureWarning)\n",
      "C:\\Users\\bigdata\\Anaconda3\\lib\\site-packages\\sklearn\\linear_model\\logistic.py:432: FutureWarning: Default solver will be changed to 'lbfgs' in 0.22. Specify a solver to silence this warning.\n",
      "  FutureWarning)\n"
     ]
    },
    {
     "data": {
      "text/plain": [
       "GridSearchCV(cv=5, error_score='raise-deprecating',\n",
       "             estimator=OneVsOneClassifier(estimator=LogisticRegression(C=1.0,\n",
       "                                                                       class_weight=None,\n",
       "                                                                       dual=False,\n",
       "                                                                       fit_intercept=True,\n",
       "                                                                       intercept_scaling=1,\n",
       "                                                                       l1_ratio=None,\n",
       "                                                                       max_iter=100,\n",
       "                                                                       multi_class='warn',\n",
       "                                                                       n_jobs=None,\n",
       "                                                                       penalty='l2',\n",
       "                                                                       random_state=None,\n",
       "                                                                       solver='warn',\n",
       "                                                                       tol=0.0001,\n",
       "                                                                       verbose=0,\n",
       "                                                                       warm_start=False),\n",
       "                                          n_jobs=None),\n",
       "             iid='warn', n_jobs=-1,\n",
       "             param_grid={'estimator__C': array([1.e-05, 1.e-04, 1.e-03, 1.e-02, 1.e-01, 1.e+00, 1.e+01, 1.e+02,\n",
       "       1.e+03, 1.e+04, 1.e+05])},\n",
       "             pre_dispatch='2*n_jobs', refit=True, return_train_score=True,\n",
       "             scoring='accuracy', verbose=0)"
      ]
     },
     "execution_count": 77,
     "metadata": {},
     "output_type": "execute_result"
    }
   ],
   "source": [
    "from sklearn.multiclass import OneVsOneClassifier\n",
    "from sklearn.model_selection import GridSearchCV\n",
    "from sklearn.linear_model import LogisticRegression\n",
    "\n",
    "# grille de valeurs\n",
    "modele = OneVsOneClassifier(LogisticRegression())\n",
    "\n",
    "params = {\"estimator__C\": np.logspace(-5, 5, 11) } \n",
    "model_tunning = GridSearchCV(\n",
    "    estimator = modele,\n",
    "    param_grid= params,\n",
    "    scoring=\"accuracy\",\n",
    "    cv=5,\n",
    "    n_jobs=-1,\n",
    "    return_train_score=True)\n",
    "model_tunning.fit(X_Train,y_Train)"
   ]
  },
  {
   "cell_type": "code",
   "execution_count": 78,
   "metadata": {},
   "outputs": [
    {
     "data": {
      "image/png": "[encoded data removed]",
      "text/plain": [
       "<Figure size 432x288 with 1 Axes>"
      ]
     },
     "metadata": {
      "needs_background": "light"
     },
     "output_type": "display_data"
    }
   ],
   "source": [
    "df_OnevsOne_LogisticRegression_CV_results = pd.DataFrame(model_tunning.cv_results_)\n",
    "df_OnevsOne_LogisticRegression_CV_results.set_index([\"param_estimator__C\"])[[\"mean_test_score\",\n",
    "                                      \"mean_train_score\"]].plot(\n",
    "                                          kind=\"bar\", ylim=(0.99, 1))\n",
    "plt.ylabel(\"Accuracy\")\n",
    "plt.title(\"Accuracy en fonction du paramètre C de la classification multiclasse par Régression Logistique\")\n",
    "plt.legend(loc=\"lower right\")\n",
    "plt.show()"
   ]
  },
  {
   "cell_type": "code",
   "execution_count": 79,
   "metadata": {},
   "outputs": [
    {
     "name": "stdout",
     "output_type": "stream",
     "text": [
      "Best C parameter pour Regression Logistique multiclasse : \n",
      "{'estimator__C': 1.0}\n"
     ]
    }
   ],
   "source": [
    "print(\"Best C parameter pour Regression Logistique multiclasse : \")\n",
    "print(model_tunning.best_params_)"
   ]
  },
  {
   "cell_type": "code",
   "execution_count": 80,
   "metadata": {},
   "outputs": [
    {
     "name": "stdout",
     "output_type": "stream",
     "text": [
      "Score sur le test :  1.0\n"
     ]
    }
   ],
   "source": [
    "print(\"Score sur le test : \", model_tunning.score(X_Test,y_Test))"
   ]
  },
  {
   "cell_type": "code",
   "execution_count": 81,
   "metadata": {},
   "outputs": [
    {
     "data": {
      "text/plain": [
       "array([[851,   0,   0,   0],\n",
       "       [  0, 843,   0,   0],\n",
       "       [  0,   0, 833,   0],\n",
       "       [  0,   0,   0, 868]], dtype=int64)"
      ]
     },
     "execution_count": 81,
     "metadata": {},
     "output_type": "execute_result"
    }
   ],
   "source": [
    "y_TestPredicted = model_tunning.predict(X_Test)\n",
    "confusion_matrix(y_Test, y_TestPredicted)"
   ]
  },
  {
   "cell_type": "markdown",
   "metadata": {},
   "source": [
    "### Modèle SVM linéaire après réduction de la dimension"
   ]
  },
  {
   "cell_type": "code",
   "execution_count": 82,
   "metadata": {},
   "outputs": [
    {
     "data": {
      "text/plain": [
       "GridSearchCV(cv=5, error_score='raise-deprecating',\n",
       "             estimator=OneVsOneClassifier(estimator=SVC(C=1.0, cache_size=200,\n",
       "                                                        class_weight=None,\n",
       "                                                        coef0=0.0,\n",
       "                                                        decision_function_shape='ovr',\n",
       "                                                        degree=3,\n",
       "                                                        gamma='auto_deprecated',\n",
       "                                                        kernel='linear',\n",
       "                                                        max_iter=-1,\n",
       "                                                        probability=False,\n",
       "                                                        random_state=None,\n",
       "                                                        shrinking=True,\n",
       "                                                        tol=0.001,\n",
       "                                                        verbose=False),\n",
       "                                          n_jobs=None),\n",
       "             iid='warn', n_jobs=-1,\n",
       "             param_grid={'estimator__C': array([1.e-05, 1.e-04, 1.e-03, 1.e-02, 1.e-01, 1.e+00, 1.e+01, 1.e+02,\n",
       "       1.e+03, 1.e+04, 1.e+05])},\n",
       "             pre_dispatch='2*n_jobs', refit=True, return_train_score=True,\n",
       "             scoring='accuracy', verbose=0)"
      ]
     },
     "execution_count": 82,
     "metadata": {},
     "output_type": "execute_result"
    }
   ],
   "source": [
    "modele = OneVsOneClassifier(SVC(kernel='linear'))\n",
    "\n",
    "params = {\"estimator__C\": np.logspace(-5, 5, 11) } \n",
    "model_tunning = GridSearchCV(\n",
    "    estimator = modele,\n",
    "    param_grid= params,\n",
    "    scoring=\"accuracy\",\n",
    "    cv=5,\n",
    "    n_jobs=-1,\n",
    "    return_train_score=True)\n",
    "model_tunning.fit(X_pca_Train,y_Train)"
   ]
  },
  {
   "cell_type": "code",
   "execution_count": 83,
   "metadata": {},
   "outputs": [
    {
     "data": {
      "image/png": "[encoded data removed]",
      "text/plain": [
       "<Figure size 432x288 with 1 Axes>"
      ]
     },
     "metadata": {
      "needs_background": "light"
     },
     "output_type": "display_data"
    }
   ],
   "source": [
    "df_OnevsOne_SVMWithPCA_CV_results = pd.DataFrame(model_tunning.cv_results_)\n",
    "df_OnevsOne_SVMWithPCA_CV_results.set_index([\"param_estimator__C\"])[[\"mean_test_score\",\n",
    "                                      \"mean_train_score\"]].plot(\n",
    "                                          kind=\"bar\", ylim=(0.99, 1))\n",
    "plt.ylabel(\"Accuracy\")\n",
    "plt.title(\"Accuracy en fonction du paramètre C de la classification multiclasse par SVM linéaire\")\n",
    "plt.legend(loc=\"lower right\")\n",
    "plt.show()"
   ]
  },
  {
   "cell_type": "code",
   "execution_count": 84,
   "metadata": {},
   "outputs": [
    {
     "name": "stdout",
     "output_type": "stream",
     "text": [
      "Best C parameter pour SVM linéaire multiclasse : \n",
      "{'estimator__C': 10.0}\n"
     ]
    }
   ],
   "source": [
    "print(\"Best C parameter pour SVM linéaire multiclasse : \")\n",
    "print(model_tunning.best_params_)"
   ]
  },
  {
   "cell_type": "code",
   "execution_count": 85,
   "metadata": {},
   "outputs": [
    {
     "name": "stdout",
     "output_type": "stream",
     "text": [
      "Score sur le test :  1.0\n"
     ]
    }
   ],
   "source": [
    "print(\"Score sur le test : \", model_tunning.score(X_pca_Test,y_Test))"
   ]
  },
  {
   "cell_type": "code",
   "execution_count": 86,
   "metadata": {},
   "outputs": [
    {
     "data": {
      "text/plain": [
       "array([[851,   0,   0,   0],\n",
       "       [  0, 843,   0,   0],\n",
       "       [  0,   0, 833,   0],\n",
       "       [  0,   0,   0, 868]], dtype=int64)"
      ]
     },
     "execution_count": 86,
     "metadata": {},
     "output_type": "execute_result"
    }
   ],
   "source": [
    "y_TestPredicted = model_tunning.predict(X_pca_Test)\n",
    "confusion_matrix(y_Test, y_TestPredicted)"
   ]
  },
  {
   "cell_type": "markdown",
   "metadata": {},
   "source": [
    "Aux vues des résultats, la méthode OnevsAll semble à privilégier car OnevsOne est extrêmement calculatoire. Par contre, la réduction de dimension dans le cas présent peut être une bonne solution car l'impact sur les résultats finaux est faible voir négligeable."
   ]
  },
  {
   "cell_type": "markdown",
   "metadata": {},
   "source": [
    "# Conclusion générale"
   ]
  },
  {
   "cell_type": "markdown",
   "metadata": {},
   "source": [
    "* Les différentes méthodes de classification donnent de bon résultats et permettent de classifier avec une très bonne précision le corpus de texte sur base de l'occurence d'une et 2 lettres.\n",
    "* La méthode que je privilégie est une méthode de régression logistique ou SVM linéaire qui peut se faire suite à une réduction de dimension de l'espace initiale.\n",
    "* Dans le cas présent, les approches non linéaires ne semblent pas à considérer\n",
    "* A titre individuel, ce projet m'a permis pour la première fois d'expérimenter la validation croisée et la recherche sur grille pour optimiser les hyperparamètres d'un modèle. L'utilisation de Pylab permet aussi d'avoir des représentations en 3D intéressantes pour la visualisation des données."
   ]
  }
 ],
 "metadata": {
  "kernelspec": {
   "display_name": "Python 3",
   "language": "python",
   "name": "python3"
  },
  "language_info": {
   "codemirror_mode": {
    "name": "ipython",
    "version": 3
   },
   "file_extension": ".py",
   "mimetype": "text/x-python",
   "name": "python",
   "nbconvert_exporter": "python",
   "pygments_lexer": "ipython3",
   "version": "3.7.4"
  }
 },
 "nbformat": 4,
 "nbformat_minor": 2
}
